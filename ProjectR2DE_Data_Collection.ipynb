{
  "nbformat": 4,
  "nbformat_minor": 0,
  "metadata": {
    "colab": {
      "provenance": [],
      "mount_file_id": "1WXK5MN5b69-YNbjv-YC40PIkFservY0E",
      "authorship_tag": "ABX9TyPuORhzGN3azFdNnZDyRK5c"
    },
    "kernelspec": {
      "name": "python3",
      "display_name": "Python 3"
    },
    "language_info": {
      "name": "python"
    }
  },
  "cells": [
    {
      "cell_type": "markdown",
      "metadata": {
        "id": "_3dBXGbWaAEY"
      },
      "source": [
        "***Data Collection : DB & REST API ***\n",
        " \n",
        "\n",
        "*    Input   - Read data from MySQL \n",
        "                - Read data form REST API by Package Request\n",
        "\n",
        "*    Output - All Dataset to \n",
        "\n",
        "\n"
      ]
    },
    {
      "cell_type": "markdown",
      "metadata": {
        "id": "2lZEOtBPdAT2"
      },
      "source": [
        "**Get Data form MYSQL Database**"
      ]
    },
    {
      "cell_type": "code",
      "metadata": {
        "id": "1XZW7MTRdJ8x",
        "colab": {
          "base_uri": "https://localhost:8080/"
        },
        "outputId": "524f9270-3aea-4f33-a435-94aabab30c5d"
      },
      "source": [
        "! pip install pymysql; echo 'hi'      ## Install pymysql"
      ],
      "execution_count": null,
      "outputs": [
        {
          "output_type": "stream",
          "text": [
            "Requirement already satisfied: pymysql in /usr/local/lib/python3.7/dist-packages (1.0.2)\n",
            "hi\n"
          ],
          "name": "stdout"
        }
      ]
    },
    {
      "cell_type": "code",
      "metadata": {
        "id": "WbCyN5wPlgpW"
      },
      "source": [
        "class Config:\n",
        "  MYSQL_HOST = 'db4free.net'\n",
        "  MYSQL_PORT = 3306  #default port MYSQL\n",
        "  MYSQL_USER = gongjun[0].strip()\n",
        "  MYSQL_PASSWORD = gongjun[1].strip()\n",
        "  MYSQL_DB = \"de_ayp\"\n",
        "  MYSQL_CHARSET = 'utf8mb4'      ##Config DB Credential"
      ],
      "execution_count": null,
      "outputs": []
    },
    {
      "cell_type": "code",
      "metadata": {
        "id": "nNJ37eFypCHr"
      },
      "source": [
        "import pymysql.cursors\n",
        "\n",
        "connection = pymysql.connect(host=Config.MYSQL_HOST,\n",
        "                             port=Config.MYSQL_PORT,\n",
        "                             user=Config.MYSQL_USER,\n",
        "                             password=Config.MYSQL_PASSWORD,\n",
        "                             db=Config.MYSQL_DB,\n",
        "                             charset=Config.MYSQL_CHARSET,\n",
        "                             cursorclass=pymysql.cursors.DictCursor)  ##Connect to DB"
      ],
      "execution_count": null,
      "outputs": []
    },
    {
      "cell_type": "code",
      "metadata": {
        "id": "qgpHSNHOv0Q7",
        "colab": {
          "base_uri": "https://localhost:8080/"
        },
        "outputId": "ea5e25e0-4a52-4d14-f060-51b605fc289b"
      },
      "source": [
        "connection"
      ],
      "execution_count": null,
      "outputs": [
        {
          "output_type": "execute_result",
          "data": {
            "text/plain": [
              "<pymysql.connections.Connection at 0x7f33ca1639d0>"
            ]
          },
          "metadata": {
            "tags": []
          },
          "execution_count": 132
        }
      ]
    },
    {
      "cell_type": "code",
      "metadata": {
        "id": "csfPoZGYwzog",
        "colab": {
          "base_uri": "https://localhost:8080/"
        },
        "outputId": "fc7724fc-9f30-4a4f-f94b-9fa4448e18af"
      },
      "source": [
        "cursor = connection.cursor()\n",
        "cursor.execute(\"show tables;\")\n",
        "tables = cursor.fetchall()\n",
        "cursor.close()\n",
        "print(tables)  ##list all tables"
      ],
      "execution_count": null,
      "outputs": [
        {
          "output_type": "stream",
          "text": [
            "[{'Tables_in_de_ayp': 'online_retail'}, {'Tables_in_de_ayp': 'scores'}, {'Tables_in_de_ayp': 'students'}]\n"
          ],
          "name": "stdout"
        }
      ]
    },
    {
      "cell_type": "markdown",
      "metadata": {
        "id": "3W-hW0kKxlc2"
      },
      "source": [
        "**Query Table**"
      ]
    },
    {
      "cell_type": "code",
      "metadata": {
        "id": "rM0qmRZCxq8M",
        "colab": {
          "base_uri": "https://localhost:8080/"
        },
        "outputId": "deb4c1ac-c760-41de-aaed-7ba854cd5704"
      },
      "source": [
        "# used 'with statement' replace 'cursor.close()'\n",
        "#  Query all data from table online_retail \n",
        "\n",
        "with connection.cursor() as cursor:\n",
        "  # Read a single record\n",
        "  sql = \"SELECT * FROM online_retail;\"\n",
        "  cursor.execute(sql)\n",
        "  result = cursor.fetchall()\n",
        "\n",
        "print(\"number of rows: \", len(result))"
      ],
      "execution_count": null,
      "outputs": [
        {
          "output_type": "stream",
          "text": [
            "number of rows:  161331\n"
          ],
          "name": "stdout"
        }
      ]
    },
    {
      "cell_type": "code",
      "metadata": {
        "id": "ZAwsDZmuye64",
        "colab": {
          "base_uri": "https://localhost:8080/"
        },
        "outputId": "5ef3a549-d8b3-4292-f0ab-2a85a371de38"
      },
      "source": [
        "type (result)"
      ],
      "execution_count": null,
      "outputs": [
        {
          "output_type": "execute_result",
          "data": {
            "text/plain": [
              "list"
            ]
          },
          "metadata": {
            "tags": []
          },
          "execution_count": 135
        }
      ]
    },
    {
      "cell_type": "markdown",
      "metadata": {
        "id": "LsQlVwv-yl8O"
      },
      "source": [
        "**Convert to Pandas** "
      ]
    },
    {
      "cell_type": "code",
      "metadata": {
        "id": "-T9sFxpgy81j"
      },
      "source": [
        "import pandas as pd"
      ],
      "execution_count": null,
      "outputs": []
    },
    {
      "cell_type": "code",
      "metadata": {
        "id": "ful18AzbzD58"
      },
      "source": [
        "retail = pd.DataFrame(result)"
      ],
      "execution_count": null,
      "outputs": []
    },
    {
      "cell_type": "code",
      "metadata": {
        "id": "Kl2TkbRszldc",
        "colab": {
          "base_uri": "https://localhost:8080/"
        },
        "outputId": "6e3ba3a3-3bc0-44d1-d4ce-ef9d64a3577e"
      },
      "source": [
        "type(retail)"
      ],
      "execution_count": null,
      "outputs": [
        {
          "output_type": "execute_result",
          "data": {
            "text/plain": [
              "pandas.core.frame.DataFrame"
            ]
          },
          "metadata": {
            "tags": []
          },
          "execution_count": 138
        }
      ]
    },
    {
      "cell_type": "code",
      "metadata": {
        "id": "MxZSemlBzo-2",
        "colab": {
          "base_uri": "https://localhost:8080/",
          "height": 406
        },
        "outputId": "ccda5d57-4c8d-44ec-f5c7-5b99f63ae046"
      },
      "source": [
        "retail"
      ],
      "execution_count": null,
      "outputs": [
        {
          "output_type": "execute_result",
          "data": {
            "text/html": [
              "<div>\n",
              "<style scoped>\n",
              "    .dataframe tbody tr th:only-of-type {\n",
              "        vertical-align: middle;\n",
              "    }\n",
              "\n",
              "    .dataframe tbody tr th {\n",
              "        vertical-align: top;\n",
              "    }\n",
              "\n",
              "    .dataframe thead th {\n",
              "        text-align: right;\n",
              "    }\n",
              "</style>\n",
              "<table border=\"1\" class=\"dataframe\">\n",
              "  <thead>\n",
              "    <tr style=\"text-align: right;\">\n",
              "      <th></th>\n",
              "      <th>InvoiceNo</th>\n",
              "      <th>StockCode</th>\n",
              "      <th>Description</th>\n",
              "      <th>Quantity</th>\n",
              "      <th>InvoiceDate</th>\n",
              "      <th>UnitPrice</th>\n",
              "      <th>CustomerID</th>\n",
              "      <th>Country</th>\n",
              "    </tr>\n",
              "  </thead>\n",
              "  <tbody>\n",
              "    <tr>\n",
              "      <th>0</th>\n",
              "      <td>536365</td>\n",
              "      <td>85123A</td>\n",
              "      <td>WHITE HANGING HEART T-LIGHT HOLDER</td>\n",
              "      <td>6</td>\n",
              "      <td>1/12/2018 08:26</td>\n",
              "      <td>2.55</td>\n",
              "      <td>17850.0</td>\n",
              "      <td>United Kingdom</td>\n",
              "    </tr>\n",
              "    <tr>\n",
              "      <th>1</th>\n",
              "      <td>536365</td>\n",
              "      <td>71053</td>\n",
              "      <td>WHITE METAL LANTERN</td>\n",
              "      <td>6</td>\n",
              "      <td>1/12/2018 08:26</td>\n",
              "      <td>3.39</td>\n",
              "      <td>17850.0</td>\n",
              "      <td>United Kingdom</td>\n",
              "    </tr>\n",
              "    <tr>\n",
              "      <th>2</th>\n",
              "      <td>536365</td>\n",
              "      <td>84406B</td>\n",
              "      <td>CREAM CUPID HEARTS COAT HANGER</td>\n",
              "      <td>8</td>\n",
              "      <td>1/12/2018 08:26</td>\n",
              "      <td>2.75</td>\n",
              "      <td>17850.0</td>\n",
              "      <td>United Kingdom</td>\n",
              "    </tr>\n",
              "    <tr>\n",
              "      <th>3</th>\n",
              "      <td>536365</td>\n",
              "      <td>84029G</td>\n",
              "      <td>KNITTED UNION FLAG HOT WATER BOTTLE</td>\n",
              "      <td>6</td>\n",
              "      <td>1/12/2018 08:26</td>\n",
              "      <td>3.39</td>\n",
              "      <td>17850.0</td>\n",
              "      <td>United Kingdom</td>\n",
              "    </tr>\n",
              "    <tr>\n",
              "      <th>4</th>\n",
              "      <td>536365</td>\n",
              "      <td>84029E</td>\n",
              "      <td>RED WOOLLY HOTTIE WHITE HEART.</td>\n",
              "      <td>6</td>\n",
              "      <td>1/12/2018 08:26</td>\n",
              "      <td>3.39</td>\n",
              "      <td>17850.0</td>\n",
              "      <td>United Kingdom</td>\n",
              "    </tr>\n",
              "    <tr>\n",
              "      <th>...</th>\n",
              "      <td>...</td>\n",
              "      <td>...</td>\n",
              "      <td>...</td>\n",
              "      <td>...</td>\n",
              "      <td>...</td>\n",
              "      <td>...</td>\n",
              "      <td>...</td>\n",
              "      <td>...</td>\n",
              "    </tr>\n",
              "    <tr>\n",
              "      <th>161326</th>\n",
              "      <td>550638</td>\n",
              "      <td>22960</td>\n",
              "      <td>JAM MAKING SET WITH JARS</td>\n",
              "      <td>1</td>\n",
              "      <td>19/4/2019 15:44</td>\n",
              "      <td>8.29</td>\n",
              "      <td>NaN</td>\n",
              "      <td>United Kingdom</td>\n",
              "    </tr>\n",
              "    <tr>\n",
              "      <th>161327</th>\n",
              "      <td>550638</td>\n",
              "      <td>22961</td>\n",
              "      <td>JAM MAKING SET PRINTED</td>\n",
              "      <td>1</td>\n",
              "      <td>19/4/2019 15:44</td>\n",
              "      <td>1.45</td>\n",
              "      <td>NaN</td>\n",
              "      <td>United Kingdom</td>\n",
              "    </tr>\n",
              "    <tr>\n",
              "      <th>161328</th>\n",
              "      <td>550638</td>\n",
              "      <td>22978</td>\n",
              "      <td>PANTRY ROLLING PIN</td>\n",
              "      <td>1</td>\n",
              "      <td>19/4/2019 15:44</td>\n",
              "      <td>7.46</td>\n",
              "      <td>NaN</td>\n",
              "      <td>United Kingdom</td>\n",
              "    </tr>\n",
              "    <tr>\n",
              "      <th>161329</th>\n",
              "      <td>550638</td>\n",
              "      <td>22982</td>\n",
              "      <td>PANTRY PASTRY BRUSH</td>\n",
              "      <td>1</td>\n",
              "      <td>19/4/2019 15:44</td>\n",
              "      <td>2.46</td>\n",
              "      <td>NaN</td>\n",
              "      <td>United Kingdom</td>\n",
              "    </tr>\n",
              "    <tr>\n",
              "      <th>161330</th>\n",
              "      <td>550638</td>\n",
              "      <td>23193</td>\n",
              "      <td>BUFFALO BILL TREASURE BOOK BOX</td>\n",
              "      <td>1</td>\n",
              "      <td>19/4/2019 15:44</td>\n",
              "      <td>4.58</td>\n",
              "      <td>NaN</td>\n",
              "      <td>United Kingdom</td>\n",
              "    </tr>\n",
              "  </tbody>\n",
              "</table>\n",
              "<p>161331 rows × 8 columns</p>\n",
              "</div>"
            ],
            "text/plain": [
              "        InvoiceNo StockCode  ... CustomerID         Country\n",
              "0          536365    85123A  ...    17850.0  United Kingdom\n",
              "1          536365     71053  ...    17850.0  United Kingdom\n",
              "2          536365    84406B  ...    17850.0  United Kingdom\n",
              "3          536365    84029G  ...    17850.0  United Kingdom\n",
              "4          536365    84029E  ...    17850.0  United Kingdom\n",
              "...           ...       ...  ...        ...             ...\n",
              "161326     550638     22960  ...        NaN  United Kingdom\n",
              "161327     550638     22961  ...        NaN  United Kingdom\n",
              "161328     550638     22978  ...        NaN  United Kingdom\n",
              "161329     550638     22982  ...        NaN  United Kingdom\n",
              "161330     550638     23193  ...        NaN  United Kingdom\n",
              "\n",
              "[161331 rows x 8 columns]"
            ]
          },
          "metadata": {
            "tags": []
          },
          "execution_count": 139
        }
      ]
    },
    {
      "cell_type": "markdown",
      "metadata": {
        "id": "P_h-E0dsz8IW"
      },
      "source": [
        "**Get data from REST API**"
      ]
    },
    {
      "cell_type": "code",
      "metadata": {
        "id": "4a-pLHt613SX"
      },
      "source": [
        "##Offline dont forgot Install: pip install requests \n",
        "##But Colab pre-install already "
      ],
      "execution_count": null,
      "outputs": []
    },
    {
      "cell_type": "code",
      "metadata": {
        "id": "YWVShgnx0Gli"
      },
      "source": [
        "import requests  "
      ],
      "execution_count": null,
      "outputs": []
    },
    {
      "cell_type": "code",
      "metadata": {
        "id": "Pz4COLCW-EEe"
      },
      "source": [
        "url = \"https://de-training-2020-7au6fmnprq-de.a.run.app/currency_gbp/all\"\n",
        "\n",
        "response = requests.get(url)\n",
        "response.text"
      ],
      "execution_count": null,
      "outputs": []
    },
    {
      "cell_type": "code",
      "metadata": {
        "id": "YVBmhWy4-P8t"
      },
      "source": [
        "response.json()"
      ],
      "execution_count": null,
      "outputs": []
    },
    {
      "cell_type": "code",
      "metadata": {
        "id": "hx1pIH_s-guV",
        "colab": {
          "base_uri": "https://localhost:8080/"
        },
        "outputId": "93527045-54de-4282-f868-922b69c8d744"
      },
      "source": [
        "type(response.text)"
      ],
      "execution_count": null,
      "outputs": [
        {
          "output_type": "execute_result",
          "data": {
            "text/plain": [
              "str"
            ]
          },
          "metadata": {
            "tags": []
          },
          "execution_count": 143
        }
      ]
    },
    {
      "cell_type": "markdown",
      "metadata": {
        "id": "TjLeTt9e_Agu"
      },
      "source": [
        "**JSON loading**"
      ]
    },
    {
      "cell_type": "code",
      "metadata": {
        "id": "gmVy_1ov_qXc"
      },
      "source": [
        "## JSON show str, so convert str to dictionary\n",
        "## By import json (built-in package)"
      ],
      "execution_count": null,
      "outputs": []
    },
    {
      "cell_type": "code",
      "metadata": {
        "id": "3SUeUCQA-7MP"
      },
      "source": [
        "import json"
      ],
      "execution_count": null,
      "outputs": []
    },
    {
      "cell_type": "code",
      "metadata": {
        "id": "wpf5G8XL_JnB"
      },
      "source": [
        "? json   ##help for found package "
      ],
      "execution_count": null,
      "outputs": []
    },
    {
      "cell_type": "code",
      "metadata": {
        "id": "_p2PKF7oAx6k"
      },
      "source": [
        "result = response.json()\n",
        "result"
      ],
      "execution_count": null,
      "outputs": []
    },
    {
      "cell_type": "code",
      "metadata": {
        "id": "x1BfdtAPA-mh"
      },
      "source": [
        "result_conversion_rate = json.loads(response.text)\n",
        "result_conversion_rate"
      ],
      "execution_count": null,
      "outputs": []
    },
    {
      "cell_type": "code",
      "metadata": {
        "id": "1awACVKcB_vw",
        "colab": {
          "base_uri": "https://localhost:8080/"
        },
        "outputId": "d5f3a154-22d7-41af-e8a3-e663aa526de1"
      },
      "source": [
        "print(type(result_conversion_rate))\n",
        "assert isinstance(result_conversion_rate, dict)"
      ],
      "execution_count": null,
      "outputs": [
        {
          "output_type": "stream",
          "text": [
            "<class 'dict'>\n"
          ],
          "name": "stdout"
        }
      ]
    },
    {
      "cell_type": "markdown",
      "metadata": {
        "id": "ym8fCJs0CXq-"
      },
      "source": [
        "**Convert to pandas**"
      ]
    },
    {
      "cell_type": "code",
      "metadata": {
        "id": "B4y-WE_FCVhu"
      },
      "source": [
        "conversion_rate = pd.DataFrame.from_dict(result_conversion_rate)"
      ],
      "execution_count": null,
      "outputs": []
    },
    {
      "cell_type": "code",
      "metadata": {
        "id": "D3WZF3yYClOe",
        "colab": {
          "base_uri": "https://localhost:8080/",
          "height": 197
        },
        "outputId": "e9bb38fb-ed0b-4bc3-bd02-46730e52d0c2"
      },
      "source": [
        "conversion_rate[:5]"
      ],
      "execution_count": null,
      "outputs": [
        {
          "output_type": "execute_result",
          "data": {
            "text/html": [
              "<div>\n",
              "<style scoped>\n",
              "    .dataframe tbody tr th:only-of-type {\n",
              "        vertical-align: middle;\n",
              "    }\n",
              "\n",
              "    .dataframe tbody tr th {\n",
              "        vertical-align: top;\n",
              "    }\n",
              "\n",
              "    .dataframe thead th {\n",
              "        text-align: right;\n",
              "    }\n",
              "</style>\n",
              "<table border=\"1\" class=\"dataframe\">\n",
              "  <thead>\n",
              "    <tr style=\"text-align: right;\">\n",
              "      <th></th>\n",
              "      <th>Rate</th>\n",
              "    </tr>\n",
              "  </thead>\n",
              "  <tbody>\n",
              "    <tr>\n",
              "      <th>2018-01-01T00:00:00.000Z</th>\n",
              "      <td>43.9991</td>\n",
              "    </tr>\n",
              "    <tr>\n",
              "      <th>2018-01-02T00:00:00.000Z</th>\n",
              "      <td>44.0731</td>\n",
              "    </tr>\n",
              "    <tr>\n",
              "      <th>2018-01-03T00:00:00.000Z</th>\n",
              "      <td>43.7025</td>\n",
              "    </tr>\n",
              "    <tr>\n",
              "      <th>2018-01-04T00:00:00.000Z</th>\n",
              "      <td>43.6914</td>\n",
              "    </tr>\n",
              "    <tr>\n",
              "      <th>2018-01-05T00:00:00.000Z</th>\n",
              "      <td>43.6490</td>\n",
              "    </tr>\n",
              "  </tbody>\n",
              "</table>\n",
              "</div>"
            ],
            "text/plain": [
              "                             Rate\n",
              "2018-01-01T00:00:00.000Z  43.9991\n",
              "2018-01-02T00:00:00.000Z  44.0731\n",
              "2018-01-03T00:00:00.000Z  43.7025\n",
              "2018-01-04T00:00:00.000Z  43.6914\n",
              "2018-01-05T00:00:00.000Z  43.6490"
            ]
          },
          "metadata": {
            "tags": []
          },
          "execution_count": 150
        }
      ]
    },
    {
      "cell_type": "code",
      "metadata": {
        "id": "CapF_TP8C1vd",
        "colab": {
          "base_uri": "https://localhost:8080/",
          "height": 197
        },
        "outputId": "2211d4ea-c777-48f3-c9c3-893d8e5aa811"
      },
      "source": [
        "conversion_rate = conversion_rate.reset_index().rename(columns={\"index\":\"date\"})\n",
        "conversion_rate[:5]  ##Change index name to date"
      ],
      "execution_count": null,
      "outputs": [
        {
          "output_type": "execute_result",
          "data": {
            "text/html": [
              "<div>\n",
              "<style scoped>\n",
              "    .dataframe tbody tr th:only-of-type {\n",
              "        vertical-align: middle;\n",
              "    }\n",
              "\n",
              "    .dataframe tbody tr th {\n",
              "        vertical-align: top;\n",
              "    }\n",
              "\n",
              "    .dataframe thead th {\n",
              "        text-align: right;\n",
              "    }\n",
              "</style>\n",
              "<table border=\"1\" class=\"dataframe\">\n",
              "  <thead>\n",
              "    <tr style=\"text-align: right;\">\n",
              "      <th></th>\n",
              "      <th>date</th>\n",
              "      <th>Rate</th>\n",
              "    </tr>\n",
              "  </thead>\n",
              "  <tbody>\n",
              "    <tr>\n",
              "      <th>0</th>\n",
              "      <td>2018-01-01T00:00:00.000Z</td>\n",
              "      <td>43.9991</td>\n",
              "    </tr>\n",
              "    <tr>\n",
              "      <th>1</th>\n",
              "      <td>2018-01-02T00:00:00.000Z</td>\n",
              "      <td>44.0731</td>\n",
              "    </tr>\n",
              "    <tr>\n",
              "      <th>2</th>\n",
              "      <td>2018-01-03T00:00:00.000Z</td>\n",
              "      <td>43.7025</td>\n",
              "    </tr>\n",
              "    <tr>\n",
              "      <th>3</th>\n",
              "      <td>2018-01-04T00:00:00.000Z</td>\n",
              "      <td>43.6914</td>\n",
              "    </tr>\n",
              "    <tr>\n",
              "      <th>4</th>\n",
              "      <td>2018-01-05T00:00:00.000Z</td>\n",
              "      <td>43.6490</td>\n",
              "    </tr>\n",
              "  </tbody>\n",
              "</table>\n",
              "</div>"
            ],
            "text/plain": [
              "                       date     Rate\n",
              "0  2018-01-01T00:00:00.000Z  43.9991\n",
              "1  2018-01-02T00:00:00.000Z  44.0731\n",
              "2  2018-01-03T00:00:00.000Z  43.7025\n",
              "3  2018-01-04T00:00:00.000Z  43.6914\n",
              "4  2018-01-05T00:00:00.000Z  43.6490"
            ]
          },
          "metadata": {
            "tags": []
          },
          "execution_count": 151
        }
      ]
    },
    {
      "cell_type": "code",
      "metadata": {
        "id": "G4s9TsmODJ76",
        "colab": {
          "base_uri": "https://localhost:8080/",
          "height": 197
        },
        "outputId": "2c20c595-6a35-48a2-935a-732d7cc01abc"
      },
      "source": [
        "conversion_rate[:5]"
      ],
      "execution_count": null,
      "outputs": [
        {
          "output_type": "execute_result",
          "data": {
            "text/html": [
              "<div>\n",
              "<style scoped>\n",
              "    .dataframe tbody tr th:only-of-type {\n",
              "        vertical-align: middle;\n",
              "    }\n",
              "\n",
              "    .dataframe tbody tr th {\n",
              "        vertical-align: top;\n",
              "    }\n",
              "\n",
              "    .dataframe thead th {\n",
              "        text-align: right;\n",
              "    }\n",
              "</style>\n",
              "<table border=\"1\" class=\"dataframe\">\n",
              "  <thead>\n",
              "    <tr style=\"text-align: right;\">\n",
              "      <th></th>\n",
              "      <th>date</th>\n",
              "      <th>Rate</th>\n",
              "    </tr>\n",
              "  </thead>\n",
              "  <tbody>\n",
              "    <tr>\n",
              "      <th>0</th>\n",
              "      <td>2018-01-01T00:00:00.000Z</td>\n",
              "      <td>43.9991</td>\n",
              "    </tr>\n",
              "    <tr>\n",
              "      <th>1</th>\n",
              "      <td>2018-01-02T00:00:00.000Z</td>\n",
              "      <td>44.0731</td>\n",
              "    </tr>\n",
              "    <tr>\n",
              "      <th>2</th>\n",
              "      <td>2018-01-03T00:00:00.000Z</td>\n",
              "      <td>43.7025</td>\n",
              "    </tr>\n",
              "    <tr>\n",
              "      <th>3</th>\n",
              "      <td>2018-01-04T00:00:00.000Z</td>\n",
              "      <td>43.6914</td>\n",
              "    </tr>\n",
              "    <tr>\n",
              "      <th>4</th>\n",
              "      <td>2018-01-05T00:00:00.000Z</td>\n",
              "      <td>43.6490</td>\n",
              "    </tr>\n",
              "  </tbody>\n",
              "</table>\n",
              "</div>"
            ],
            "text/plain": [
              "                       date     Rate\n",
              "0  2018-01-01T00:00:00.000Z  43.9991\n",
              "1  2018-01-02T00:00:00.000Z  44.0731\n",
              "2  2018-01-03T00:00:00.000Z  43.7025\n",
              "3  2018-01-04T00:00:00.000Z  43.6914\n",
              "4  2018-01-05T00:00:00.000Z  43.6490"
            ]
          },
          "metadata": {
            "tags": []
          },
          "execution_count": 152
        }
      ]
    },
    {
      "cell_type": "markdown",
      "metadata": {
        "id": "l_b5Uz0TDg_f"
      },
      "source": [
        "**Join the data**"
      ]
    },
    {
      "cell_type": "code",
      "metadata": {
        "id": "lH22CiiADlCg",
        "colab": {
          "base_uri": "https://localhost:8080/",
          "height": 406
        },
        "outputId": "f34238ce-6560-409d-ecc2-863b32dfc7df"
      },
      "source": [
        "retail"
      ],
      "execution_count": null,
      "outputs": [
        {
          "output_type": "execute_result",
          "data": {
            "text/html": [
              "<div>\n",
              "<style scoped>\n",
              "    .dataframe tbody tr th:only-of-type {\n",
              "        vertical-align: middle;\n",
              "    }\n",
              "\n",
              "    .dataframe tbody tr th {\n",
              "        vertical-align: top;\n",
              "    }\n",
              "\n",
              "    .dataframe thead th {\n",
              "        text-align: right;\n",
              "    }\n",
              "</style>\n",
              "<table border=\"1\" class=\"dataframe\">\n",
              "  <thead>\n",
              "    <tr style=\"text-align: right;\">\n",
              "      <th></th>\n",
              "      <th>InvoiceNo</th>\n",
              "      <th>StockCode</th>\n",
              "      <th>Description</th>\n",
              "      <th>Quantity</th>\n",
              "      <th>InvoiceDate</th>\n",
              "      <th>UnitPrice</th>\n",
              "      <th>CustomerID</th>\n",
              "      <th>Country</th>\n",
              "    </tr>\n",
              "  </thead>\n",
              "  <tbody>\n",
              "    <tr>\n",
              "      <th>0</th>\n",
              "      <td>536365</td>\n",
              "      <td>85123A</td>\n",
              "      <td>WHITE HANGING HEART T-LIGHT HOLDER</td>\n",
              "      <td>6</td>\n",
              "      <td>1/12/2018 08:26</td>\n",
              "      <td>2.55</td>\n",
              "      <td>17850.0</td>\n",
              "      <td>United Kingdom</td>\n",
              "    </tr>\n",
              "    <tr>\n",
              "      <th>1</th>\n",
              "      <td>536365</td>\n",
              "      <td>71053</td>\n",
              "      <td>WHITE METAL LANTERN</td>\n",
              "      <td>6</td>\n",
              "      <td>1/12/2018 08:26</td>\n",
              "      <td>3.39</td>\n",
              "      <td>17850.0</td>\n",
              "      <td>United Kingdom</td>\n",
              "    </tr>\n",
              "    <tr>\n",
              "      <th>2</th>\n",
              "      <td>536365</td>\n",
              "      <td>84406B</td>\n",
              "      <td>CREAM CUPID HEARTS COAT HANGER</td>\n",
              "      <td>8</td>\n",
              "      <td>1/12/2018 08:26</td>\n",
              "      <td>2.75</td>\n",
              "      <td>17850.0</td>\n",
              "      <td>United Kingdom</td>\n",
              "    </tr>\n",
              "    <tr>\n",
              "      <th>3</th>\n",
              "      <td>536365</td>\n",
              "      <td>84029G</td>\n",
              "      <td>KNITTED UNION FLAG HOT WATER BOTTLE</td>\n",
              "      <td>6</td>\n",
              "      <td>1/12/2018 08:26</td>\n",
              "      <td>3.39</td>\n",
              "      <td>17850.0</td>\n",
              "      <td>United Kingdom</td>\n",
              "    </tr>\n",
              "    <tr>\n",
              "      <th>4</th>\n",
              "      <td>536365</td>\n",
              "      <td>84029E</td>\n",
              "      <td>RED WOOLLY HOTTIE WHITE HEART.</td>\n",
              "      <td>6</td>\n",
              "      <td>1/12/2018 08:26</td>\n",
              "      <td>3.39</td>\n",
              "      <td>17850.0</td>\n",
              "      <td>United Kingdom</td>\n",
              "    </tr>\n",
              "    <tr>\n",
              "      <th>...</th>\n",
              "      <td>...</td>\n",
              "      <td>...</td>\n",
              "      <td>...</td>\n",
              "      <td>...</td>\n",
              "      <td>...</td>\n",
              "      <td>...</td>\n",
              "      <td>...</td>\n",
              "      <td>...</td>\n",
              "    </tr>\n",
              "    <tr>\n",
              "      <th>161326</th>\n",
              "      <td>550638</td>\n",
              "      <td>22960</td>\n",
              "      <td>JAM MAKING SET WITH JARS</td>\n",
              "      <td>1</td>\n",
              "      <td>19/4/2019 15:44</td>\n",
              "      <td>8.29</td>\n",
              "      <td>NaN</td>\n",
              "      <td>United Kingdom</td>\n",
              "    </tr>\n",
              "    <tr>\n",
              "      <th>161327</th>\n",
              "      <td>550638</td>\n",
              "      <td>22961</td>\n",
              "      <td>JAM MAKING SET PRINTED</td>\n",
              "      <td>1</td>\n",
              "      <td>19/4/2019 15:44</td>\n",
              "      <td>1.45</td>\n",
              "      <td>NaN</td>\n",
              "      <td>United Kingdom</td>\n",
              "    </tr>\n",
              "    <tr>\n",
              "      <th>161328</th>\n",
              "      <td>550638</td>\n",
              "      <td>22978</td>\n",
              "      <td>PANTRY ROLLING PIN</td>\n",
              "      <td>1</td>\n",
              "      <td>19/4/2019 15:44</td>\n",
              "      <td>7.46</td>\n",
              "      <td>NaN</td>\n",
              "      <td>United Kingdom</td>\n",
              "    </tr>\n",
              "    <tr>\n",
              "      <th>161329</th>\n",
              "      <td>550638</td>\n",
              "      <td>22982</td>\n",
              "      <td>PANTRY PASTRY BRUSH</td>\n",
              "      <td>1</td>\n",
              "      <td>19/4/2019 15:44</td>\n",
              "      <td>2.46</td>\n",
              "      <td>NaN</td>\n",
              "      <td>United Kingdom</td>\n",
              "    </tr>\n",
              "    <tr>\n",
              "      <th>161330</th>\n",
              "      <td>550638</td>\n",
              "      <td>23193</td>\n",
              "      <td>BUFFALO BILL TREASURE BOOK BOX</td>\n",
              "      <td>1</td>\n",
              "      <td>19/4/2019 15:44</td>\n",
              "      <td>4.58</td>\n",
              "      <td>NaN</td>\n",
              "      <td>United Kingdom</td>\n",
              "    </tr>\n",
              "  </tbody>\n",
              "</table>\n",
              "<p>161331 rows × 8 columns</p>\n",
              "</div>"
            ],
            "text/plain": [
              "        InvoiceNo StockCode  ... CustomerID         Country\n",
              "0          536365    85123A  ...    17850.0  United Kingdom\n",
              "1          536365     71053  ...    17850.0  United Kingdom\n",
              "2          536365    84406B  ...    17850.0  United Kingdom\n",
              "3          536365    84029G  ...    17850.0  United Kingdom\n",
              "4          536365    84029E  ...    17850.0  United Kingdom\n",
              "...           ...       ...  ...        ...             ...\n",
              "161326     550638     22960  ...        NaN  United Kingdom\n",
              "161327     550638     22961  ...        NaN  United Kingdom\n",
              "161328     550638     22978  ...        NaN  United Kingdom\n",
              "161329     550638     22982  ...        NaN  United Kingdom\n",
              "161330     550638     23193  ...        NaN  United Kingdom\n",
              "\n",
              "[161331 rows x 8 columns]"
            ]
          },
          "metadata": {
            "tags": []
          },
          "execution_count": 153
        }
      ]
    },
    {
      "cell_type": "code",
      "metadata": {
        "id": "NHFhDQVdDqro",
        "colab": {
          "base_uri": "https://localhost:8080/",
          "height": 573
        },
        "outputId": "10d65b33-6905-4fca-a776-1290591ca644"
      },
      "source": [
        "## keep a copy column InvoiceDate for the future used (timestamp Loss)\n",
        "retail['InvoiceTimestamp'] = retail['InvoiceDate']\n",
        "retail  "
      ],
      "execution_count": null,
      "outputs": [
        {
          "output_type": "execute_result",
          "data": {
            "text/html": [
              "<div>\n",
              "<style scoped>\n",
              "    .dataframe tbody tr th:only-of-type {\n",
              "        vertical-align: middle;\n",
              "    }\n",
              "\n",
              "    .dataframe tbody tr th {\n",
              "        vertical-align: top;\n",
              "    }\n",
              "\n",
              "    .dataframe thead th {\n",
              "        text-align: right;\n",
              "    }\n",
              "</style>\n",
              "<table border=\"1\" class=\"dataframe\">\n",
              "  <thead>\n",
              "    <tr style=\"text-align: right;\">\n",
              "      <th></th>\n",
              "      <th>InvoiceNo</th>\n",
              "      <th>StockCode</th>\n",
              "      <th>Description</th>\n",
              "      <th>Quantity</th>\n",
              "      <th>InvoiceDate</th>\n",
              "      <th>UnitPrice</th>\n",
              "      <th>CustomerID</th>\n",
              "      <th>Country</th>\n",
              "      <th>InvoiceTimestamp</th>\n",
              "    </tr>\n",
              "  </thead>\n",
              "  <tbody>\n",
              "    <tr>\n",
              "      <th>0</th>\n",
              "      <td>536365</td>\n",
              "      <td>85123A</td>\n",
              "      <td>WHITE HANGING HEART T-LIGHT HOLDER</td>\n",
              "      <td>6</td>\n",
              "      <td>1/12/2018 08:26</td>\n",
              "      <td>2.55</td>\n",
              "      <td>17850.0</td>\n",
              "      <td>United Kingdom</td>\n",
              "      <td>1/12/2018 08:26</td>\n",
              "    </tr>\n",
              "    <tr>\n",
              "      <th>1</th>\n",
              "      <td>536365</td>\n",
              "      <td>71053</td>\n",
              "      <td>WHITE METAL LANTERN</td>\n",
              "      <td>6</td>\n",
              "      <td>1/12/2018 08:26</td>\n",
              "      <td>3.39</td>\n",
              "      <td>17850.0</td>\n",
              "      <td>United Kingdom</td>\n",
              "      <td>1/12/2018 08:26</td>\n",
              "    </tr>\n",
              "    <tr>\n",
              "      <th>2</th>\n",
              "      <td>536365</td>\n",
              "      <td>84406B</td>\n",
              "      <td>CREAM CUPID HEARTS COAT HANGER</td>\n",
              "      <td>8</td>\n",
              "      <td>1/12/2018 08:26</td>\n",
              "      <td>2.75</td>\n",
              "      <td>17850.0</td>\n",
              "      <td>United Kingdom</td>\n",
              "      <td>1/12/2018 08:26</td>\n",
              "    </tr>\n",
              "    <tr>\n",
              "      <th>3</th>\n",
              "      <td>536365</td>\n",
              "      <td>84029G</td>\n",
              "      <td>KNITTED UNION FLAG HOT WATER BOTTLE</td>\n",
              "      <td>6</td>\n",
              "      <td>1/12/2018 08:26</td>\n",
              "      <td>3.39</td>\n",
              "      <td>17850.0</td>\n",
              "      <td>United Kingdom</td>\n",
              "      <td>1/12/2018 08:26</td>\n",
              "    </tr>\n",
              "    <tr>\n",
              "      <th>4</th>\n",
              "      <td>536365</td>\n",
              "      <td>84029E</td>\n",
              "      <td>RED WOOLLY HOTTIE WHITE HEART.</td>\n",
              "      <td>6</td>\n",
              "      <td>1/12/2018 08:26</td>\n",
              "      <td>3.39</td>\n",
              "      <td>17850.0</td>\n",
              "      <td>United Kingdom</td>\n",
              "      <td>1/12/2018 08:26</td>\n",
              "    </tr>\n",
              "    <tr>\n",
              "      <th>...</th>\n",
              "      <td>...</td>\n",
              "      <td>...</td>\n",
              "      <td>...</td>\n",
              "      <td>...</td>\n",
              "      <td>...</td>\n",
              "      <td>...</td>\n",
              "      <td>...</td>\n",
              "      <td>...</td>\n",
              "      <td>...</td>\n",
              "    </tr>\n",
              "    <tr>\n",
              "      <th>161326</th>\n",
              "      <td>550638</td>\n",
              "      <td>22960</td>\n",
              "      <td>JAM MAKING SET WITH JARS</td>\n",
              "      <td>1</td>\n",
              "      <td>19/4/2019 15:44</td>\n",
              "      <td>8.29</td>\n",
              "      <td>NaN</td>\n",
              "      <td>United Kingdom</td>\n",
              "      <td>19/4/2019 15:44</td>\n",
              "    </tr>\n",
              "    <tr>\n",
              "      <th>161327</th>\n",
              "      <td>550638</td>\n",
              "      <td>22961</td>\n",
              "      <td>JAM MAKING SET PRINTED</td>\n",
              "      <td>1</td>\n",
              "      <td>19/4/2019 15:44</td>\n",
              "      <td>1.45</td>\n",
              "      <td>NaN</td>\n",
              "      <td>United Kingdom</td>\n",
              "      <td>19/4/2019 15:44</td>\n",
              "    </tr>\n",
              "    <tr>\n",
              "      <th>161328</th>\n",
              "      <td>550638</td>\n",
              "      <td>22978</td>\n",
              "      <td>PANTRY ROLLING PIN</td>\n",
              "      <td>1</td>\n",
              "      <td>19/4/2019 15:44</td>\n",
              "      <td>7.46</td>\n",
              "      <td>NaN</td>\n",
              "      <td>United Kingdom</td>\n",
              "      <td>19/4/2019 15:44</td>\n",
              "    </tr>\n",
              "    <tr>\n",
              "      <th>161329</th>\n",
              "      <td>550638</td>\n",
              "      <td>22982</td>\n",
              "      <td>PANTRY PASTRY BRUSH</td>\n",
              "      <td>1</td>\n",
              "      <td>19/4/2019 15:44</td>\n",
              "      <td>2.46</td>\n",
              "      <td>NaN</td>\n",
              "      <td>United Kingdom</td>\n",
              "      <td>19/4/2019 15:44</td>\n",
              "    </tr>\n",
              "    <tr>\n",
              "      <th>161330</th>\n",
              "      <td>550638</td>\n",
              "      <td>23193</td>\n",
              "      <td>BUFFALO BILL TREASURE BOOK BOX</td>\n",
              "      <td>1</td>\n",
              "      <td>19/4/2019 15:44</td>\n",
              "      <td>4.58</td>\n",
              "      <td>NaN</td>\n",
              "      <td>United Kingdom</td>\n",
              "      <td>19/4/2019 15:44</td>\n",
              "    </tr>\n",
              "  </tbody>\n",
              "</table>\n",
              "<p>161331 rows × 9 columns</p>\n",
              "</div>"
            ],
            "text/plain": [
              "        InvoiceNo StockCode  ...         Country  InvoiceTimestamp\n",
              "0          536365    85123A  ...  United Kingdom   1/12/2018 08:26\n",
              "1          536365     71053  ...  United Kingdom   1/12/2018 08:26\n",
              "2          536365    84406B  ...  United Kingdom   1/12/2018 08:26\n",
              "3          536365    84029G  ...  United Kingdom   1/12/2018 08:26\n",
              "4          536365    84029E  ...  United Kingdom   1/12/2018 08:26\n",
              "...           ...       ...  ...             ...               ...\n",
              "161326     550638     22960  ...  United Kingdom   19/4/2019 15:44\n",
              "161327     550638     22961  ...  United Kingdom   19/4/2019 15:44\n",
              "161328     550638     22978  ...  United Kingdom   19/4/2019 15:44\n",
              "161329     550638     22982  ...  United Kingdom   19/4/2019 15:44\n",
              "161330     550638     23193  ...  United Kingdom   19/4/2019 15:44\n",
              "\n",
              "[161331 rows x 9 columns]"
            ]
          },
          "metadata": {
            "tags": []
          },
          "execution_count": 154
        }
      ]
    },
    {
      "cell_type": "code",
      "metadata": {
        "id": "ZccOTaX8D-I4",
        "colab": {
          "base_uri": "https://localhost:8080/",
          "height": 281
        },
        "outputId": "9fbcd1eb-12ac-4d53-a621-6dca3fbcd340"
      },
      "source": [
        "## Convert InvoiceDate to retail and date in conversion_rate only apart of date  \n",
        "\n",
        "retail['InvoiceDate'] = pd.to_datetime(retail['InvoiceDate']).dt.date\n",
        "conversion_rate['date'] = pd.to_datetime(conversion_rate['date']).dt.date\n",
        "\n",
        "retail.head()"
      ],
      "execution_count": null,
      "outputs": [
        {
          "output_type": "execute_result",
          "data": {
            "text/html": [
              "<div>\n",
              "<style scoped>\n",
              "    .dataframe tbody tr th:only-of-type {\n",
              "        vertical-align: middle;\n",
              "    }\n",
              "\n",
              "    .dataframe tbody tr th {\n",
              "        vertical-align: top;\n",
              "    }\n",
              "\n",
              "    .dataframe thead th {\n",
              "        text-align: right;\n",
              "    }\n",
              "</style>\n",
              "<table border=\"1\" class=\"dataframe\">\n",
              "  <thead>\n",
              "    <tr style=\"text-align: right;\">\n",
              "      <th></th>\n",
              "      <th>InvoiceNo</th>\n",
              "      <th>StockCode</th>\n",
              "      <th>Description</th>\n",
              "      <th>Quantity</th>\n",
              "      <th>InvoiceDate</th>\n",
              "      <th>UnitPrice</th>\n",
              "      <th>CustomerID</th>\n",
              "      <th>Country</th>\n",
              "      <th>InvoiceTimestamp</th>\n",
              "    </tr>\n",
              "  </thead>\n",
              "  <tbody>\n",
              "    <tr>\n",
              "      <th>0</th>\n",
              "      <td>536365</td>\n",
              "      <td>85123A</td>\n",
              "      <td>WHITE HANGING HEART T-LIGHT HOLDER</td>\n",
              "      <td>6</td>\n",
              "      <td>2018-01-12</td>\n",
              "      <td>2.55</td>\n",
              "      <td>17850.0</td>\n",
              "      <td>United Kingdom</td>\n",
              "      <td>1/12/2018 08:26</td>\n",
              "    </tr>\n",
              "    <tr>\n",
              "      <th>1</th>\n",
              "      <td>536365</td>\n",
              "      <td>71053</td>\n",
              "      <td>WHITE METAL LANTERN</td>\n",
              "      <td>6</td>\n",
              "      <td>2018-01-12</td>\n",
              "      <td>3.39</td>\n",
              "      <td>17850.0</td>\n",
              "      <td>United Kingdom</td>\n",
              "      <td>1/12/2018 08:26</td>\n",
              "    </tr>\n",
              "    <tr>\n",
              "      <th>2</th>\n",
              "      <td>536365</td>\n",
              "      <td>84406B</td>\n",
              "      <td>CREAM CUPID HEARTS COAT HANGER</td>\n",
              "      <td>8</td>\n",
              "      <td>2018-01-12</td>\n",
              "      <td>2.75</td>\n",
              "      <td>17850.0</td>\n",
              "      <td>United Kingdom</td>\n",
              "      <td>1/12/2018 08:26</td>\n",
              "    </tr>\n",
              "    <tr>\n",
              "      <th>3</th>\n",
              "      <td>536365</td>\n",
              "      <td>84029G</td>\n",
              "      <td>KNITTED UNION FLAG HOT WATER BOTTLE</td>\n",
              "      <td>6</td>\n",
              "      <td>2018-01-12</td>\n",
              "      <td>3.39</td>\n",
              "      <td>17850.0</td>\n",
              "      <td>United Kingdom</td>\n",
              "      <td>1/12/2018 08:26</td>\n",
              "    </tr>\n",
              "    <tr>\n",
              "      <th>4</th>\n",
              "      <td>536365</td>\n",
              "      <td>84029E</td>\n",
              "      <td>RED WOOLLY HOTTIE WHITE HEART.</td>\n",
              "      <td>6</td>\n",
              "      <td>2018-01-12</td>\n",
              "      <td>3.39</td>\n",
              "      <td>17850.0</td>\n",
              "      <td>United Kingdom</td>\n",
              "      <td>1/12/2018 08:26</td>\n",
              "    </tr>\n",
              "  </tbody>\n",
              "</table>\n",
              "</div>"
            ],
            "text/plain": [
              "   InvoiceNo StockCode  ...         Country  InvoiceTimestamp\n",
              "0     536365    85123A  ...  United Kingdom   1/12/2018 08:26\n",
              "1     536365     71053  ...  United Kingdom   1/12/2018 08:26\n",
              "2     536365    84406B  ...  United Kingdom   1/12/2018 08:26\n",
              "3     536365    84029G  ...  United Kingdom   1/12/2018 08:26\n",
              "4     536365    84029E  ...  United Kingdom   1/12/2018 08:26\n",
              "\n",
              "[5 rows x 9 columns]"
            ]
          },
          "metadata": {
            "tags": []
          },
          "execution_count": 155
        }
      ]
    },
    {
      "cell_type": "code",
      "metadata": {
        "id": "0MtZDjVNHdOx",
        "colab": {
          "base_uri": "https://localhost:8080/",
          "height": 573
        },
        "outputId": "0c188aa1-c3a5-4df9-b030-67e8643eaca2"
      },
      "source": [
        "# include 2 dataframe together by merge command\n",
        "\n",
        "final_df = retail.merge(conversion_rate, how=\"left\", left_on=\"InvoiceDate\", right_on=\"date\")\n",
        "final_df"
      ],
      "execution_count": null,
      "outputs": [
        {
          "output_type": "execute_result",
          "data": {
            "text/html": [
              "<div>\n",
              "<style scoped>\n",
              "    .dataframe tbody tr th:only-of-type {\n",
              "        vertical-align: middle;\n",
              "    }\n",
              "\n",
              "    .dataframe tbody tr th {\n",
              "        vertical-align: top;\n",
              "    }\n",
              "\n",
              "    .dataframe thead th {\n",
              "        text-align: right;\n",
              "    }\n",
              "</style>\n",
              "<table border=\"1\" class=\"dataframe\">\n",
              "  <thead>\n",
              "    <tr style=\"text-align: right;\">\n",
              "      <th></th>\n",
              "      <th>InvoiceNo</th>\n",
              "      <th>StockCode</th>\n",
              "      <th>Description</th>\n",
              "      <th>Quantity</th>\n",
              "      <th>InvoiceDate</th>\n",
              "      <th>UnitPrice</th>\n",
              "      <th>CustomerID</th>\n",
              "      <th>Country</th>\n",
              "      <th>InvoiceTimestamp</th>\n",
              "      <th>date</th>\n",
              "      <th>Rate</th>\n",
              "    </tr>\n",
              "  </thead>\n",
              "  <tbody>\n",
              "    <tr>\n",
              "      <th>0</th>\n",
              "      <td>536365</td>\n",
              "      <td>85123A</td>\n",
              "      <td>WHITE HANGING HEART T-LIGHT HOLDER</td>\n",
              "      <td>6</td>\n",
              "      <td>2018-01-12</td>\n",
              "      <td>2.55</td>\n",
              "      <td>17850.0</td>\n",
              "      <td>United Kingdom</td>\n",
              "      <td>1/12/2018 08:26</td>\n",
              "      <td>2018-01-12</td>\n",
              "      <td>43.7705</td>\n",
              "    </tr>\n",
              "    <tr>\n",
              "      <th>1</th>\n",
              "      <td>536365</td>\n",
              "      <td>71053</td>\n",
              "      <td>WHITE METAL LANTERN</td>\n",
              "      <td>6</td>\n",
              "      <td>2018-01-12</td>\n",
              "      <td>3.39</td>\n",
              "      <td>17850.0</td>\n",
              "      <td>United Kingdom</td>\n",
              "      <td>1/12/2018 08:26</td>\n",
              "      <td>2018-01-12</td>\n",
              "      <td>43.7705</td>\n",
              "    </tr>\n",
              "    <tr>\n",
              "      <th>2</th>\n",
              "      <td>536365</td>\n",
              "      <td>84406B</td>\n",
              "      <td>CREAM CUPID HEARTS COAT HANGER</td>\n",
              "      <td>8</td>\n",
              "      <td>2018-01-12</td>\n",
              "      <td>2.75</td>\n",
              "      <td>17850.0</td>\n",
              "      <td>United Kingdom</td>\n",
              "      <td>1/12/2018 08:26</td>\n",
              "      <td>2018-01-12</td>\n",
              "      <td>43.7705</td>\n",
              "    </tr>\n",
              "    <tr>\n",
              "      <th>3</th>\n",
              "      <td>536365</td>\n",
              "      <td>84029G</td>\n",
              "      <td>KNITTED UNION FLAG HOT WATER BOTTLE</td>\n",
              "      <td>6</td>\n",
              "      <td>2018-01-12</td>\n",
              "      <td>3.39</td>\n",
              "      <td>17850.0</td>\n",
              "      <td>United Kingdom</td>\n",
              "      <td>1/12/2018 08:26</td>\n",
              "      <td>2018-01-12</td>\n",
              "      <td>43.7705</td>\n",
              "    </tr>\n",
              "    <tr>\n",
              "      <th>4</th>\n",
              "      <td>536365</td>\n",
              "      <td>84029E</td>\n",
              "      <td>RED WOOLLY HOTTIE WHITE HEART.</td>\n",
              "      <td>6</td>\n",
              "      <td>2018-01-12</td>\n",
              "      <td>3.39</td>\n",
              "      <td>17850.0</td>\n",
              "      <td>United Kingdom</td>\n",
              "      <td>1/12/2018 08:26</td>\n",
              "      <td>2018-01-12</td>\n",
              "      <td>43.7705</td>\n",
              "    </tr>\n",
              "    <tr>\n",
              "      <th>...</th>\n",
              "      <td>...</td>\n",
              "      <td>...</td>\n",
              "      <td>...</td>\n",
              "      <td>...</td>\n",
              "      <td>...</td>\n",
              "      <td>...</td>\n",
              "      <td>...</td>\n",
              "      <td>...</td>\n",
              "      <td>...</td>\n",
              "      <td>...</td>\n",
              "      <td>...</td>\n",
              "    </tr>\n",
              "    <tr>\n",
              "      <th>161326</th>\n",
              "      <td>550638</td>\n",
              "      <td>22960</td>\n",
              "      <td>JAM MAKING SET WITH JARS</td>\n",
              "      <td>1</td>\n",
              "      <td>2019-04-19</td>\n",
              "      <td>8.29</td>\n",
              "      <td>NaN</td>\n",
              "      <td>United Kingdom</td>\n",
              "      <td>19/4/2019 15:44</td>\n",
              "      <td>2019-04-19</td>\n",
              "      <td>41.3622</td>\n",
              "    </tr>\n",
              "    <tr>\n",
              "      <th>161327</th>\n",
              "      <td>550638</td>\n",
              "      <td>22961</td>\n",
              "      <td>JAM MAKING SET PRINTED</td>\n",
              "      <td>1</td>\n",
              "      <td>2019-04-19</td>\n",
              "      <td>1.45</td>\n",
              "      <td>NaN</td>\n",
              "      <td>United Kingdom</td>\n",
              "      <td>19/4/2019 15:44</td>\n",
              "      <td>2019-04-19</td>\n",
              "      <td>41.3622</td>\n",
              "    </tr>\n",
              "    <tr>\n",
              "      <th>161328</th>\n",
              "      <td>550638</td>\n",
              "      <td>22978</td>\n",
              "      <td>PANTRY ROLLING PIN</td>\n",
              "      <td>1</td>\n",
              "      <td>2019-04-19</td>\n",
              "      <td>7.46</td>\n",
              "      <td>NaN</td>\n",
              "      <td>United Kingdom</td>\n",
              "      <td>19/4/2019 15:44</td>\n",
              "      <td>2019-04-19</td>\n",
              "      <td>41.3622</td>\n",
              "    </tr>\n",
              "    <tr>\n",
              "      <th>161329</th>\n",
              "      <td>550638</td>\n",
              "      <td>22982</td>\n",
              "      <td>PANTRY PASTRY BRUSH</td>\n",
              "      <td>1</td>\n",
              "      <td>2019-04-19</td>\n",
              "      <td>2.46</td>\n",
              "      <td>NaN</td>\n",
              "      <td>United Kingdom</td>\n",
              "      <td>19/4/2019 15:44</td>\n",
              "      <td>2019-04-19</td>\n",
              "      <td>41.3622</td>\n",
              "    </tr>\n",
              "    <tr>\n",
              "      <th>161330</th>\n",
              "      <td>550638</td>\n",
              "      <td>23193</td>\n",
              "      <td>BUFFALO BILL TREASURE BOOK BOX</td>\n",
              "      <td>1</td>\n",
              "      <td>2019-04-19</td>\n",
              "      <td>4.58</td>\n",
              "      <td>NaN</td>\n",
              "      <td>United Kingdom</td>\n",
              "      <td>19/4/2019 15:44</td>\n",
              "      <td>2019-04-19</td>\n",
              "      <td>41.3622</td>\n",
              "    </tr>\n",
              "  </tbody>\n",
              "</table>\n",
              "<p>161331 rows × 11 columns</p>\n",
              "</div>"
            ],
            "text/plain": [
              "        InvoiceNo StockCode  ...        date     Rate\n",
              "0          536365    85123A  ...  2018-01-12  43.7705\n",
              "1          536365     71053  ...  2018-01-12  43.7705\n",
              "2          536365    84406B  ...  2018-01-12  43.7705\n",
              "3          536365    84029G  ...  2018-01-12  43.7705\n",
              "4          536365    84029E  ...  2018-01-12  43.7705\n",
              "...           ...       ...  ...         ...      ...\n",
              "161326     550638     22960  ...  2019-04-19  41.3622\n",
              "161327     550638     22961  ...  2019-04-19  41.3622\n",
              "161328     550638     22978  ...  2019-04-19  41.3622\n",
              "161329     550638     22982  ...  2019-04-19  41.3622\n",
              "161330     550638     23193  ...  2019-04-19  41.3622\n",
              "\n",
              "[161331 rows x 11 columns]"
            ]
          },
          "metadata": {
            "tags": []
          },
          "execution_count": 156
        }
      ]
    },
    {
      "cell_type": "markdown",
      "metadata": {
        "id": "fhDN7GVJIPNx"
      },
      "source": [
        "**currency conversion**  (UnitPrice * Rate) "
      ]
    },
    {
      "cell_type": "code",
      "metadata": {
        "id": "EA_AJgq8ICKz",
        "colab": {
          "base_uri": "https://localhost:8080/",
          "height": 856
        },
        "outputId": "90863d20-33d3-4b59-a03e-6b6779e5d9ce"
      },
      "source": [
        "final_df[\"THBPrice\"] = final_df[\"UnitPrice\"] * final_df[\"Rate\"]  ## first method\n",
        "final_df"
      ],
      "execution_count": null,
      "outputs": [
        {
          "output_type": "execute_result",
          "data": {
            "text/html": [
              "<div>\n",
              "<style scoped>\n",
              "    .dataframe tbody tr th:only-of-type {\n",
              "        vertical-align: middle;\n",
              "    }\n",
              "\n",
              "    .dataframe tbody tr th {\n",
              "        vertical-align: top;\n",
              "    }\n",
              "\n",
              "    .dataframe thead th {\n",
              "        text-align: right;\n",
              "    }\n",
              "</style>\n",
              "<table border=\"1\" class=\"dataframe\">\n",
              "  <thead>\n",
              "    <tr style=\"text-align: right;\">\n",
              "      <th></th>\n",
              "      <th>InvoiceNo</th>\n",
              "      <th>StockCode</th>\n",
              "      <th>Description</th>\n",
              "      <th>Quantity</th>\n",
              "      <th>InvoiceDate</th>\n",
              "      <th>UnitPrice</th>\n",
              "      <th>CustomerID</th>\n",
              "      <th>Country</th>\n",
              "      <th>InvoiceTimestamp</th>\n",
              "      <th>date</th>\n",
              "      <th>Rate</th>\n",
              "      <th>THBPrice</th>\n",
              "    </tr>\n",
              "  </thead>\n",
              "  <tbody>\n",
              "    <tr>\n",
              "      <th>0</th>\n",
              "      <td>536365</td>\n",
              "      <td>85123A</td>\n",
              "      <td>WHITE HANGING HEART T-LIGHT HOLDER</td>\n",
              "      <td>6</td>\n",
              "      <td>2018-01-12</td>\n",
              "      <td>2.55</td>\n",
              "      <td>17850.0</td>\n",
              "      <td>United Kingdom</td>\n",
              "      <td>1/12/2018 08:26</td>\n",
              "      <td>2018-01-12</td>\n",
              "      <td>43.7705</td>\n",
              "      <td>111.614775</td>\n",
              "    </tr>\n",
              "    <tr>\n",
              "      <th>1</th>\n",
              "      <td>536365</td>\n",
              "      <td>71053</td>\n",
              "      <td>WHITE METAL LANTERN</td>\n",
              "      <td>6</td>\n",
              "      <td>2018-01-12</td>\n",
              "      <td>3.39</td>\n",
              "      <td>17850.0</td>\n",
              "      <td>United Kingdom</td>\n",
              "      <td>1/12/2018 08:26</td>\n",
              "      <td>2018-01-12</td>\n",
              "      <td>43.7705</td>\n",
              "      <td>148.381995</td>\n",
              "    </tr>\n",
              "    <tr>\n",
              "      <th>2</th>\n",
              "      <td>536365</td>\n",
              "      <td>84406B</td>\n",
              "      <td>CREAM CUPID HEARTS COAT HANGER</td>\n",
              "      <td>8</td>\n",
              "      <td>2018-01-12</td>\n",
              "      <td>2.75</td>\n",
              "      <td>17850.0</td>\n",
              "      <td>United Kingdom</td>\n",
              "      <td>1/12/2018 08:26</td>\n",
              "      <td>2018-01-12</td>\n",
              "      <td>43.7705</td>\n",
              "      <td>120.368875</td>\n",
              "    </tr>\n",
              "    <tr>\n",
              "      <th>3</th>\n",
              "      <td>536365</td>\n",
              "      <td>84029G</td>\n",
              "      <td>KNITTED UNION FLAG HOT WATER BOTTLE</td>\n",
              "      <td>6</td>\n",
              "      <td>2018-01-12</td>\n",
              "      <td>3.39</td>\n",
              "      <td>17850.0</td>\n",
              "      <td>United Kingdom</td>\n",
              "      <td>1/12/2018 08:26</td>\n",
              "      <td>2018-01-12</td>\n",
              "      <td>43.7705</td>\n",
              "      <td>148.381995</td>\n",
              "    </tr>\n",
              "    <tr>\n",
              "      <th>4</th>\n",
              "      <td>536365</td>\n",
              "      <td>84029E</td>\n",
              "      <td>RED WOOLLY HOTTIE WHITE HEART.</td>\n",
              "      <td>6</td>\n",
              "      <td>2018-01-12</td>\n",
              "      <td>3.39</td>\n",
              "      <td>17850.0</td>\n",
              "      <td>United Kingdom</td>\n",
              "      <td>1/12/2018 08:26</td>\n",
              "      <td>2018-01-12</td>\n",
              "      <td>43.7705</td>\n",
              "      <td>148.381995</td>\n",
              "    </tr>\n",
              "    <tr>\n",
              "      <th>...</th>\n",
              "      <td>...</td>\n",
              "      <td>...</td>\n",
              "      <td>...</td>\n",
              "      <td>...</td>\n",
              "      <td>...</td>\n",
              "      <td>...</td>\n",
              "      <td>...</td>\n",
              "      <td>...</td>\n",
              "      <td>...</td>\n",
              "      <td>...</td>\n",
              "      <td>...</td>\n",
              "      <td>...</td>\n",
              "    </tr>\n",
              "    <tr>\n",
              "      <th>161326</th>\n",
              "      <td>550638</td>\n",
              "      <td>22960</td>\n",
              "      <td>JAM MAKING SET WITH JARS</td>\n",
              "      <td>1</td>\n",
              "      <td>2019-04-19</td>\n",
              "      <td>8.29</td>\n",
              "      <td>NaN</td>\n",
              "      <td>United Kingdom</td>\n",
              "      <td>19/4/2019 15:44</td>\n",
              "      <td>2019-04-19</td>\n",
              "      <td>41.3622</td>\n",
              "      <td>342.892638</td>\n",
              "    </tr>\n",
              "    <tr>\n",
              "      <th>161327</th>\n",
              "      <td>550638</td>\n",
              "      <td>22961</td>\n",
              "      <td>JAM MAKING SET PRINTED</td>\n",
              "      <td>1</td>\n",
              "      <td>2019-04-19</td>\n",
              "      <td>1.45</td>\n",
              "      <td>NaN</td>\n",
              "      <td>United Kingdom</td>\n",
              "      <td>19/4/2019 15:44</td>\n",
              "      <td>2019-04-19</td>\n",
              "      <td>41.3622</td>\n",
              "      <td>59.975190</td>\n",
              "    </tr>\n",
              "    <tr>\n",
              "      <th>161328</th>\n",
              "      <td>550638</td>\n",
              "      <td>22978</td>\n",
              "      <td>PANTRY ROLLING PIN</td>\n",
              "      <td>1</td>\n",
              "      <td>2019-04-19</td>\n",
              "      <td>7.46</td>\n",
              "      <td>NaN</td>\n",
              "      <td>United Kingdom</td>\n",
              "      <td>19/4/2019 15:44</td>\n",
              "      <td>2019-04-19</td>\n",
              "      <td>41.3622</td>\n",
              "      <td>308.562012</td>\n",
              "    </tr>\n",
              "    <tr>\n",
              "      <th>161329</th>\n",
              "      <td>550638</td>\n",
              "      <td>22982</td>\n",
              "      <td>PANTRY PASTRY BRUSH</td>\n",
              "      <td>1</td>\n",
              "      <td>2019-04-19</td>\n",
              "      <td>2.46</td>\n",
              "      <td>NaN</td>\n",
              "      <td>United Kingdom</td>\n",
              "      <td>19/4/2019 15:44</td>\n",
              "      <td>2019-04-19</td>\n",
              "      <td>41.3622</td>\n",
              "      <td>101.751012</td>\n",
              "    </tr>\n",
              "    <tr>\n",
              "      <th>161330</th>\n",
              "      <td>550638</td>\n",
              "      <td>23193</td>\n",
              "      <td>BUFFALO BILL TREASURE BOOK BOX</td>\n",
              "      <td>1</td>\n",
              "      <td>2019-04-19</td>\n",
              "      <td>4.58</td>\n",
              "      <td>NaN</td>\n",
              "      <td>United Kingdom</td>\n",
              "      <td>19/4/2019 15:44</td>\n",
              "      <td>2019-04-19</td>\n",
              "      <td>41.3622</td>\n",
              "      <td>189.438876</td>\n",
              "    </tr>\n",
              "  </tbody>\n",
              "</table>\n",
              "<p>161331 rows × 12 columns</p>\n",
              "</div>"
            ],
            "text/plain": [
              "        InvoiceNo StockCode  ...     Rate    THBPrice\n",
              "0          536365    85123A  ...  43.7705  111.614775\n",
              "1          536365     71053  ...  43.7705  148.381995\n",
              "2          536365    84406B  ...  43.7705  120.368875\n",
              "3          536365    84029G  ...  43.7705  148.381995\n",
              "4          536365    84029E  ...  43.7705  148.381995\n",
              "...           ...       ...  ...      ...         ...\n",
              "161326     550638     22960  ...  41.3622  342.892638\n",
              "161327     550638     22961  ...  41.3622   59.975190\n",
              "161328     550638     22978  ...  41.3622  308.562012\n",
              "161329     550638     22982  ...  41.3622  101.751012\n",
              "161330     550638     23193  ...  41.3622  189.438876\n",
              "\n",
              "[161331 rows x 12 columns]"
            ]
          },
          "metadata": {
            "tags": []
          },
          "execution_count": 157
        }
      ]
    },
    {
      "cell_type": "code",
      "metadata": {
        "id": "FK82JyHWIvtu",
        "colab": {
          "base_uri": "https://localhost:8080/",
          "height": 856
        },
        "outputId": "ba0e45f8-5b43-4a7c-b9c7-a9f8dffaee59"
      },
      "source": [
        "final_df[\"THBPrice\"] = final_df.apply(lambda x: x[\"UnitPrice\"] * x[\"Rate\"], axis=1)  ## second method\n",
        "final_df"
      ],
      "execution_count": null,
      "outputs": [
        {
          "output_type": "execute_result",
          "data": {
            "text/html": [
              "<div>\n",
              "<style scoped>\n",
              "    .dataframe tbody tr th:only-of-type {\n",
              "        vertical-align: middle;\n",
              "    }\n",
              "\n",
              "    .dataframe tbody tr th {\n",
              "        vertical-align: top;\n",
              "    }\n",
              "\n",
              "    .dataframe thead th {\n",
              "        text-align: right;\n",
              "    }\n",
              "</style>\n",
              "<table border=\"1\" class=\"dataframe\">\n",
              "  <thead>\n",
              "    <tr style=\"text-align: right;\">\n",
              "      <th></th>\n",
              "      <th>InvoiceNo</th>\n",
              "      <th>StockCode</th>\n",
              "      <th>Description</th>\n",
              "      <th>Quantity</th>\n",
              "      <th>InvoiceDate</th>\n",
              "      <th>UnitPrice</th>\n",
              "      <th>CustomerID</th>\n",
              "      <th>Country</th>\n",
              "      <th>InvoiceTimestamp</th>\n",
              "      <th>date</th>\n",
              "      <th>Rate</th>\n",
              "      <th>THBPrice</th>\n",
              "    </tr>\n",
              "  </thead>\n",
              "  <tbody>\n",
              "    <tr>\n",
              "      <th>0</th>\n",
              "      <td>536365</td>\n",
              "      <td>85123A</td>\n",
              "      <td>WHITE HANGING HEART T-LIGHT HOLDER</td>\n",
              "      <td>6</td>\n",
              "      <td>2018-01-12</td>\n",
              "      <td>2.55</td>\n",
              "      <td>17850.0</td>\n",
              "      <td>United Kingdom</td>\n",
              "      <td>1/12/2018 08:26</td>\n",
              "      <td>2018-01-12</td>\n",
              "      <td>43.7705</td>\n",
              "      <td>111.614775</td>\n",
              "    </tr>\n",
              "    <tr>\n",
              "      <th>1</th>\n",
              "      <td>536365</td>\n",
              "      <td>71053</td>\n",
              "      <td>WHITE METAL LANTERN</td>\n",
              "      <td>6</td>\n",
              "      <td>2018-01-12</td>\n",
              "      <td>3.39</td>\n",
              "      <td>17850.0</td>\n",
              "      <td>United Kingdom</td>\n",
              "      <td>1/12/2018 08:26</td>\n",
              "      <td>2018-01-12</td>\n",
              "      <td>43.7705</td>\n",
              "      <td>148.381995</td>\n",
              "    </tr>\n",
              "    <tr>\n",
              "      <th>2</th>\n",
              "      <td>536365</td>\n",
              "      <td>84406B</td>\n",
              "      <td>CREAM CUPID HEARTS COAT HANGER</td>\n",
              "      <td>8</td>\n",
              "      <td>2018-01-12</td>\n",
              "      <td>2.75</td>\n",
              "      <td>17850.0</td>\n",
              "      <td>United Kingdom</td>\n",
              "      <td>1/12/2018 08:26</td>\n",
              "      <td>2018-01-12</td>\n",
              "      <td>43.7705</td>\n",
              "      <td>120.368875</td>\n",
              "    </tr>\n",
              "    <tr>\n",
              "      <th>3</th>\n",
              "      <td>536365</td>\n",
              "      <td>84029G</td>\n",
              "      <td>KNITTED UNION FLAG HOT WATER BOTTLE</td>\n",
              "      <td>6</td>\n",
              "      <td>2018-01-12</td>\n",
              "      <td>3.39</td>\n",
              "      <td>17850.0</td>\n",
              "      <td>United Kingdom</td>\n",
              "      <td>1/12/2018 08:26</td>\n",
              "      <td>2018-01-12</td>\n",
              "      <td>43.7705</td>\n",
              "      <td>148.381995</td>\n",
              "    </tr>\n",
              "    <tr>\n",
              "      <th>4</th>\n",
              "      <td>536365</td>\n",
              "      <td>84029E</td>\n",
              "      <td>RED WOOLLY HOTTIE WHITE HEART.</td>\n",
              "      <td>6</td>\n",
              "      <td>2018-01-12</td>\n",
              "      <td>3.39</td>\n",
              "      <td>17850.0</td>\n",
              "      <td>United Kingdom</td>\n",
              "      <td>1/12/2018 08:26</td>\n",
              "      <td>2018-01-12</td>\n",
              "      <td>43.7705</td>\n",
              "      <td>148.381995</td>\n",
              "    </tr>\n",
              "    <tr>\n",
              "      <th>...</th>\n",
              "      <td>...</td>\n",
              "      <td>...</td>\n",
              "      <td>...</td>\n",
              "      <td>...</td>\n",
              "      <td>...</td>\n",
              "      <td>...</td>\n",
              "      <td>...</td>\n",
              "      <td>...</td>\n",
              "      <td>...</td>\n",
              "      <td>...</td>\n",
              "      <td>...</td>\n",
              "      <td>...</td>\n",
              "    </tr>\n",
              "    <tr>\n",
              "      <th>161326</th>\n",
              "      <td>550638</td>\n",
              "      <td>22960</td>\n",
              "      <td>JAM MAKING SET WITH JARS</td>\n",
              "      <td>1</td>\n",
              "      <td>2019-04-19</td>\n",
              "      <td>8.29</td>\n",
              "      <td>NaN</td>\n",
              "      <td>United Kingdom</td>\n",
              "      <td>19/4/2019 15:44</td>\n",
              "      <td>2019-04-19</td>\n",
              "      <td>41.3622</td>\n",
              "      <td>342.892638</td>\n",
              "    </tr>\n",
              "    <tr>\n",
              "      <th>161327</th>\n",
              "      <td>550638</td>\n",
              "      <td>22961</td>\n",
              "      <td>JAM MAKING SET PRINTED</td>\n",
              "      <td>1</td>\n",
              "      <td>2019-04-19</td>\n",
              "      <td>1.45</td>\n",
              "      <td>NaN</td>\n",
              "      <td>United Kingdom</td>\n",
              "      <td>19/4/2019 15:44</td>\n",
              "      <td>2019-04-19</td>\n",
              "      <td>41.3622</td>\n",
              "      <td>59.975190</td>\n",
              "    </tr>\n",
              "    <tr>\n",
              "      <th>161328</th>\n",
              "      <td>550638</td>\n",
              "      <td>22978</td>\n",
              "      <td>PANTRY ROLLING PIN</td>\n",
              "      <td>1</td>\n",
              "      <td>2019-04-19</td>\n",
              "      <td>7.46</td>\n",
              "      <td>NaN</td>\n",
              "      <td>United Kingdom</td>\n",
              "      <td>19/4/2019 15:44</td>\n",
              "      <td>2019-04-19</td>\n",
              "      <td>41.3622</td>\n",
              "      <td>308.562012</td>\n",
              "    </tr>\n",
              "    <tr>\n",
              "      <th>161329</th>\n",
              "      <td>550638</td>\n",
              "      <td>22982</td>\n",
              "      <td>PANTRY PASTRY BRUSH</td>\n",
              "      <td>1</td>\n",
              "      <td>2019-04-19</td>\n",
              "      <td>2.46</td>\n",
              "      <td>NaN</td>\n",
              "      <td>United Kingdom</td>\n",
              "      <td>19/4/2019 15:44</td>\n",
              "      <td>2019-04-19</td>\n",
              "      <td>41.3622</td>\n",
              "      <td>101.751012</td>\n",
              "    </tr>\n",
              "    <tr>\n",
              "      <th>161330</th>\n",
              "      <td>550638</td>\n",
              "      <td>23193</td>\n",
              "      <td>BUFFALO BILL TREASURE BOOK BOX</td>\n",
              "      <td>1</td>\n",
              "      <td>2019-04-19</td>\n",
              "      <td>4.58</td>\n",
              "      <td>NaN</td>\n",
              "      <td>United Kingdom</td>\n",
              "      <td>19/4/2019 15:44</td>\n",
              "      <td>2019-04-19</td>\n",
              "      <td>41.3622</td>\n",
              "      <td>189.438876</td>\n",
              "    </tr>\n",
              "  </tbody>\n",
              "</table>\n",
              "<p>161331 rows × 12 columns</p>\n",
              "</div>"
            ],
            "text/plain": [
              "        InvoiceNo StockCode  ...     Rate    THBPrice\n",
              "0          536365    85123A  ...  43.7705  111.614775\n",
              "1          536365     71053  ...  43.7705  148.381995\n",
              "2          536365    84406B  ...  43.7705  120.368875\n",
              "3          536365    84029G  ...  43.7705  148.381995\n",
              "4          536365    84029E  ...  43.7705  148.381995\n",
              "...           ...       ...  ...      ...         ...\n",
              "161326     550638     22960  ...  41.3622  342.892638\n",
              "161327     550638     22961  ...  41.3622   59.975190\n",
              "161328     550638     22978  ...  41.3622  308.562012\n",
              "161329     550638     22982  ...  41.3622  101.751012\n",
              "161330     550638     23193  ...  41.3622  189.438876\n",
              "\n",
              "[161331 rows x 12 columns]"
            ]
          },
          "metadata": {
            "tags": []
          },
          "execution_count": 158
        }
      ]
    },
    {
      "cell_type": "code",
      "metadata": {
        "id": "JHwqtVUwJEo_",
        "colab": {
          "base_uri": "https://localhost:8080/",
          "height": 856
        },
        "outputId": "be223a4f-74ae-499d-89be-1d303cbe7998"
      },
      "source": [
        "## third method\n",
        "\n",
        "def convert_rate (price, rate) :\n",
        "  return price * rate\n",
        "\n",
        "final_df[\"THBPrice\"] = final_df.apply(lambda x: convert_rate (x[\"UnitPrice\"] , x[\"Rate\"]), axis=1)\n",
        "final_df\n"
      ],
      "execution_count": null,
      "outputs": [
        {
          "output_type": "execute_result",
          "data": {
            "text/html": [
              "<div>\n",
              "<style scoped>\n",
              "    .dataframe tbody tr th:only-of-type {\n",
              "        vertical-align: middle;\n",
              "    }\n",
              "\n",
              "    .dataframe tbody tr th {\n",
              "        vertical-align: top;\n",
              "    }\n",
              "\n",
              "    .dataframe thead th {\n",
              "        text-align: right;\n",
              "    }\n",
              "</style>\n",
              "<table border=\"1\" class=\"dataframe\">\n",
              "  <thead>\n",
              "    <tr style=\"text-align: right;\">\n",
              "      <th></th>\n",
              "      <th>InvoiceNo</th>\n",
              "      <th>StockCode</th>\n",
              "      <th>Description</th>\n",
              "      <th>Quantity</th>\n",
              "      <th>InvoiceDate</th>\n",
              "      <th>UnitPrice</th>\n",
              "      <th>CustomerID</th>\n",
              "      <th>Country</th>\n",
              "      <th>InvoiceTimestamp</th>\n",
              "      <th>date</th>\n",
              "      <th>Rate</th>\n",
              "      <th>THBPrice</th>\n",
              "    </tr>\n",
              "  </thead>\n",
              "  <tbody>\n",
              "    <tr>\n",
              "      <th>0</th>\n",
              "      <td>536365</td>\n",
              "      <td>85123A</td>\n",
              "      <td>WHITE HANGING HEART T-LIGHT HOLDER</td>\n",
              "      <td>6</td>\n",
              "      <td>2018-01-12</td>\n",
              "      <td>2.55</td>\n",
              "      <td>17850.0</td>\n",
              "      <td>United Kingdom</td>\n",
              "      <td>1/12/2018 08:26</td>\n",
              "      <td>2018-01-12</td>\n",
              "      <td>43.7705</td>\n",
              "      <td>111.614775</td>\n",
              "    </tr>\n",
              "    <tr>\n",
              "      <th>1</th>\n",
              "      <td>536365</td>\n",
              "      <td>71053</td>\n",
              "      <td>WHITE METAL LANTERN</td>\n",
              "      <td>6</td>\n",
              "      <td>2018-01-12</td>\n",
              "      <td>3.39</td>\n",
              "      <td>17850.0</td>\n",
              "      <td>United Kingdom</td>\n",
              "      <td>1/12/2018 08:26</td>\n",
              "      <td>2018-01-12</td>\n",
              "      <td>43.7705</td>\n",
              "      <td>148.381995</td>\n",
              "    </tr>\n",
              "    <tr>\n",
              "      <th>2</th>\n",
              "      <td>536365</td>\n",
              "      <td>84406B</td>\n",
              "      <td>CREAM CUPID HEARTS COAT HANGER</td>\n",
              "      <td>8</td>\n",
              "      <td>2018-01-12</td>\n",
              "      <td>2.75</td>\n",
              "      <td>17850.0</td>\n",
              "      <td>United Kingdom</td>\n",
              "      <td>1/12/2018 08:26</td>\n",
              "      <td>2018-01-12</td>\n",
              "      <td>43.7705</td>\n",
              "      <td>120.368875</td>\n",
              "    </tr>\n",
              "    <tr>\n",
              "      <th>3</th>\n",
              "      <td>536365</td>\n",
              "      <td>84029G</td>\n",
              "      <td>KNITTED UNION FLAG HOT WATER BOTTLE</td>\n",
              "      <td>6</td>\n",
              "      <td>2018-01-12</td>\n",
              "      <td>3.39</td>\n",
              "      <td>17850.0</td>\n",
              "      <td>United Kingdom</td>\n",
              "      <td>1/12/2018 08:26</td>\n",
              "      <td>2018-01-12</td>\n",
              "      <td>43.7705</td>\n",
              "      <td>148.381995</td>\n",
              "    </tr>\n",
              "    <tr>\n",
              "      <th>4</th>\n",
              "      <td>536365</td>\n",
              "      <td>84029E</td>\n",
              "      <td>RED WOOLLY HOTTIE WHITE HEART.</td>\n",
              "      <td>6</td>\n",
              "      <td>2018-01-12</td>\n",
              "      <td>3.39</td>\n",
              "      <td>17850.0</td>\n",
              "      <td>United Kingdom</td>\n",
              "      <td>1/12/2018 08:26</td>\n",
              "      <td>2018-01-12</td>\n",
              "      <td>43.7705</td>\n",
              "      <td>148.381995</td>\n",
              "    </tr>\n",
              "    <tr>\n",
              "      <th>...</th>\n",
              "      <td>...</td>\n",
              "      <td>...</td>\n",
              "      <td>...</td>\n",
              "      <td>...</td>\n",
              "      <td>...</td>\n",
              "      <td>...</td>\n",
              "      <td>...</td>\n",
              "      <td>...</td>\n",
              "      <td>...</td>\n",
              "      <td>...</td>\n",
              "      <td>...</td>\n",
              "      <td>...</td>\n",
              "    </tr>\n",
              "    <tr>\n",
              "      <th>161326</th>\n",
              "      <td>550638</td>\n",
              "      <td>22960</td>\n",
              "      <td>JAM MAKING SET WITH JARS</td>\n",
              "      <td>1</td>\n",
              "      <td>2019-04-19</td>\n",
              "      <td>8.29</td>\n",
              "      <td>NaN</td>\n",
              "      <td>United Kingdom</td>\n",
              "      <td>19/4/2019 15:44</td>\n",
              "      <td>2019-04-19</td>\n",
              "      <td>41.3622</td>\n",
              "      <td>342.892638</td>\n",
              "    </tr>\n",
              "    <tr>\n",
              "      <th>161327</th>\n",
              "      <td>550638</td>\n",
              "      <td>22961</td>\n",
              "      <td>JAM MAKING SET PRINTED</td>\n",
              "      <td>1</td>\n",
              "      <td>2019-04-19</td>\n",
              "      <td>1.45</td>\n",
              "      <td>NaN</td>\n",
              "      <td>United Kingdom</td>\n",
              "      <td>19/4/2019 15:44</td>\n",
              "      <td>2019-04-19</td>\n",
              "      <td>41.3622</td>\n",
              "      <td>59.975190</td>\n",
              "    </tr>\n",
              "    <tr>\n",
              "      <th>161328</th>\n",
              "      <td>550638</td>\n",
              "      <td>22978</td>\n",
              "      <td>PANTRY ROLLING PIN</td>\n",
              "      <td>1</td>\n",
              "      <td>2019-04-19</td>\n",
              "      <td>7.46</td>\n",
              "      <td>NaN</td>\n",
              "      <td>United Kingdom</td>\n",
              "      <td>19/4/2019 15:44</td>\n",
              "      <td>2019-04-19</td>\n",
              "      <td>41.3622</td>\n",
              "      <td>308.562012</td>\n",
              "    </tr>\n",
              "    <tr>\n",
              "      <th>161329</th>\n",
              "      <td>550638</td>\n",
              "      <td>22982</td>\n",
              "      <td>PANTRY PASTRY BRUSH</td>\n",
              "      <td>1</td>\n",
              "      <td>2019-04-19</td>\n",
              "      <td>2.46</td>\n",
              "      <td>NaN</td>\n",
              "      <td>United Kingdom</td>\n",
              "      <td>19/4/2019 15:44</td>\n",
              "      <td>2019-04-19</td>\n",
              "      <td>41.3622</td>\n",
              "      <td>101.751012</td>\n",
              "    </tr>\n",
              "    <tr>\n",
              "      <th>161330</th>\n",
              "      <td>550638</td>\n",
              "      <td>23193</td>\n",
              "      <td>BUFFALO BILL TREASURE BOOK BOX</td>\n",
              "      <td>1</td>\n",
              "      <td>2019-04-19</td>\n",
              "      <td>4.58</td>\n",
              "      <td>NaN</td>\n",
              "      <td>United Kingdom</td>\n",
              "      <td>19/4/2019 15:44</td>\n",
              "      <td>2019-04-19</td>\n",
              "      <td>41.3622</td>\n",
              "      <td>189.438876</td>\n",
              "    </tr>\n",
              "  </tbody>\n",
              "</table>\n",
              "<p>161331 rows × 12 columns</p>\n",
              "</div>"
            ],
            "text/plain": [
              "        InvoiceNo StockCode  ...     Rate    THBPrice\n",
              "0          536365    85123A  ...  43.7705  111.614775\n",
              "1          536365     71053  ...  43.7705  148.381995\n",
              "2          536365    84406B  ...  43.7705  120.368875\n",
              "3          536365    84029G  ...  43.7705  148.381995\n",
              "4          536365    84029E  ...  43.7705  148.381995\n",
              "...           ...       ...  ...      ...         ...\n",
              "161326     550638     22960  ...  41.3622  342.892638\n",
              "161327     550638     22961  ...  41.3622   59.975190\n",
              "161328     550638     22978  ...  41.3622  308.562012\n",
              "161329     550638     22982  ...  41.3622  101.751012\n",
              "161330     550638     23193  ...  41.3622  189.438876\n",
              "\n",
              "[161331 rows x 12 columns]"
            ]
          },
          "metadata": {
            "tags": []
          },
          "execution_count": 159
        }
      ]
    },
    {
      "cell_type": "markdown",
      "metadata": {
        "id": "V2FrTSy9JcD5"
      },
      "source": [
        "**Save to CSV**"
      ]
    },
    {
      "cell_type": "code",
      "metadata": {
        "id": "QMu2oFyrJYUN"
      },
      "source": [
        "final_df.to_csv (\"output.csv\" , index=False)"
      ],
      "execution_count": null,
      "outputs": []
    },
    {
      "cell_type": "code",
      "metadata": {
        "id": "CvVD79GyJ4HB",
        "colab": {
          "base_uri": "https://localhost:8080/"
        },
        "outputId": "d85e8643-9073-43ef-8fca-de7c16d4198c"
      },
      "source": [
        "print (\"End\")"
      ],
      "execution_count": null,
      "outputs": [
        {
          "output_type": "stream",
          "text": [
            "End\n"
          ],
          "name": "stdout"
        }
      ]
    }
  ]
}