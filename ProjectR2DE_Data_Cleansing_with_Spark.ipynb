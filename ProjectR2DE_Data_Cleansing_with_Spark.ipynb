{
  "nbformat": 4,
  "nbformat_minor": 0,
  "metadata": {
    "colab": {
      "provenance": [],
      "mount_file_id": "1pQH5bFMgeEAJj3Kc1xuemRNpEpnO8Pi3",
      "authorship_tag": "ABX9TyMMUNnX9jrgh59l3HnWiC35"
    },
    "kernelspec": {
      "name": "python3",
      "display_name": "Python 3"
    },
    "language_info": {
      "name": "python"
    }
  },
  "cells": [
    {
      "cell_type": "markdown",
      "metadata": {
        "id": "uiyT5IKipalm"
      },
      "source": [
        "### **PySpark, Spark SQL and Pandas for Quality data**\n",
        "\n"
      ]
    },
    {
      "cell_type": "markdown",
      "metadata": {
        "id": "bH_hb2FTnsdN"
      },
      "source": [
        "Input\n",
        "\n",
        "*   CSV data\n",
        "*   Notebook work with Spark, PySpark, Pandas\n",
        "\n",
        "Output \n",
        "\n",
        "*   CSV data cleansing\n",
        "\n",
        "\n",
        "RDD: https://www.datacamp.com/community/blog/pyspark-cheat-sheet-python\n",
        "\n",
        "DataFrame: https://www.datacamp.com/community/blog/pyspark-sql-cheat-sheet"
      ]
    },
    {
      "cell_type": "markdown",
      "metadata": {
        "id": "RcBP3tHAqITH"
      },
      "source": [
        "**Online shop data**\n",
        "\n",
        "Data Dictionary\n",
        "https://archive.ics.uci.edu/ml/datasets/Online+Retail\n",
        "\n",
        "This is a transactional data set which contains all the transactions occurring between 01/12/2018 and 09/12/2019 for a UK-based and registered non-store online retail.\n",
        "\n",
        "The company mainly sells unique all-occasion gifts. Many customers of the company are wholesalers.\n",
        "\n",
        "\n",
        "*  InvoiceNo: Invoice number. Nominal, a 6-digit integral number uniquely assigned to each transaction. If this code starts with letter 'c', it indicates a cancellation.\n",
        "\n",
        "*   StockCode: Product (item) code. Nominal, a 5-digit integral number uniquely assigned to each distinct product.\n",
        "Description: Product (item) name. Nominal.\n",
        "\n",
        "*   Quantity: The quantities of each product (item) per transaction. Numeric.\n",
        "\n",
        "*   InvoiceDate: Invice Date and time. Numeric, the day and time when each transaction was generated.\n",
        "\n",
        "* UnitPrice: Unit price. Numeric, Product price per unit in sterling.\n",
        "*  CustomerID: Customer number. Nominal, a 5-digit integral number uniquely assigned to each customer.\n",
        "\n",
        "*   Country: Country name. Nominal, the name of the country where each customer resides.\n"
      ]
    },
    {
      "cell_type": "markdown",
      "metadata": {
        "id": "0jjyoAjAreE4"
      },
      "source": [
        "**Install PySpark connection with Google Colab & Google Drive**"
      ]
    },
    {
      "cell_type": "code",
      "metadata": {
        "id": "ldvao2Ognpzm"
      },
      "source": [
        "!apt-get update\n",
        "!apt-get install openjdk-8-jdk-headless -qq > /dev/null\n",
        "!wget -q https://archive.apache.org/dist/spark/spark-2.4.5/spark-2.4.5-bin-hadoop2.7.tgz\n",
        "!tar xzvf spark-2.4.5-bin-hadoop2.7.tgz\n",
        "!pip install -q findspark==1.3.0"
      ],
      "execution_count": null,
      "outputs": []
    },
    {
      "cell_type": "code",
      "metadata": {
        "id": "uTlxQakWtoHH"
      },
      "source": [
        "# Set enviroment variable known to Spark\n",
        "import os\n",
        "os.environ[\"JAVA_HOME\"] = \"/usr/lib/jvm/java-8-openjdk-amd64\"\n",
        "os.environ[\"SPARK_HOME\"] = \"/content/spark-2.4.5-bin-hadoop2.7\""
      ],
      "execution_count": null,
      "outputs": []
    },
    {
      "cell_type": "code",
      "metadata": {
        "colab": {
          "base_uri": "https://localhost:8080/"
        },
        "id": "xEbn4fJ1t9Vz",
        "outputId": "e021e600-43b9-4e95-cfab-490c6bd6fd9e"
      },
      "source": [
        "# Install pyspark with pip\n",
        "!pip install pyspark==2.4.5"
      ],
      "execution_count": null,
      "outputs": [
        {
          "output_type": "stream",
          "text": [
            "Requirement already satisfied: pyspark==2.4.5 in /usr/local/lib/python3.7/dist-packages (2.4.5)\n",
            "Requirement already satisfied: py4j==0.10.7 in /usr/local/lib/python3.7/dist-packages (from pyspark==2.4.5) (0.10.7)\n"
          ],
          "name": "stdout"
        }
      ]
    },
    {
      "cell_type": "markdown",
      "metadata": {
        "id": "7XhpzxV0vhRk"
      },
      "source": [
        "**Use Spark**\n",
        "\n",
        "Use local[*] open work for multi-core. Spark Processing  for permission use CPU every core. "
      ]
    },
    {
      "cell_type": "code",
      "metadata": {
        "id": "pGZS12jhvN_R"
      },
      "source": [
        "# How many Core in Server of Google Colab\n",
        "!cat /proc/cpuinfo"
      ],
      "execution_count": null,
      "outputs": []
    },
    {
      "cell_type": "code",
      "metadata": {
        "id": "3F8aZ0axyi-T"
      },
      "source": [
        "# Create Spark Session\n",
        "from pyspark.sql import SparkSession\n",
        "spark = SparkSession.builder.master(\"local[*]\").getOrCreate()"
      ],
      "execution_count": null,
      "outputs": []
    },
    {
      "cell_type": "code",
      "metadata": {
        "colab": {
          "base_uri": "https://localhost:8080/"
        },
        "id": "EqyWASLTyvpx",
        "outputId": "640c9473-8667-4ff1-893f-6fcfd5da66b4"
      },
      "source": [
        "# Get Python version\n",
        "import sys\n",
        "sys.version_info"
      ],
      "execution_count": null,
      "outputs": [
        {
          "output_type": "execute_result",
          "data": {
            "text/plain": [
              "sys.version_info(major=3, minor=7, micro=10, releaselevel='final', serial=0)"
            ]
          },
          "metadata": {
            "tags": []
          },
          "execution_count": 160
        }
      ]
    },
    {
      "cell_type": "code",
      "metadata": {
        "colab": {
          "base_uri": "https://localhost:8080/",
          "height": 35
        },
        "id": "xzB-0OpYyyeI",
        "outputId": "8bc086df-a6cc-4db4-fd2c-0fdbf9530d8b"
      },
      "source": [
        "# Get Spark version\n",
        "spark.version"
      ],
      "execution_count": null,
      "outputs": [
        {
          "output_type": "execute_result",
          "data": {
            "application/vnd.google.colaboratory.intrinsic+json": {
              "type": "string"
            },
            "text/plain": [
              "'2.4.5'"
            ]
          },
          "metadata": {
            "tags": []
          },
          "execution_count": 161
        }
      ]
    },
    {
      "cell_type": "markdown",
      "metadata": {
        "id": "dNnmcW670P18"
      },
      "source": [
        "**Connect with Google Drive**"
      ]
    },
    {
      "cell_type": "code",
      "metadata": {
        "colab": {
          "base_uri": "https://localhost:8080/"
        },
        "id": "0W0R3UW50KmK",
        "outputId": "89c4f02e-16d8-4678-b67f-dc20e1b77ba2"
      },
      "source": [
        "# connect with Google colab & Google Drive\n",
        "from google.colab import drive\n",
        "drive.mount('/content/drive')"
      ],
      "execution_count": null,
      "outputs": [
        {
          "output_type": "stream",
          "text": [
            "Drive already mounted at /content/drive; to attempt to forcibly remount, call drive.mount(\"/content/drive\", force_remount=True).\n"
          ],
          "name": "stdout"
        }
      ]
    },
    {
      "cell_type": "code",
      "metadata": {
        "id": "oacheAE-0kBd"
      },
      "source": [
        "dt = spark.read.csv('/content/Online Retail WS2 (1).csv', header = True, inferSchema = True, )"
      ],
      "execution_count": null,
      "outputs": []
    },
    {
      "cell_type": "markdown",
      "metadata": {
        "id": "9QhL5OX9A1ZB"
      },
      "source": [
        "**Data Profiling**"
      ]
    },
    {
      "cell_type": "markdown",
      "metadata": {
        "id": "YfGN-MMGA7rY"
      },
      "source": [
        "Data Profiling is a process of analysing summary of the data.\n",
        "\n",
        "Example: max, min, average, sum, how many missing values etc.\n",
        "\n",
        "Data\n",
        "   Columns\n",
        "\n",
        "            InvoiceNo\n",
        "            StockCode\n",
        "            Description\n",
        "            Quantity\n",
        "            InvoiceDate\n",
        "            UnitPrice\n",
        "            CustomerID\n",
        "            Country\n",
        "\n",
        "\n",
        "\n"
      ]
    },
    {
      "cell_type": "code",
      "metadata": {
        "colab": {
          "base_uri": "https://localhost:8080/"
        },
        "id": "2YaE-6ioA3xC",
        "outputId": "0e857fc1-c761-454b-e11b-6d51120e7f0c"
      },
      "source": [
        "dt"
      ],
      "execution_count": null,
      "outputs": [
        {
          "output_type": "execute_result",
          "data": {
            "text/plain": [
              "DataFrame[InvoiceNo: string, StockCode: string, Description: string, Quantity: int, InvoiceDate: string, UnitPrice: double, CustomerID: double, Country: string]"
            ]
          },
          "metadata": {
            "tags": []
          },
          "execution_count": 164
        }
      ]
    },
    {
      "cell_type": "code",
      "metadata": {
        "colab": {
          "base_uri": "https://localhost:8080/"
        },
        "id": "2tx4T-yRBWkR",
        "outputId": "961cb02a-10d7-422e-9869-9295df8b7c45"
      },
      "source": [
        "dt.show()"
      ],
      "execution_count": null,
      "outputs": [
        {
          "output_type": "stream",
          "text": [
            "+---------+---------+--------------------+--------+---------------+---------+----------+--------------+\n",
            "|InvoiceNo|StockCode|         Description|Quantity|    InvoiceDate|UnitPrice|CustomerID|       Country|\n",
            "+---------+---------+--------------------+--------+---------------+---------+----------+--------------+\n",
            "|   536365|   85123A|WHITE HANGING HEA...|       6|1/12/2018 08:26|     2.55|   17850.0|United Kingdom|\n",
            "|   536365|    71053| WHITE METAL LANTERN|       6|1/12/2018 08:26|     3.39|   17850.0|United Kingdom|\n",
            "|   536365|   84406B|CREAM CUPID HEART...|       8|1/12/2018 08:26|     2.75|   17850.0|United Kingdom|\n",
            "|   536365|   84029G|KNITTED UNION FLA...|       6|1/12/2018 08:26|     3.39|   17850.0|United Kingdom|\n",
            "|   536365|   84029E|RED WOOLLY HOTTIE...|       6|1/12/2018 08:26|     3.39|   17850.0|United Kingdom|\n",
            "|   536365|    22752|SET 7 BABUSHKA NE...|       2|1/12/2018 08:26|     7.65|   17850.0|United Kingdom|\n",
            "|   536365|    21730|GLASS STAR FROSTE...|       6|1/12/2018 08:26|     4.25|   17850.0|United Kingdom|\n",
            "|   536366|    22633|HAND WARMER UNION...|       6|1/12/2018 08:28|     1.85|   17850.0|United Kingdom|\n",
            "|   536366|    22632|HAND WARMER RED P...|       6|1/12/2018 08:28|     1.85|   17850.0|United Kingdom|\n",
            "|   536367|    84879|ASSORTED COLOUR B...|      32|1/12/2018 08:34|     1.69|   13047.0|United Kingdom|\n",
            "|   536367|    22745|POPPY'S PLAYHOUSE...|       6|1/12/2018 08:34|      2.1|   13047.0|United Kingdom|\n",
            "|   536367|    22748|POPPY'S PLAYHOUSE...|       6|1/12/2018 08:34|      2.1|   13047.0|United Kingdom|\n",
            "|   536367|    22749|FELTCRAFT PRINCES...|       8|1/12/2018 08:34|     3.75|   13047.0|United Kingdom|\n",
            "|   536367|    22310|IVORY KNITTED MUG...|       6|1/12/2018 08:34|     1.65|   13047.0|United Kingdom|\n",
            "|   536367|    84969|BOX OF 6 ASSORTED...|       6|1/12/2018 08:34|     4.25|   13047.0|United Kingdom|\n",
            "|   536367|    22623|BOX OF VINTAGE JI...|       3|1/12/2018 08:34|     4.95|   13047.0|United Kingdom|\n",
            "|   536367|    22622|BOX OF VINTAGE AL...|       2|1/12/2018 08:34|     9.95|   13047.0|United Kingdom|\n",
            "|   536367|    21754|HOME BUILDING BLO...|       3|1/12/2018 08:34|     5.95|   13047.0|United Kingdom|\n",
            "|   536367|    21755|LOVE BUILDING BLO...|       3|1/12/2018 08:34|     5.95|   13047.0|United Kingdom|\n",
            "|   536367|    21777|RECIPE BOX WITH M...|       4|1/12/2018 08:34|     7.95|   13047.0|United Kingdom|\n",
            "+---------+---------+--------------------+--------+---------------+---------+----------+--------------+\n",
            "only showing top 20 rows\n",
            "\n"
          ],
          "name": "stdout"
        }
      ]
    },
    {
      "cell_type": "code",
      "metadata": {
        "colab": {
          "base_uri": "https://localhost:8080/"
        },
        "id": "k_EMS6ZnBZtJ",
        "outputId": "9edf90f4-b6de-4c83-f814-a2f7c6cfd238"
      },
      "source": [
        "dt.show(100)"
      ],
      "execution_count": null,
      "outputs": [
        {
          "output_type": "stream",
          "text": [
            "+---------+---------+--------------------+--------+---------------+---------+----------+--------------+\n",
            "|InvoiceNo|StockCode|         Description|Quantity|    InvoiceDate|UnitPrice|CustomerID|       Country|\n",
            "+---------+---------+--------------------+--------+---------------+---------+----------+--------------+\n",
            "|   536365|   85123A|WHITE HANGING HEA...|       6|1/12/2018 08:26|     2.55|   17850.0|United Kingdom|\n",
            "|   536365|    71053| WHITE METAL LANTERN|       6|1/12/2018 08:26|     3.39|   17850.0|United Kingdom|\n",
            "|   536365|   84406B|CREAM CUPID HEART...|       8|1/12/2018 08:26|     2.75|   17850.0|United Kingdom|\n",
            "|   536365|   84029G|KNITTED UNION FLA...|       6|1/12/2018 08:26|     3.39|   17850.0|United Kingdom|\n",
            "|   536365|   84029E|RED WOOLLY HOTTIE...|       6|1/12/2018 08:26|     3.39|   17850.0|United Kingdom|\n",
            "|   536365|    22752|SET 7 BABUSHKA NE...|       2|1/12/2018 08:26|     7.65|   17850.0|United Kingdom|\n",
            "|   536365|    21730|GLASS STAR FROSTE...|       6|1/12/2018 08:26|     4.25|   17850.0|United Kingdom|\n",
            "|   536366|    22633|HAND WARMER UNION...|       6|1/12/2018 08:28|     1.85|   17850.0|United Kingdom|\n",
            "|   536366|    22632|HAND WARMER RED P...|       6|1/12/2018 08:28|     1.85|   17850.0|United Kingdom|\n",
            "|   536367|    84879|ASSORTED COLOUR B...|      32|1/12/2018 08:34|     1.69|   13047.0|United Kingdom|\n",
            "|   536367|    22745|POPPY'S PLAYHOUSE...|       6|1/12/2018 08:34|      2.1|   13047.0|United Kingdom|\n",
            "|   536367|    22748|POPPY'S PLAYHOUSE...|       6|1/12/2018 08:34|      2.1|   13047.0|United Kingdom|\n",
            "|   536367|    22749|FELTCRAFT PRINCES...|       8|1/12/2018 08:34|     3.75|   13047.0|United Kingdom|\n",
            "|   536367|    22310|IVORY KNITTED MUG...|       6|1/12/2018 08:34|     1.65|   13047.0|United Kingdom|\n",
            "|   536367|    84969|BOX OF 6 ASSORTED...|       6|1/12/2018 08:34|     4.25|   13047.0|United Kingdom|\n",
            "|   536367|    22623|BOX OF VINTAGE JI...|       3|1/12/2018 08:34|     4.95|   13047.0|United Kingdom|\n",
            "|   536367|    22622|BOX OF VINTAGE AL...|       2|1/12/2018 08:34|     9.95|   13047.0|United Kingdom|\n",
            "|   536367|    21754|HOME BUILDING BLO...|       3|1/12/2018 08:34|     5.95|   13047.0|United Kingdom|\n",
            "|   536367|    21755|LOVE BUILDING BLO...|       3|1/12/2018 08:34|     5.95|   13047.0|United Kingdom|\n",
            "|   536367|    21777|RECIPE BOX WITH M...|       4|1/12/2018 08:34|     7.95|   13047.0|United Kingdom|\n",
            "|   536367|    48187| DOORMAT NEW ENGLAND|       4|1/12/2018 08:34|     7.95|   13047.0|United Kingdom|\n",
            "|   536368|    22960|JAM MAKING SET WI...|       6|1/12/2018 08:34|     4.25|   13047.0|United Kingdom|\n",
            "|   536368|    22913|RED COAT RACK PAR...|       3|1/12/2018 08:34|     4.95|   13047.0|United Kingdom|\n",
            "|   536368|    22912|YELLOW COAT RACK ...|       3|1/12/2018 08:34|     4.95|   13047.0|United Kingdom|\n",
            "|   536368|    22914|BLUE COAT RACK PA...|       3|1/12/2018 08:34|     4.95|   13047.0|United Kingdom|\n",
            "|   536369|    21756|BATH BUILDING BLO...|       3|1/12/2018 08:35|     5.95|   13047.0|United Kingdom|\n",
            "|   536370|    22728|ALARM CLOCK BAKEL...|      24|1/12/2018 08:45|     3.75|   12583.0|        France|\n",
            "|   536370|    22727|ALARM CLOCK BAKEL...|      24|1/12/2018 08:45|     3.75|   12583.0|        France|\n",
            "|   536370|    22726|ALARM CLOCK BAKEL...|      12|1/12/2018 08:45|     3.75|   12583.0|        France|\n",
            "|   536370|    21724|PANDA AND BUNNIES...|      12|1/12/2018 08:45|     0.85|   12583.0|        France|\n",
            "|   536370|    21883|    STARS GIFT TAPE |      24|1/12/2018 08:45|     0.65|   12583.0|        France|\n",
            "|   536370|    10002|INFLATABLE POLITI...|      48|1/12/2018 08:45|     0.85|   12583.0|        France|\n",
            "|   536370|    21791|VINTAGE HEADS AND...|      24|1/12/2018 08:45|     1.25|   12583.0|        France|\n",
            "|   536370|    21035|SET/2 RED RETROSP...|      18|1/12/2018 08:45|     2.95|   12583.0|        France|\n",
            "|   536370|    22326|ROUND SNACK BOXES...|      24|1/12/2018 08:45|     2.95|   12583.0|        France|\n",
            "|   536370|    22629| SPACEBOY LUNCH BOX |      24|1/12/2018 08:45|     1.95|   12583.0|        France|\n",
            "|   536370|    22659|LUNCH BOX I LOVE ...|      24|1/12/2018 08:45|     1.95|   12583.0|        France|\n",
            "|   536370|    22631|CIRCUS PARADE LUN...|      24|1/12/2018 08:45|     1.95|   12583.0|        France|\n",
            "|   536370|    22661|CHARLOTTE BAG DOL...|      20|1/12/2018 08:45|     0.85|   12583.0|        France|\n",
            "|   536370|    21731|RED TOADSTOOL LED...|      24|1/12/2018 08:45|     1.65|   12583.0|        France|\n",
            "|   536370|    22900| SET 2 TEA TOWELS...|      24|1/12/2018 08:45|     2.95|   12583.0|        France|\n",
            "|   536370|    21913|VINTAGE SEASIDE J...|      12|1/12/2018 08:45|     3.75|   12583.0|        France|\n",
            "|   536370|    22540|MINI JIGSAW CIRCU...|      24|1/12/2018 08:45|     0.42|   12583.0|        France|\n",
            "|   536370|    22544|MINI JIGSAW SPACEBOY|      24|1/12/2018 08:45|     0.42|   12583.0|        France|\n",
            "|   536370|    22492|MINI PAINT SET VI...|      36|1/12/2018 08:45|     0.65|   12583.0|        France|\n",
            "|   536370|     POST|             POSTAGE|       3|1/12/2018 08:45|     18.0|   12583.0|        France|\n",
            "|   536371|    22086|PAPER CHAIN KIT 5...|      80|1/12/2018 09:00|     2.55|   13748.0|United Kingdom|\n",
            "|   536372|    22632|HAND WARMER RED P...|       6|1/12/2018 09:01|     1.85|   17850.0|United Kingdom|\n",
            "|   536372|    22633|HAND WARMER UNION...|       6|1/12/2018 09:01|     1.85|   17850.0|United Kingdom|\n",
            "|   536373|   85123A|WHITE HANGING HEA...|       6|1/12/2018 09:02|     2.55|   17850.0|United Kingdom|\n",
            "|   536373|    71053| WHITE METAL LANTERN|       6|1/12/2018 09:02|     3.39|   17850.0|United Kingdom|\n",
            "|   536373|   84406B|CREAM CUPID HEART...|       8|1/12/2018 09:02|     2.75|   17850.0|United Kingdom|\n",
            "|   536373|    20679|EDWARDIAN PARASOL...|       6|1/12/2018 09:02|     4.95|   17850.0|United Kingdom|\n",
            "|   536373|    37370|RETRO COFFEE MUGS...|       6|1/12/2018 09:02|     1.06|   17850.0|United Kingdom|\n",
            "|   536373|    21871| SAVE THE PLANET MUG|       6|1/12/2018 09:02|     1.06|   17850.0|United Kingdom|\n",
            "|   536373|    21071|VINTAGE BILLBOARD...|       6|1/12/2018 09:02|     1.06|   17850.0|United Kingdom|\n",
            "|   536373|    21068|VINTAGE BILLBOARD...|       6|1/12/2018 09:02|     1.06|   17850.0|United Kingdom|\n",
            "|   536373|    82483|WOOD 2 DRAWER CAB...|       2|1/12/2018 09:02|     4.95|   17850.0|United Kingdom|\n",
            "|   536373|    82486|WOOD S/3 CABINET ...|       4|1/12/2018 09:02|     6.95|   17850.0|United Kingdom|\n",
            "|   536373|    82482|WOODEN PICTURE FR...|       6|1/12/2018 09:02|      2.1|   17850.0|United Kingdom|\n",
            "|   536373|   82494L|WOODEN FRAME ANTI...|       6|1/12/2018 09:02|     2.55|   17850.0|United Kingdom|\n",
            "|   536373|   84029G|KNITTED UNION FLA...|       6|1/12/2018 09:02|     3.39|   17850.0|United Kingdom|\n",
            "|   536373|   84029E|RED WOOLLY HOTTIE...|       6|1/12/2018 09:02|     3.39|   17850.0|United Kingdom|\n",
            "|   536373|    22752|SET 7 BABUSHKA NE...|       2|1/12/2018 09:02|     7.65|   17850.0|United Kingdom|\n",
            "|   536373|    21730|GLASS STAR FROSTE...|       6|1/12/2018 09:02|     4.25|   17850.0|United Kingdom|\n",
            "|   536374|    21258|VICTORIAN SEWING ...|      32|1/12/2018 09:09|    10.95|   15100.0|United Kingdom|\n",
            "|   536375|   85123A|WHITE HANGING HEA...|       6|1/12/2018 09:32|     2.55|   17850.0|United Kingdom|\n",
            "|   536375|    71053| WHITE METAL LANTERN|       6|1/12/2018 09:32|     3.39|   17850.0|United Kingdom|\n",
            "|   536375|   84406B|CREAM CUPID HEART...|       8|1/12/2018 09:32|     2.75|   17850.0|United Kingdom|\n",
            "|   536375|    20679|EDWARDIAN PARASOL...|       6|1/12/2018 09:32|     4.95|   17850.0|United Kingdom|\n",
            "|   536375|    37370|RETRO COFFEE MUGS...|       6|1/12/2018 09:32|     1.06|   17850.0|United Kingdom|\n",
            "|   536375|    21871| SAVE THE PLANET MUG|       6|1/12/2018 09:32|     1.06|   17850.0|United Kingdom|\n",
            "|   536375|    21071|VINTAGE BILLBOARD...|       6|1/12/2018 09:32|     1.06|   17850.0|United Kingdom|\n",
            "|   536375|    21068|VINTAGE BILLBOARD...|       6|1/12/2018 09:32|     1.06|   17850.0|United Kingdom|\n",
            "|   536375|    82483|WOOD 2 DRAWER CAB...|       2|1/12/2018 09:32|     4.95|   17850.0|United Kingdom|\n",
            "|   536375|    82486|WOOD S/3 CABINET ...|       4|1/12/2018 09:32|     6.95|   17850.0|United Kingdom|\n",
            "|   536375|    82482|WOODEN PICTURE FR...|       6|1/12/2018 09:32|      2.1|   17850.0|United Kingdom|\n",
            "|   536375|   82494L|WOODEN FRAME ANTI...|       6|1/12/2018 09:32|     2.55|   17850.0|United Kingdom|\n",
            "|   536375|   84029G|KNITTED UNION FLA...|       6|1/12/2018 09:32|     3.39|   17850.0|United Kingdom|\n",
            "|   536375|   84029E|RED WOOLLY HOTTIE...|       6|1/12/2018 09:32|     3.39|   17850.0|United Kingdom|\n",
            "|   536375|    22752|SET 7 BABUSHKA NE...|       2|1/12/2018 09:32|     7.65|   17850.0|United Kingdom|\n",
            "|   536375|    21730|GLASS STAR FROSTE...|       6|1/12/2018 09:32|     4.25|   17850.0|United Kingdom|\n",
            "|   536376|    22114|HOT WATER BOTTLE ...|      48|1/12/2018 09:32|     3.45|   15291.0|United Kingdom|\n",
            "|   536376|    21733|RED HANGING HEART...|      64|1/12/2018 09:32|     2.55|   15291.0|United Kingdom|\n",
            "|   536377|    22632|HAND WARMER RED P...|       6|1/12/2018 09:34|     1.85|   17850.0|United Kingdom|\n",
            "|   536377|    22633|HAND WARMER UNION...|       6|1/12/2018 09:34|     1.85|   17850.0|United Kingdom|\n",
            "|   536378|    22386|JUMBO BAG PINK PO...|      10|1/12/2018 09:37|     1.95|   14688.0|United Kingdom|\n",
            "|   536378|   85099C|JUMBO  BAG BAROQU...|      10|1/12/2018 09:37|     1.95|   14688.0|United Kingdom|\n",
            "|   536378|    21033|JUMBO BAG CHARLIE...|      10|1/12/2018 09:37|     2.95|   14688.0|United Kingdom|\n",
            "|   536378|    20723|STRAWBERRY CHARLO...|      10|1/12/2018 09:37|     0.85|   14688.0|United Kingdom|\n",
            "|   536378|   84997B|RED 3 PIECE RETRO...|      12|1/12/2018 09:37|     3.75|   14688.0|United Kingdom|\n",
            "|   536378|   84997C|BLUE 3 PIECE POLK...|       6|1/12/2018 09:37|     3.75|   14688.0|United Kingdom|\n",
            "|   536378|    21094|SET/6 RED SPOTTY ...|      12|1/12/2018 09:37|     0.85|   14688.0|United Kingdom|\n",
            "|   536378|    20725|LUNCH BAG RED RET...|      10|1/12/2018 09:37|     1.65|   14688.0|United Kingdom|\n",
            "|   536378|    21559|STRAWBERRY LUNCH ...|       6|1/12/2018 09:37|     2.55|   14688.0|United Kingdom|\n",
            "|   536378|    22352|LUNCH BOX WITH CU...|       6|1/12/2018 09:37|     2.55|   14688.0|United Kingdom|\n",
            "|   536378|    21212|PACK OF 72 RETROS...|     120|1/12/2018 09:37|     0.42|   14688.0|United Kingdom|\n",
            "|   536378|    21975|PACK OF 60 DINOSA...|      24|1/12/2018 09:37|     0.55|   14688.0|United Kingdom|\n",
            "|   536378|    21977|PACK OF 60 PINK P...|      24|1/12/2018 09:37|     0.55|   14688.0|United Kingdom|\n",
            "|   536378|    84991|60 TEATIME FAIRY ...|      24|1/12/2018 09:37|     0.55|   14688.0|United Kingdom|\n",
            "+---------+---------+--------------------+--------+---------------+---------+----------+--------------+\n",
            "only showing top 100 rows\n",
            "\n"
          ],
          "name": "stdout"
        }
      ]
    },
    {
      "cell_type": "code",
      "metadata": {
        "colab": {
          "base_uri": "https://localhost:8080/"
        },
        "id": "FkXgW93eBePE",
        "outputId": "2eef6fe2-ca43-425e-d1bb-1c4cef2fd00a"
      },
      "source": [
        "#Show Schema (first pattern)\n",
        "dt.dtypes"
      ],
      "execution_count": null,
      "outputs": [
        {
          "output_type": "execute_result",
          "data": {
            "text/plain": [
              "[('InvoiceNo', 'string'),\n",
              " ('StockCode', 'string'),\n",
              " ('Description', 'string'),\n",
              " ('Quantity', 'int'),\n",
              " ('InvoiceDate', 'string'),\n",
              " ('UnitPrice', 'double'),\n",
              " ('CustomerID', 'double'),\n",
              " ('Country', 'string')]"
            ]
          },
          "metadata": {
            "tags": []
          },
          "execution_count": 167
        }
      ]
    },
    {
      "cell_type": "code",
      "metadata": {
        "colab": {
          "base_uri": "https://localhost:8080/"
        },
        "id": "L5G01NFoBym2",
        "outputId": "f13233af-7913-4939-d6a2-086d2f6fd63a"
      },
      "source": [
        "#Show Schema (second pattern)\n",
        "dt.printSchema()\n"
      ],
      "execution_count": null,
      "outputs": [
        {
          "output_type": "stream",
          "text": [
            "root\n",
            " |-- InvoiceNo: string (nullable = true)\n",
            " |-- StockCode: string (nullable = true)\n",
            " |-- Description: string (nullable = true)\n",
            " |-- Quantity: integer (nullable = true)\n",
            " |-- InvoiceDate: string (nullable = true)\n",
            " |-- UnitPrice: double (nullable = true)\n",
            " |-- CustomerID: double (nullable = true)\n",
            " |-- Country: string (nullable = true)\n",
            "\n"
          ],
          "name": "stdout"
        }
      ]
    },
    {
      "cell_type": "code",
      "metadata": {
        "colab": {
          "base_uri": "https://localhost:8080/"
        },
        "id": "EPt0XWvECXc6",
        "outputId": "21b416b0-09bc-4e59-a3d5-616d92a5967e"
      },
      "source": [
        "#count row&column\n",
        "print((dt.count(), len(dt.columns)))"
      ],
      "execution_count": null,
      "outputs": [
        {
          "output_type": "stream",
          "text": [
            "(541909, 8)\n"
          ],
          "name": "stdout"
        }
      ]
    },
    {
      "cell_type": "code",
      "metadata": {
        "colab": {
          "base_uri": "https://localhost:8080/"
        },
        "id": "xlD9BZWLCs7C",
        "outputId": "0de76576-44d7-4cba-be2e-05486a1c496f"
      },
      "source": [
        "# describe statistic data\n",
        "dt.describe().show()"
      ],
      "execution_count": null,
      "outputs": [
        {
          "output_type": "stream",
          "text": [
            "+-------+------------------+------------------+--------------------+------------------+---------------+-----------------+------------------+-----------+\n",
            "|summary|         InvoiceNo|         StockCode|         Description|          Quantity|    InvoiceDate|        UnitPrice|        CustomerID|    Country|\n",
            "+-------+------------------+------------------+--------------------+------------------+---------------+-----------------+------------------+-----------+\n",
            "|  count|            541909|            541909|              540455|            541909|         541909|           541909|            406829|     541909|\n",
            "|   mean|  559965.752026781|27623.240210938104|             20713.0|  9.55224954743324|           null|4.611113626082972|15287.690570239585|       null|\n",
            "| stddev|13428.417280805186| 16799.73762842771|                 NaN|218.08115785023477|           null|96.75985306117933|1713.6003033215918|       null|\n",
            "|    min|            536365|             10002| 4 PURPLE FLOCK D...|            -80995|1/11/2019 08:16|        -11062.06|           12346.0|  Australia|\n",
            "|    max|           C581569|                 m|   wrongly sold sets|             80995| 9/9/2019 17:52|          38970.0|           18287.0|Unspecified|\n",
            "+-------+------------------+------------------+--------------------+------------------+---------------+-----------------+------------------+-----------+\n",
            "\n"
          ],
          "name": "stdout"
        }
      ]
    },
    {
      "cell_type": "code",
      "metadata": {
        "colab": {
          "base_uri": "https://localhost:8080/"
        },
        "id": "raGiJtzhC-j0",
        "outputId": "3b7ed9d1-b2a6-4ab6-e8c1-0e63dddc0cb8"
      },
      "source": [
        "# summary statistic data\n",
        "dt.summary().show()"
      ],
      "execution_count": null,
      "outputs": [
        {
          "output_type": "stream",
          "text": [
            "+-------+------------------+------------------+--------------------+------------------+---------------+-----------------+------------------+-----------+\n",
            "|summary|         InvoiceNo|         StockCode|         Description|          Quantity|    InvoiceDate|        UnitPrice|        CustomerID|    Country|\n",
            "+-------+------------------+------------------+--------------------+------------------+---------------+-----------------+------------------+-----------+\n",
            "|  count|            541909|            541909|              540455|            541909|         541909|           541909|            406829|     541909|\n",
            "|   mean|  559965.752026781|27623.240210938104|             20713.0|  9.55224954743324|           null|4.611113626082972|15287.690570239585|       null|\n",
            "| stddev|13428.417280805186| 16799.73762842771|                 NaN|218.08115785023477|           null|96.75985306117933|1713.6003033215918|       null|\n",
            "|    min|            536365|             10002| 4 PURPLE FLOCK D...|            -80995|1/11/2019 08:16|        -11062.06|           12346.0|  Australia|\n",
            "|    25%|          547903.0|           21929.0|             20713.0|                 1|           null|             1.25|           13953.0|       null|\n",
            "|    50%|          560650.0|           22569.0|             20713.0|                 3|           null|             2.08|           15152.0|       null|\n",
            "|    75%|          571841.0|           23165.0|             20713.0|                10|           null|             4.13|           16791.0|       null|\n",
            "|    max|           C581569|                 m|   wrongly sold sets|             80995| 9/9/2019 17:52|          38970.0|           18287.0|Unspecified|\n",
            "+-------+------------------+------------------+--------------------+------------------+---------------+-----------------+------------------+-----------+\n",
            "\n"
          ],
          "name": "stdout"
        }
      ]
    },
    {
      "cell_type": "code",
      "metadata": {
        "colab": {
          "base_uri": "https://localhost:8080/"
        },
        "id": "8wLbtQoqDGs6",
        "outputId": "78dc277a-9417-4c66-84df-311ca3555d4a"
      },
      "source": [
        "# summary Identfy column statistic data\n",
        "dt.select(\"Quantity\", \"UnitPrice\").describe().show()"
      ],
      "execution_count": null,
      "outputs": [
        {
          "output_type": "stream",
          "text": [
            "+-------+------------------+-----------------+\n",
            "|summary|          Quantity|        UnitPrice|\n",
            "+-------+------------------+-----------------+\n",
            "|  count|            541909|           541909|\n",
            "|   mean|  9.55224954743324|4.611113626082972|\n",
            "| stddev|218.08115785023477|96.75985306117933|\n",
            "|    min|            -80995|        -11062.06|\n",
            "|    max|             80995|          38970.0|\n",
            "+-------+------------------+-----------------+\n",
            "\n"
          ],
          "name": "stdout"
        }
      ]
    },
    {
      "cell_type": "markdown",
      "metadata": {
        "id": "_UZWk0q7Ds0p"
      },
      "source": [
        "### Exercise: Check Median of Quantity Values"
      ]
    },
    {
      "cell_type": "code",
      "metadata": {
        "colab": {
          "base_uri": "https://localhost:8080/"
        },
        "id": "x7r9WFOTDobB",
        "outputId": "560c7b27-1cfa-4dbe-e048-c5d7f42784b6"
      },
      "source": [
        "dt.select(\"Quantity\").summary().show()      "
      ],
      "execution_count": null,
      "outputs": [
        {
          "output_type": "stream",
          "text": [
            "+-------+------------------+\n",
            "|summary|          Quantity|\n",
            "+-------+------------------+\n",
            "|  count|            541909|\n",
            "|   mean|  9.55224954743324|\n",
            "| stddev|218.08115785023477|\n",
            "|    min|            -80995|\n",
            "|    25%|                 1|\n",
            "|    50%|                 3|\n",
            "|    75%|                10|\n",
            "|    max|             80995|\n",
            "+-------+------------------+\n",
            "\n"
          ],
          "name": "stdout"
        }
      ]
    },
    {
      "cell_type": "code",
      "metadata": {
        "colab": {
          "base_uri": "https://localhost:8080/"
        },
        "id": "qPdhK7ZAD6-P",
        "outputId": "b392f9fb-1028-444b-94e5-b367106d9c3d"
      },
      "source": [
        "# median value output only 3 \n",
        "\n",
        "dt.select(\"Quantity\").summary().collect() #only collect data not print data"
      ],
      "execution_count": null,
      "outputs": [
        {
          "output_type": "execute_result",
          "data": {
            "text/plain": [
              "[Row(summary='count', Quantity='541909'),\n",
              " Row(summary='mean', Quantity='9.55224954743324'),\n",
              " Row(summary='stddev', Quantity='218.08115785023477'),\n",
              " Row(summary='min', Quantity='-80995'),\n",
              " Row(summary='25%', Quantity='1'),\n",
              " Row(summary='50%', Quantity='3'),\n",
              " Row(summary='75%', Quantity='10'),\n",
              " Row(summary='max', Quantity='80995')]"
            ]
          },
          "metadata": {
            "tags": []
          },
          "execution_count": 174
        }
      ]
    },
    {
      "cell_type": "code",
      "metadata": {
        "colab": {
          "base_uri": "https://localhost:8080/"
        },
        "id": "tQnNM1iCECsl",
        "outputId": "072de8da-0885-4ac8-91f5-c99e41d36ba6"
      },
      "source": [
        "dt.select(\"Quantity\").summary().collect()[5] #python start row=0 then Percent tite(median) row=5"
      ],
      "execution_count": null,
      "outputs": [
        {
          "output_type": "execute_result",
          "data": {
            "text/plain": [
              "Row(summary='50%', Quantity='3')"
            ]
          },
          "metadata": {
            "tags": []
          },
          "execution_count": 175
        }
      ]
    },
    {
      "cell_type": "code",
      "metadata": {
        "colab": {
          "base_uri": "https://localhost:8080/",
          "height": 35
        },
        "id": "Lc6Ncx6jEEF6",
        "outputId": "537817c4-bc4c-4578-e21e-481e5ca8abd4"
      },
      "source": [
        "dt.select(\"Quantity\").summary().collect()[5]['Quantity'] #only print number of median"
      ],
      "execution_count": null,
      "outputs": [
        {
          "output_type": "execute_result",
          "data": {
            "application/vnd.google.colaboratory.intrinsic+json": {
              "type": "string"
            },
            "text/plain": [
              "'3'"
            ]
          },
          "metadata": {
            "tags": []
          },
          "execution_count": 176
        }
      ]
    },
    {
      "cell_type": "markdown",
      "metadata": {
        "id": "Pp0jU4VUEaf3"
      },
      "source": [
        "## EDA - Exploratory Data Analysis**"
      ]
    },
    {
      "cell_type": "markdown",
      "metadata": {
        "id": "8fxDd4QiEdjw"
      },
      "source": [
        "### Non-Graphical EDA"
      ]
    },
    {
      "cell_type": "code",
      "metadata": {
        "id": "vqI7frb_EHqb",
        "colab": {
          "base_uri": "https://localhost:8080/"
        },
        "outputId": "e22b4581-dc24-4489-b4bb-3809bfc053cd"
      },
      "source": [
        "# Select text-based information\n",
        "dt.where(dt['Quantity'] < 0).show()"
      ],
      "execution_count": null,
      "outputs": [
        {
          "output_type": "stream",
          "text": [
            "+---------+---------+--------------------+--------+---------------+---------+----------+--------------+\n",
            "|InvoiceNo|StockCode|         Description|Quantity|    InvoiceDate|UnitPrice|CustomerID|       Country|\n",
            "+---------+---------+--------------------+--------+---------------+---------+----------+--------------+\n",
            "|  C536379|        D|            Discount|      -1|1/12/2018 09:41|     27.5|   14527.0|United Kingdom|\n",
            "|  C536383|   35004C|SET OF 3 COLOURED...|      -1|1/12/2018 09:49|     4.65|   15311.0|United Kingdom|\n",
            "|  C536391|    22556|PLASTERS IN TIN C...|     -12|1/12/2018 10:24|     1.65|   17548.0|United Kingdom|\n",
            "|  C536391|    21984|PACK OF 12 PINK P...|     -24|1/12/2018 10:24|     0.29|   17548.0|United Kingdom|\n",
            "|  C536391|    21983|PACK OF 12 BLUE P...|     -24|1/12/2018 10:24|     0.29|   17548.0|United Kingdom|\n",
            "|  C536391|    21980|PACK OF 12 RED RE...|     -24|1/12/2018 10:24|     0.29|   17548.0|United Kingdom|\n",
            "|  C536391|    21484|CHICK GREY HOT WA...|     -12|1/12/2018 10:24|     3.45|   17548.0|United Kingdom|\n",
            "|  C536391|    22557|PLASTERS IN TIN V...|     -12|1/12/2018 10:24|     1.65|   17548.0|United Kingdom|\n",
            "|  C536391|    22553|PLASTERS IN TIN S...|     -24|1/12/2018 10:24|     1.65|   17548.0|United Kingdom|\n",
            "|  C536506|    22960|JAM MAKING SET WI...|      -6|1/12/2018 12:38|     4.25|   17897.0|United Kingdom|\n",
            "|  C536543|    22632|HAND WARMER RED R...|      -1|1/12/2018 14:30|      2.1|   17841.0|United Kingdom|\n",
            "|  C536543|    22355|CHARLOTTE BAG SUK...|      -2|1/12/2018 14:30|     0.85|   17841.0|United Kingdom|\n",
            "|  C536548|    22244|3 HOOK HANGER MAG...|      -4|1/12/2018 14:33|     1.95|   12472.0|       Germany|\n",
            "|  C536548|    22242|5 HOOK HANGER MAG...|      -5|1/12/2018 14:33|     1.65|   12472.0|       Germany|\n",
            "|  C536548|    20914|SET/5 RED RETROSP...|      -1|1/12/2018 14:33|     2.95|   12472.0|       Germany|\n",
            "|  C536548|    22892|SET OF SALT AND P...|      -7|1/12/2018 14:33|     1.25|   12472.0|       Germany|\n",
            "|  C536548|    22654|  DELUXE SEWING KIT |      -1|1/12/2018 14:33|     5.95|   12472.0|       Germany|\n",
            "|  C536548|    22767|TRIPLE PHOTO FRAM...|      -2|1/12/2018 14:33|     9.95|   12472.0|       Germany|\n",
            "|  C536548|    22333|RETROSPOT PARTY B...|      -1|1/12/2018 14:33|     1.65|   12472.0|       Germany|\n",
            "|  C536548|    22245|HOOK, 1 HANGER ,M...|      -2|1/12/2018 14:33|     0.85|   12472.0|       Germany|\n",
            "+---------+---------+--------------------+--------+---------------+---------+----------+--------------+\n",
            "only showing top 20 rows\n",
            "\n"
          ],
          "name": "stdout"
        }
      ]
    },
    {
      "cell_type": "markdown",
      "metadata": {
        "id": "w58NDg5WEq4a"
      },
      "source": [
        "### Exercise: \n",
        "1. Select Quantity between 50 - 120\n",
        "2. Select UnitPrice between 0.1 - 0.5\n",
        "3. Quantity between 50 - 120 and UnitPrice between 0.1 - 0.5"
      ]
    },
    {
      "cell_type": "code",
      "metadata": {
        "colab": {
          "base_uri": "https://localhost:8080/"
        },
        "id": "GyZSvhfaEnKc",
        "outputId": "e22d4e6a-94b5-48c5-82bc-885a6b9fd344"
      },
      "source": [
        "# TODO: 1. Quantity 50 - 120\n",
        "\n",
        "dt.where(dt['Quantity'].between(50, 120)).show()  #solution method 1"
      ],
      "execution_count": null,
      "outputs": [
        {
          "output_type": "stream",
          "text": [
            "+---------+---------+--------------------+--------+---------------+---------+----------+--------------+\n",
            "|InvoiceNo|StockCode|         Description|Quantity|    InvoiceDate|UnitPrice|CustomerID|       Country|\n",
            "+---------+---------+--------------------+--------+---------------+---------+----------+--------------+\n",
            "|   536371|    22086|PAPER CHAIN KIT 5...|      80|1/12/2018 09:00|     2.55|   13748.0|United Kingdom|\n",
            "|   536376|    21733|RED HANGING HEART...|      64|1/12/2018 09:32|     2.55|   15291.0|United Kingdom|\n",
            "|   536378|    21212|PACK OF 72 RETROS...|     120|1/12/2018 09:37|     0.42|   14688.0|United Kingdom|\n",
            "|   536378|   85071B|RED CHARLIE+LOLA ...|      96|1/12/2018 09:37|     0.38|   14688.0|United Kingdom|\n",
            "|   536382|    22381|TOY TIDY PINK POL...|      50|1/12/2018 09:45|     1.85|   16098.0|United Kingdom|\n",
            "|   536386|   85099C|JUMBO  BAG BAROQU...|     100|1/12/2018 09:57|     1.65|   16029.0|United Kingdom|\n",
            "|   536386|   85099B|JUMBO BAG RED RET...|     100|1/12/2018 09:57|     1.65|   16029.0|United Kingdom|\n",
            "|   536390|   85123A|WHITE HANGING HEA...|      64|1/12/2018 10:19|     2.55|   17511.0|United Kingdom|\n",
            "|   536390|    22197|SMALL POPCORN HOLDER|     100|1/12/2018 10:19|     0.72|   17511.0|United Kingdom|\n",
            "|   536390|    22198|LARGE POPCORN HOL...|      50|1/12/2018 10:19|     1.45|   17511.0|United Kingdom|\n",
            "|   536390|    21080|SET/20 RED RETROS...|      96|1/12/2018 10:19|     0.64|   17511.0|United Kingdom|\n",
            "|   536390|    21094|SET/6 RED SPOTTY ...|      96|1/12/2018 10:19|     0.64|   17511.0|United Kingdom|\n",
            "|   536390|    22969|HOMEMADE JAM SCEN...|      96|1/12/2018 10:19|     1.25|   17511.0|United Kingdom|\n",
            "|   536390|   85099B|JUMBO BAG RED RET...|     100|1/12/2018 10:19|     1.65|   17511.0|United Kingdom|\n",
            "|   536394|    22633|HAND WARMER UNION...|      96|1/12/2018 10:39|     1.85|   13408.0|United Kingdom|\n",
            "|   536394|    22866|HAND WARMER SCOTT...|      96|1/12/2018 10:39|     1.85|   13408.0|United Kingdom|\n",
            "|   536394|    22865|HAND WARMER OWL D...|      96|1/12/2018 10:39|     1.85|   13408.0|United Kingdom|\n",
            "|   536394|    22632|HAND WARMER RED R...|      96|1/12/2018 10:39|     1.85|   13408.0|United Kingdom|\n",
            "|   536403|    22867|HAND WARMER BIRD ...|      96|1/12/2018 11:27|     1.85|   12791.0|   Netherlands|\n",
            "|   536414|    22139|                null|      56|1/12/2018 11:52|      0.0|      null|United Kingdom|\n",
            "+---------+---------+--------------------+--------+---------------+---------+----------+--------------+\n",
            "only showing top 20 rows\n",
            "\n"
          ],
          "name": "stdout"
        }
      ]
    },
    {
      "cell_type": "code",
      "metadata": {
        "colab": {
          "base_uri": "https://localhost:8080/"
        },
        "id": "2BQ3gLqBEzLo",
        "outputId": "337b716d-931c-40b6-df15-20cf99b1969e"
      },
      "source": [
        "dt.where( (dt['Quantity']>50) & (dt['Quantity'] <120) ).show() # solution method 2"
      ],
      "execution_count": null,
      "outputs": [
        {
          "output_type": "stream",
          "text": [
            "+---------+---------+--------------------+--------+---------------+---------+----------+--------------+\n",
            "|InvoiceNo|StockCode|         Description|Quantity|    InvoiceDate|UnitPrice|CustomerID|       Country|\n",
            "+---------+---------+--------------------+--------+---------------+---------+----------+--------------+\n",
            "|   536371|    22086|PAPER CHAIN KIT 5...|      80|1/12/2018 09:00|     2.55|   13748.0|United Kingdom|\n",
            "|   536376|    21733|RED HANGING HEART...|      64|1/12/2018 09:32|     2.55|   15291.0|United Kingdom|\n",
            "|   536378|   85071B|RED CHARLIE+LOLA ...|      96|1/12/2018 09:37|     0.38|   14688.0|United Kingdom|\n",
            "|   536386|   85099C|JUMBO  BAG BAROQU...|     100|1/12/2018 09:57|     1.65|   16029.0|United Kingdom|\n",
            "|   536386|   85099B|JUMBO BAG RED RET...|     100|1/12/2018 09:57|     1.65|   16029.0|United Kingdom|\n",
            "|   536390|   85123A|WHITE HANGING HEA...|      64|1/12/2018 10:19|     2.55|   17511.0|United Kingdom|\n",
            "|   536390|    22197|SMALL POPCORN HOLDER|     100|1/12/2018 10:19|     0.72|   17511.0|United Kingdom|\n",
            "|   536390|    21080|SET/20 RED RETROS...|      96|1/12/2018 10:19|     0.64|   17511.0|United Kingdom|\n",
            "|   536390|    21094|SET/6 RED SPOTTY ...|      96|1/12/2018 10:19|     0.64|   17511.0|United Kingdom|\n",
            "|   536390|    22969|HOMEMADE JAM SCEN...|      96|1/12/2018 10:19|     1.25|   17511.0|United Kingdom|\n",
            "|   536390|   85099B|JUMBO BAG RED RET...|     100|1/12/2018 10:19|     1.65|   17511.0|United Kingdom|\n",
            "|   536394|    22633|HAND WARMER UNION...|      96|1/12/2018 10:39|     1.85|   13408.0|United Kingdom|\n",
            "|   536394|    22866|HAND WARMER SCOTT...|      96|1/12/2018 10:39|     1.85|   13408.0|United Kingdom|\n",
            "|   536394|    22865|HAND WARMER OWL D...|      96|1/12/2018 10:39|     1.85|   13408.0|United Kingdom|\n",
            "|   536394|    22632|HAND WARMER RED R...|      96|1/12/2018 10:39|     1.85|   13408.0|United Kingdom|\n",
            "|   536403|    22867|HAND WARMER BIRD ...|      96|1/12/2018 11:27|     1.85|   12791.0|   Netherlands|\n",
            "|   536414|    22139|                null|      56|1/12/2018 11:52|      0.0|      null|United Kingdom|\n",
            "|   536416|    21915|RED  HARMONICA IN...|      72|1/12/2018 11:58|     1.25|   13255.0|United Kingdom|\n",
            "|   536437|    22189|CREAM HEART CARD ...|      72|1/12/2018 12:12|     3.39|   13694.0|United Kingdom|\n",
            "|   536477|    22571|ROCKING HORSE RED...|      96|1/12/2018 12:27|     0.72|   16210.0|United Kingdom|\n",
            "+---------+---------+--------------------+--------+---------------+---------+----------+--------------+\n",
            "only showing top 20 rows\n",
            "\n"
          ],
          "name": "stdout"
        }
      ]
    },
    {
      "cell_type": "code",
      "metadata": {
        "colab": {
          "base_uri": "https://localhost:8080/"
        },
        "id": "bhvcV0ETE3Jw",
        "outputId": "5b16bdad-0cc5-42bb-a365-41d2bbb45ad3"
      },
      "source": [
        "# TODO: 2. UnitPrice 0.1 - 0.5\n",
        "\n",
        "dt.where( (dt['UnitPrice']>= 0.1) & (dt['UnitPrice'] <= 0.5) ).show() # solution method "
      ],
      "execution_count": null,
      "outputs": [
        {
          "output_type": "stream",
          "text": [
            "+---------+---------+--------------------+--------+---------------+---------+----------+--------------+\n",
            "|InvoiceNo|StockCode|         Description|Quantity|    InvoiceDate|UnitPrice|CustomerID|       Country|\n",
            "+---------+---------+--------------------+--------+---------------+---------+----------+--------------+\n",
            "|   536370|    22540|MINI JIGSAW CIRCU...|      24|1/12/2018 08:45|     0.42|   12583.0|        France|\n",
            "|   536370|    22544|MINI JIGSAW SPACEBOY|      24|1/12/2018 08:45|     0.42|   12583.0|        France|\n",
            "|   536378|    21212|PACK OF 72 RETROS...|     120|1/12/2018 09:37|     0.42|   14688.0|United Kingdom|\n",
            "|   536378|   85071B|RED CHARLIE+LOLA ...|      96|1/12/2018 09:37|     0.38|   14688.0|United Kingdom|\n",
            "|   536388|    22915|ASSORTED BOTTLE T...|      12|1/12/2018 09:59|     0.42|   16250.0|United Kingdom|\n",
            "|   536390|    20668|DISCO BALL CHRIST...|     288|1/12/2018 10:19|      0.1|   17511.0|United Kingdom|\n",
            "|   536390|    21786|  POLKADOT RAIN HAT |     144|1/12/2018 10:19|     0.32|   17511.0|United Kingdom|\n",
            "|  C536391|    21984|PACK OF 12 PINK P...|     -24|1/12/2018 10:24|     0.29|   17548.0|United Kingdom|\n",
            "|  C536391|    21983|PACK OF 12 BLUE P...|     -24|1/12/2018 10:24|     0.29|   17548.0|United Kingdom|\n",
            "|  C536391|    21980|PACK OF 12 RED RE...|     -24|1/12/2018 10:24|     0.29|   17548.0|United Kingdom|\n",
            "|   536394|    21506|FANCY FONT BIRTHD...|      24|1/12/2018 10:39|     0.42|   13408.0|United Kingdom|\n",
            "|   536398|    21980|PACK OF 12 RED RE...|      24|1/12/2018 10:52|     0.29|   13448.0|United Kingdom|\n",
            "|   536408|    22537|MAGIC DRAWING SLA...|      24|1/12/2018 11:41|     0.42|   14307.0|United Kingdom|\n",
            "|   536408|    22533|MAGIC DRAWING SLA...|      24|1/12/2018 11:41|     0.42|   14307.0|United Kingdom|\n",
            "|   536408|    22716|  CARD CIRCUS PARADE|      12|1/12/2018 11:41|     0.42|   14307.0|United Kingdom|\n",
            "|   536408|    22706|      WRAP COWBOYS  |      25|1/12/2018 11:41|     0.42|   14307.0|United Kingdom|\n",
            "|   536408|    16237|SLEEPING CAT ERASERS|      30|1/12/2018 11:41|     0.21|   14307.0|United Kingdom|\n",
            "|   536408|    22714|CARD BIRTHDAY COWBOY|      12|1/12/2018 11:41|     0.42|   14307.0|United Kingdom|\n",
            "|   536409|    22531|MAGIC DRAWING SLA...|       1|1/12/2018 11:45|     0.42|   17908.0|United Kingdom|\n",
            "|   536409|    16238|PARTY TIME PENCIL...|      28|1/12/2018 11:45|     0.21|   17908.0|United Kingdom|\n",
            "+---------+---------+--------------------+--------+---------------+---------+----------+--------------+\n",
            "only showing top 20 rows\n",
            "\n"
          ],
          "name": "stdout"
        }
      ]
    },
    {
      "cell_type": "code",
      "metadata": {
        "colab": {
          "base_uri": "https://localhost:8080/"
        },
        "id": "2jSrtdjoFA4j",
        "outputId": "ae0b7e2f-8f99-4714-f4e2-c2b4f200ffc5"
      },
      "source": [
        "# TODO: 3. Quantity 50 - 120 and UnitPrice 0.1 - 0.5\n",
        "\n",
        "dt.where(dt['Quantity'].between(50, 120) & dt['UnitPrice'].between(0.1,0.5)).show() #solution method"
      ],
      "execution_count": null,
      "outputs": [
        {
          "output_type": "stream",
          "text": [
            "+---------+---------+--------------------+--------+---------------+---------+----------+--------------+\n",
            "|InvoiceNo|StockCode|         Description|Quantity|    InvoiceDate|UnitPrice|CustomerID|       Country|\n",
            "+---------+---------+--------------------+--------+---------------+---------+----------+--------------+\n",
            "|   536378|    21212|PACK OF 72 RETROS...|     120|1/12/2018 09:37|     0.42|   14688.0|United Kingdom|\n",
            "|   536378|   85071B|RED CHARLIE+LOLA ...|      96|1/12/2018 09:37|     0.38|   14688.0|United Kingdom|\n",
            "|   536532|    84692|BOX OF 24 COCKTAI...|      50|1/12/2018 13:24|     0.42|   12433.0|        Norway|\n",
            "|   536563|   85199S|SMALL HANGING IVO...|      72|1/12/2018 15:08|     0.42|   17760.0|United Kingdom|\n",
            "|   536617|    85175|CACTI T-LIGHT CAN...|      96|2/12/2018 10:17|     0.42|   13941.0|United Kingdom|\n",
            "|   536620|    21215|IVORY PAPER CUP C...|     120|2/12/2018 10:27|     0.42|   14135.0|United Kingdom|\n",
            "|   536620|    21212|PACK OF 72 RETROS...|     120|2/12/2018 10:27|     0.42|   14135.0|United Kingdom|\n",
            "|   536620|    21977|PACK OF 60 PINK P...|     120|2/12/2018 10:27|     0.42|   14135.0|United Kingdom|\n",
            "|   536620|    84991|60 TEATIME FAIRY ...|     120|2/12/2018 10:27|     0.42|   14135.0|United Kingdom|\n",
            "|   536783|    22530|MAGIC DRAWING SLA...|      60|2/12/2018 15:19|     0.36|   15061.0|United Kingdom|\n",
            "|   536783|    21506|FANCY FONT BIRTHD...|     108|2/12/2018 15:19|     0.36|   15061.0|United Kingdom|\n",
            "|   536783|    21500| PINK POLKADOT WRAP |      75|2/12/2018 15:19|     0.34|   15061.0|United Kingdom|\n",
            "|   536783|    21212|PACK OF 72 RETROS...|     120|2/12/2018 15:19|     0.42|   15061.0|United Kingdom|\n",
            "|   536783|    84692|BOX OF 24 COCKTAI...|      50|2/12/2018 15:19|     0.32|   15061.0|United Kingdom|\n",
            "|   536783|    22534|MAGIC DRAWING SLA...|      96|2/12/2018 15:19|     0.36|   15061.0|United Kingdom|\n",
            "|   536784|    21499|  BLUE POLKADOT WRAP|      50|2/12/2018 15:20|     0.34|   15061.0|United Kingdom|\n",
            "|   536784|    21498| RED RETROSPOT WRAP |      50|2/12/2018 15:20|     0.34|   15061.0|United Kingdom|\n",
            "|   536784|    21212|PACK OF 72 RETROS...|     120|2/12/2018 15:20|     0.42|   15061.0|United Kingdom|\n",
            "|   536784|    16237|SLEEPING CAT ERASERS|      90|2/12/2018 15:20|     0.16|   15061.0|United Kingdom|\n",
            "|   536975|    22049|WRAP CHRISTMAS SC...|      50|3/12/2018 14:04|     0.42|   14911.0|          EIRE|\n",
            "+---------+---------+--------------------+--------+---------------+---------+----------+--------------+\n",
            "only showing top 20 rows\n",
            "\n"
          ],
          "name": "stdout"
        }
      ]
    },
    {
      "cell_type": "markdown",
      "metadata": {
        "id": "rTmFncm4FF9r"
      },
      "source": [
        "### Graphical EDA\n",
        "\n",
        "\n",
        "Use `seaborn` `matplotlib` and `pandas` package for data plot "
      ]
    },
    {
      "cell_type": "code",
      "metadata": {
        "id": "34ixOQi9FS8H"
      },
      "source": [
        "import seaborn as sns\n",
        "import matplotlib.pyplot as plt\n",
        "import pandas as pd"
      ],
      "execution_count": null,
      "outputs": []
    },
    {
      "cell_type": "code",
      "metadata": {
        "id": "-HgAavQ9FcGX"
      },
      "source": [
        "# transform Spark Dataframe to Pandas Dataframe\n",
        "dt_pd = dt.toPandas()"
      ],
      "execution_count": null,
      "outputs": []
    },
    {
      "cell_type": "code",
      "metadata": {
        "colab": {
          "base_uri": "https://localhost:8080/",
          "height": 197
        },
        "id": "uxhtneJuFetd",
        "outputId": "68c29d9b-f078-4f0d-e7d5-b46dce26e1dd"
      },
      "source": [
        "dt_pd.head()"
      ],
      "execution_count": null,
      "outputs": [
        {
          "output_type": "execute_result",
          "data": {
            "text/html": [
              "<div>\n",
              "<style scoped>\n",
              "    .dataframe tbody tr th:only-of-type {\n",
              "        vertical-align: middle;\n",
              "    }\n",
              "\n",
              "    .dataframe tbody tr th {\n",
              "        vertical-align: top;\n",
              "    }\n",
              "\n",
              "    .dataframe thead th {\n",
              "        text-align: right;\n",
              "    }\n",
              "</style>\n",
              "<table border=\"1\" class=\"dataframe\">\n",
              "  <thead>\n",
              "    <tr style=\"text-align: right;\">\n",
              "      <th></th>\n",
              "      <th>InvoiceNo</th>\n",
              "      <th>StockCode</th>\n",
              "      <th>Description</th>\n",
              "      <th>Quantity</th>\n",
              "      <th>InvoiceDate</th>\n",
              "      <th>UnitPrice</th>\n",
              "      <th>CustomerID</th>\n",
              "      <th>Country</th>\n",
              "    </tr>\n",
              "  </thead>\n",
              "  <tbody>\n",
              "    <tr>\n",
              "      <th>0</th>\n",
              "      <td>536365</td>\n",
              "      <td>85123A</td>\n",
              "      <td>WHITE HANGING HEART T-LIGHT HOLDER</td>\n",
              "      <td>6</td>\n",
              "      <td>1/12/2018 08:26</td>\n",
              "      <td>2.55</td>\n",
              "      <td>17850.0</td>\n",
              "      <td>United Kingdom</td>\n",
              "    </tr>\n",
              "    <tr>\n",
              "      <th>1</th>\n",
              "      <td>536365</td>\n",
              "      <td>71053</td>\n",
              "      <td>WHITE METAL LANTERN</td>\n",
              "      <td>6</td>\n",
              "      <td>1/12/2018 08:26</td>\n",
              "      <td>3.39</td>\n",
              "      <td>17850.0</td>\n",
              "      <td>United Kingdom</td>\n",
              "    </tr>\n",
              "    <tr>\n",
              "      <th>2</th>\n",
              "      <td>536365</td>\n",
              "      <td>84406B</td>\n",
              "      <td>CREAM CUPID HEARTS COAT HANGER</td>\n",
              "      <td>8</td>\n",
              "      <td>1/12/2018 08:26</td>\n",
              "      <td>2.75</td>\n",
              "      <td>17850.0</td>\n",
              "      <td>United Kingdom</td>\n",
              "    </tr>\n",
              "    <tr>\n",
              "      <th>3</th>\n",
              "      <td>536365</td>\n",
              "      <td>84029G</td>\n",
              "      <td>KNITTED UNION FLAG HOT WATER BOTTLE</td>\n",
              "      <td>6</td>\n",
              "      <td>1/12/2018 08:26</td>\n",
              "      <td>3.39</td>\n",
              "      <td>17850.0</td>\n",
              "      <td>United Kingdom</td>\n",
              "    </tr>\n",
              "    <tr>\n",
              "      <th>4</th>\n",
              "      <td>536365</td>\n",
              "      <td>84029E</td>\n",
              "      <td>RED WOOLLY HOTTIE WHITE HEART.</td>\n",
              "      <td>6</td>\n",
              "      <td>1/12/2018 08:26</td>\n",
              "      <td>3.39</td>\n",
              "      <td>17850.0</td>\n",
              "      <td>United Kingdom</td>\n",
              "    </tr>\n",
              "  </tbody>\n",
              "</table>\n",
              "</div>"
            ],
            "text/plain": [
              "  InvoiceNo StockCode  ... CustomerID         Country\n",
              "0    536365    85123A  ...    17850.0  United Kingdom\n",
              "1    536365     71053  ...    17850.0  United Kingdom\n",
              "2    536365    84406B  ...    17850.0  United Kingdom\n",
              "3    536365    84029G  ...    17850.0  United Kingdom\n",
              "4    536365    84029E  ...    17850.0  United Kingdom\n",
              "\n",
              "[5 rows x 8 columns]"
            ]
          },
          "metadata": {
            "tags": []
          },
          "execution_count": 184
        }
      ]
    },
    {
      "cell_type": "code",
      "metadata": {
        "id": "8ls9Xjl9Fh-8"
      },
      "source": [
        "# Select data 500 first row for fast and smooth to do visualize data \n",
        "dt_pd_subset = dt_pd[0:500]"
      ],
      "execution_count": null,
      "outputs": []
    },
    {
      "cell_type": "code",
      "metadata": {
        "colab": {
          "base_uri": "https://localhost:8080/",
          "height": 387
        },
        "id": "4n1hRwfkF-Mq",
        "outputId": "6f588bfa-6d1c-481e-9616-c3f7cd49f7cb"
      },
      "source": [
        "# Boxplot\n",
        "sns.boxplot(dt_pd_subset['UnitPrice'])"
      ],
      "execution_count": null,
      "outputs": [
        {
          "output_type": "stream",
          "text": [
            "/usr/local/lib/python3.7/dist-packages/seaborn/_decorators.py:43: FutureWarning:\n",
            "\n",
            "Pass the following variable as a keyword arg: x. From version 0.12, the only valid positional argument will be `data`, and passing other arguments without an explicit keyword will result in an error or misinterpretation.\n",
            "\n"
          ],
          "name": "stderr"
        },
        {
          "output_type": "execute_result",
          "data": {
            "text/plain": [
              "<matplotlib.axes._subplots.AxesSubplot at 0x7f336afc4690>"
            ]
          },
          "metadata": {
            "tags": []
          },
          "execution_count": 186
        },
        {
          "output_type": "display_data",
          "data": {
            "image/png": "[encoded data removed]",
            "text/plain": [
              "<Figure size 432x288 with 1 Axes>"
            ]
          },
          "metadata": {
            "tags": [],
            "needs_background": "light"
          }
        }
      ]
    },
    {
      "cell_type": "code",
      "metadata": {
        "colab": {
          "base_uri": "https://localhost:8080/",
          "height": 370
        },
        "id": "ScVmysrNGB-T",
        "outputId": "b3b19797-f0cb-4bcf-d3d0-d74b3a99b6c1"
      },
      "source": [
        "# Histogram\n",
        "sns.distplot(dt_pd_subset['UnitPrice']) \n",
        "plt.show()"
      ],
      "execution_count": null,
      "outputs": [
        {
          "output_type": "stream",
          "text": [
            "/usr/local/lib/python3.7/dist-packages/seaborn/distributions.py:2557: FutureWarning:\n",
            "\n",
            "`distplot` is a deprecated function and will be removed in a future version. Please adapt your code to use either `displot` (a figure-level function with similar flexibility) or `histplot` (an axes-level function for histograms).\n",
            "\n"
          ],
          "name": "stderr"
        },
        {
          "output_type": "display_data",
          "data": {
            "image/png": "[encoded data removed]",
            "text/plain": [
              "<Figure size 432x288 with 1 Axes>"
            ]
          },
          "metadata": {
            "tags": [],
            "needs_background": "light"
          }
        }
      ]
    },
    {
      "cell_type": "code",
      "metadata": {
        "colab": {
          "base_uri": "https://localhost:8080/",
          "height": 296
        },
        "id": "o_eH_PFjGFY_",
        "outputId": "899d8bf3-ae73-4f5b-a9d7-5523463976c2"
      },
      "source": [
        "# Scatterplot\n",
        "dt_pd_subset.plot.scatter('UnitPrice', 'Quantity')"
      ],
      "execution_count": null,
      "outputs": [
        {
          "output_type": "execute_result",
          "data": {
            "text/plain": [
              "<matplotlib.axes._subplots.AxesSubplot at 0x7f3359a4cc50>"
            ]
          },
          "metadata": {
            "tags": []
          },
          "execution_count": 188
        },
        {
          "output_type": "display_data",
          "data": {
            "image/png": "[encoded data removed]",
            "text/plain": [
              "<Figure size 432x288 with 1 Axes>"
            ]
          },
          "metadata": {
            "tags": [],
            "needs_background": "light"
          }
        }
      ]
    },
    {
      "cell_type": "markdown",
      "metadata": {
        "id": "P0y9D3b1GPPW"
      },
      "source": [
        "Bonus: Create interactive chart"
      ]
    },
    {
      "cell_type": "code",
      "metadata": {
        "colab": {
          "base_uri": "https://localhost:8080/",
          "height": 542
        },
        "id": "POzfSpgrGI_b",
        "outputId": "61e2c701-8bea-432f-a8a6-599c411d4a67"
      },
      "source": [
        "# Plotly - interactive chart\n",
        "import plotly.express as px\n",
        "fig = px.scatter(dt_pd_subset, 'UnitPrice', 'Quantity')\n",
        "fig.show()"
      ],
      "execution_count": null,
      "outputs": [
        {
          "output_type": "display_data",
          "data": {
            "text/html": [
              "<html>\n",
              "<head><meta charset=\"utf-8\" /></head>\n",
              "<body>\n",
              "    <div>\n",
              "            <script src=\"https://cdnjs.cloudflare.com/ajax/libs/mathjax/2.7.5/MathJax.js?config=TeX-AMS-MML_SVG\"></script><script type=\"text/javascript\">if (window.MathJax) {MathJax.Hub.Config({SVG: {font: \"STIX-Web\"}});}</script>\n",
              "                <script type=\"text/javascript\">window.PlotlyConfig = {MathJaxConfig: 'local'};</script>\n",
              "        <script src=\"https://cdn.plot.ly/plotly-latest.min.js\"></script>    \n",
              "            <div id=\"c3d64503-625c-47f5-b081-3dcb6442f062\" class=\"plotly-graph-div\" style=\"height:525px; width:100%;\"></div>\n",
              "            <script type=\"text/javascript\">\n",
              "                \n",
              "                    window.PLOTLYENV=window.PLOTLYENV || {};\n",
              "                    \n",
              "                if (document.getElementById(\"c3d64503-625c-47f5-b081-3dcb6442f062\")) {\n",
              "                    Plotly.newPlot(\n",
              "                        'c3d64503-625c-47f5-b081-3dcb6442f062',\n",
              "                        [{\"hoverlabel\": {\"namelength\": 0}, \"hovertemplate\": \"UnitPrice=%{x}<br>Quantity=%{y}\", \"legendgroup\": \"\", \"marker\": {\"color\": \"#636efa\", \"symbol\": \"circle\"}, \"mode\": \"markers\", \"name\": \"\", \"showlegend\": false, \"type\": \"scatter\", \"x\": [2.55, 3.39, 2.75, 3.39, 3.39, 7.65, 4.25, 1.85, 1.85, 1.69, 2.1, 2.1, 3.75, 1.65, 4.25, 4.95, 9.95, 5.95, 5.95, 7.95, 7.95, 4.25, 4.95, 4.95, 4.95, 5.95, 3.75, 3.75, 3.75, 0.85, 0.65, 0.85, 1.25, 2.95, 2.95, 1.95, 1.95, 1.95, 0.85, 1.65, 2.95, 3.75, 0.42, 0.42, 0.65, 18.0, 2.55, 1.85, 1.85, 2.55, 3.39, 2.75, 4.95, 1.06, 1.06, 1.06, 1.06, 4.95, 6.95, 2.1, 2.55, 3.39, 3.39, 7.65, 4.25, 10.95, 2.55, 3.39, 2.75, 4.95, 1.06, 1.06, 1.06, 1.06, 4.95, 6.95, 2.1, 2.55, 3.39, 3.39, 7.65, 4.25, 3.45, 2.55, 1.85, 1.85, 1.95, 1.95, 2.95, 0.85, 3.75, 3.75, 0.85, 1.65, 2.55, 2.55, 0.42, 0.55, 0.55, 0.55, 2.95, 1.25, 0.38, 1.95, 1.95, 1.45, 4.25, 4.95, 1.95, 2.1, 1.25, 1.25, 1.25, 1.25, 0.85, 2.55, 1.65, 1.69, 1.95, 2.1, 2.95, 2.95, 2.95, 2.95, 0.85, 1.25, 2.55, 0.85, 0.85, 1.45, 4.95, 2.95, 5.95, 5.95, 1.45, 2.95, 1.95, 1.65, 3.95, 1.06, 6.75, 27.5, 0.85, 3.75, 1.65, 1.95, 2.1, 1.85, 2.95, 3.75, 5.95, 14.95, 14.95, 16.95, 4.65, 6.45, 0.65, 1.65, 2.95, 2.95, 1.45, 2.55, 2.95, 12.75, 3.95, 5.95, 6.95, 10.95, 19.95, 1.45, 4.25, 1.95, 1.25, 8.5, 1.65, 4.95, 1.65, 1.65, 3.82, 3.37, 3.37, 1.45, 1.25, 5.95, 5.95, 7.95, 4.95, 4.25, 2.95, 1.65, 0.42, 0.85, 1.45, 0.85, 6.75, 1.65, 1.65, 8.5, 4.95, 1.25, 5.45, 6.35, 5.95, 5.95, 8.5, 3.75, 3.75, 8.5, 8.5, 1.65, 0.85, 8.5, 3.75, 1.45, 0.72, 0.72, 8.5, 0.64, 2.55, 0.1, 2.55, 0.72, 1.45, 4.25, 0.64, 0.64, 0.65, 0.32, 4.95, 4.25, 3.39, 3.75, 1.48, 1.25, 1.65, 1.65, 0.29, 0.29, 0.29, 3.45, 1.65, 1.65, 1.95, 3.75, 1.25, 1.25, 165.0, 1.25, 1.25, 5.95, 1.69, 0.65, 9.95, 0.42, 1.85, 1.85, 1.85, 1.85, 4.95, 3.75, 1.25, 2.1, 2.55, 1.65, 3.95, 1.69, 0.55, 0.55, 0.55, 3.45, 2.1, 3.75, 3.75, 3.75, 3.75, 3.95, 2.1, 2.1, 2.55, 3.39, 2.75, 4.95, 4.95, 1.06, 1.06, 1.06, 1.06, 4.95, 6.95, 2.1, 2.55, 3.39, 3.39, 7.65, 35.75, 4.25, 4.65, 4.65, 0.29, 2.95, 6.75, 2.55, 8.5, 7.95, 2.1, 2.1, 2.1, 1.25, 1.65, 3.35, 3.95, 4.65, 4.95, 3.75, 4.95, 1.85, 1.85, 1.45, 2.55, 1.25, 1.25, 2.95, 3.35, 1.45, 1.25, 1.25, 1.65, 1.45, 1.25, 4.95, 3.75, 1.25, 9.95, 9.95, 5.95, 4.25, 4.95, 2.55, 2.95, 1.69, 7.95, 0.55, 0.55, 0.55, 2.95, 2.1, 2.1, 1.25, 0.85, 0.55, 2.95, 2.95, 1.25, 1.25, 1.25, 1.25, 1.65, 2.95, 2.95, 5.95, 1.25, 2.55, 0.85, 1.65, 2.95, 2.95, 5.95, 7.95, 1.65, 1.65, 1.65, 1.65, 2.55, 2.95, 2.95, 2.55, 16.95, 2.95, 10.65, 4.25, 6.95, 5.95, 2.55, 2.55, 4.25, 1.85, 15.0, 1.25, 1.25, 1.25, 1.25, 1.25, 1.65, 0.85, 1.25, 1.25, 1.25, 1.25, 1.25, 1.25, 0.85, 0.85, 0.85, 1.25, 1.25, 2.1, 0.55, 0.55, 0.55, 0.55, 0.55, 1.65, 1.65, 1.65, 1.65, 2.55, 2.55, 3.39, 2.75, 4.95, 1.06, 1.06, 1.06, 1.06, 4.95, 6.95, 2.1, 2.55, 3.39, 3.39, 7.65, 35.75, 4.25, 1.85, 1.85, 0.42, 0.42, 0.85, 1.65, 1.25, 1.25, 0.85, 1.95, 3.95, 3.75, 3.75, 2.1, 2.1, 0.85, 1.25, 0.95, 2.95, 1.65, 1.65, 7.95, 7.95, 1.65, 0.85, 1.69, 5.95, 5.95, 2.95, 0.85, 0.42, 0.42, 4.25, 5.95, 5.95, 3.75, 0.55, 1.45, 4.95, 1.65, 0.21, 0.42, 1.95, 2.55, 2.55, 1.65, 0.65, 1.25, 3.75, 1.65, 6.35, 3.75, 4.95, 6.75, 1.25, 1.65, 2.1, 3.75, 2.1, 2.1, 2.95, 1.25, 1.25, 2.95, 2.95, 6.35, 7.95], \"xaxis\": \"x\", \"y\": [6, 6, 8, 6, 6, 2, 6, 6, 6, 32, 6, 6, 8, 6, 6, 3, 2, 3, 3, 4, 4, 6, 3, 3, 3, 3, 24, 24, 12, 12, 24, 48, 24, 18, 24, 24, 24, 24, 20, 24, 24, 12, 24, 24, 36, 3, 80, 6, 6, 6, 6, 8, 6, 6, 6, 6, 6, 2, 4, 6, 6, 6, 6, 2, 6, 32, 6, 6, 8, 6, 6, 6, 6, 6, 2, 4, 6, 6, 6, 6, 2, 6, 48, 64, 6, 6, 10, 10, 10, 10, 12, 6, 12, 10, 6, 6, 120, 24, 24, 24, 6, 48, 96, 10, 10, 24, 23, 5, 10, 2, 6, 24, 24, 1, 1, 1, 10, 3, 1, 2, 1, 1, 4, 1, 6, 3, 2, 1, 1, 1, 1, 2, 2, 2, 4, 1, 1, 2, 3, 36, 10, -1, 12, 8, 12, 10, 10, 50, 8, 4, 12, 2, 2, 4, -1, 3, 48, 12, 6, 12, 40, 40, 6, 2, 4, 3, 6, 8, 1, 12, 6, 10, 12, 2, 10, 36, 100, 100, 192, 192, 192, 432, 432, 3, 3, 2, 3, 3, 6, 12, 12, 12, 12, 12, 4, 12, 12, 6, 8, 12, 6, 4, 6, 3, 2, 4, 4, 2, 2, 24, 24, 2, 12, 12, 48, 48, 8, 144, 40, 288, 64, 100, 50, 12, 96, 96, 48, 144, 40, 24, 24, 24, 48, 96, 100, -12, -24, -24, -24, -12, -12, -24, 6, 4, 12, 12, 1, 12, 12, 4, 16, 24, 8, 24, 96, 96, 96, 96, 12, 12, 48, 12, 32, 20, 8, 32, 24, 24, 24, 8, 8, 4, 8, 8, 8, 8, 48, 48, 6, 6, 8, 6, 6, 6, 6, 6, 6, 2, 4, 6, 12, 6, 6, 2, 2, 6, 12, 48, 24, 6, 4, 8, 6, 2, 12, 12, 12, 12, 12, 6, 4, 8, 9, 4, 9, 6, 6, 12, 1, 1, 2, 1, 1, 1, 1, 2, 1, 4, 1, 1, 2, 2, 2, 1, 1, 1, 3, 1, 1, 2, 1, 1, 1, 2, 4, 2, 1, 1, 1, 3, 1, 1, 2, 3, 1, 1, 2, 2, 2, 1, 1, 2, 9, 1, 4, 3, 1, 1, 1, 2, 1, 1, 5, 3, 3, 9, 1, 4, 1, 1, 2, 2, 40, 40, 36, 96, 1, 24, 12, 12, 12, 12, 12, 36, 12, 12, 12, 12, 12, 12, 12, 12, 12, 12, 12, 12, 24, 24, 24, 24, 24, 10, 10, 10, 24, 128, 8, 8, 8, 6, 6, 6, 6, 6, 4, 4, 6, 6, 6, 6, 2, 2, 6, 6, 6, 24, 24, 12, 12, 12, 12, 12, 12, 4, 4, 4, 6, 12, 24, 12, 12, 6, 12, 6, 2, 2, 12, 12, 8, 3, 3, 8, 36, 12, 25, 4, 3, 3, 6, 24, 12, 3, 12, 30, 12, 12, 6, 12, 10, 36, 12, 4, 12, 3, 1, 1, 1, 1, 1, 1, 1, 1, 1, 1, 1, 1, 1, 1, 1, 1], \"yaxis\": \"y\"}],\n",
              "                        {\"legend\": {\"tracegroupgap\": 0}, \"margin\": {\"t\": 60}, \"template\": {\"data\": {\"bar\": [{\"error_x\": {\"color\": \"#2a3f5f\"}, \"error_y\": {\"color\": \"#2a3f5f\"}, \"marker\": {\"line\": {\"color\": \"#E5ECF6\", \"width\": 0.5}}, \"type\": \"bar\"}], \"barpolar\": [{\"marker\": {\"line\": {\"color\": \"#E5ECF6\", \"width\": 0.5}}, \"type\": \"barpolar\"}], \"carpet\": [{\"aaxis\": {\"endlinecolor\": \"#2a3f5f\", \"gridcolor\": \"white\", \"linecolor\": \"white\", \"minorgridcolor\": \"white\", \"startlinecolor\": \"#2a3f5f\"}, \"baxis\": {\"endlinecolor\": \"#2a3f5f\", \"gridcolor\": \"white\", \"linecolor\": \"white\", \"minorgridcolor\": \"white\", \"startlinecolor\": \"#2a3f5f\"}, \"type\": \"carpet\"}], \"choropleth\": [{\"colorbar\": {\"outlinewidth\": 0, \"ticks\": \"\"}, \"type\": \"choropleth\"}], \"contour\": [{\"colorbar\": {\"outlinewidth\": 0, \"ticks\": \"\"}, \"colorscale\": [[0.0, \"#0d0887\"], [0.1111111111111111, \"#46039f\"], [0.2222222222222222, \"#7201a8\"], [0.3333333333333333, \"#9c179e\"], [0.4444444444444444, \"#bd3786\"], [0.5555555555555556, \"#d8576b\"], [0.6666666666666666, \"#ed7953\"], [0.7777777777777778, \"#fb9f3a\"], [0.8888888888888888, \"#fdca26\"], [1.0, \"#f0f921\"]], \"type\": \"contour\"}], \"contourcarpet\": [{\"colorbar\": {\"outlinewidth\": 0, \"ticks\": \"\"}, \"type\": \"contourcarpet\"}], \"heatmap\": [{\"colorbar\": {\"outlinewidth\": 0, \"ticks\": \"\"}, \"colorscale\": [[0.0, \"#0d0887\"], [0.1111111111111111, \"#46039f\"], [0.2222222222222222, \"#7201a8\"], [0.3333333333333333, \"#9c179e\"], [0.4444444444444444, \"#bd3786\"], [0.5555555555555556, \"#d8576b\"], [0.6666666666666666, \"#ed7953\"], [0.7777777777777778, \"#fb9f3a\"], [0.8888888888888888, \"#fdca26\"], [1.0, \"#f0f921\"]], \"type\": \"heatmap\"}], \"heatmapgl\": [{\"colorbar\": {\"outlinewidth\": 0, \"ticks\": \"\"}, \"colorscale\": [[0.0, \"#0d0887\"], [0.1111111111111111, \"#46039f\"], [0.2222222222222222, \"#7201a8\"], [0.3333333333333333, \"#9c179e\"], [0.4444444444444444, \"#bd3786\"], [0.5555555555555556, \"#d8576b\"], [0.6666666666666666, \"#ed7953\"], [0.7777777777777778, \"#fb9f3a\"], [0.8888888888888888, \"#fdca26\"], [1.0, \"#f0f921\"]], \"type\": \"heatmapgl\"}], \"histogram\": [{\"marker\": {\"colorbar\": {\"outlinewidth\": 0, \"ticks\": \"\"}}, \"type\": \"histogram\"}], \"histogram2d\": [{\"colorbar\": {\"outlinewidth\": 0, \"ticks\": \"\"}, \"colorscale\": [[0.0, \"#0d0887\"], [0.1111111111111111, \"#46039f\"], [0.2222222222222222, \"#7201a8\"], [0.3333333333333333, \"#9c179e\"], [0.4444444444444444, \"#bd3786\"], [0.5555555555555556, \"#d8576b\"], [0.6666666666666666, \"#ed7953\"], [0.7777777777777778, \"#fb9f3a\"], [0.8888888888888888, \"#fdca26\"], [1.0, \"#f0f921\"]], \"type\": \"histogram2d\"}], \"histogram2dcontour\": [{\"colorbar\": {\"outlinewidth\": 0, \"ticks\": \"\"}, \"colorscale\": [[0.0, \"#0d0887\"], [0.1111111111111111, \"#46039f\"], [0.2222222222222222, \"#7201a8\"], [0.3333333333333333, \"#9c179e\"], [0.4444444444444444, \"#bd3786\"], [0.5555555555555556, \"#d8576b\"], [0.6666666666666666, \"#ed7953\"], [0.7777777777777778, \"#fb9f3a\"], [0.8888888888888888, \"#fdca26\"], [1.0, \"#f0f921\"]], \"type\": \"histogram2dcontour\"}], \"mesh3d\": [{\"colorbar\": {\"outlinewidth\": 0, \"ticks\": \"\"}, \"type\": \"mesh3d\"}], \"parcoords\": [{\"line\": {\"colorbar\": {\"outlinewidth\": 0, \"ticks\": \"\"}}, \"type\": \"parcoords\"}], \"pie\": [{\"automargin\": true, \"type\": \"pie\"}], \"scatter\": [{\"marker\": {\"colorbar\": {\"outlinewidth\": 0, \"ticks\": \"\"}}, \"type\": \"scatter\"}], \"scatter3d\": [{\"line\": {\"colorbar\": {\"outlinewidth\": 0, \"ticks\": \"\"}}, \"marker\": {\"colorbar\": {\"outlinewidth\": 0, \"ticks\": \"\"}}, \"type\": \"scatter3d\"}], \"scattercarpet\": [{\"marker\": {\"colorbar\": {\"outlinewidth\": 0, \"ticks\": \"\"}}, \"type\": \"scattercarpet\"}], \"scattergeo\": [{\"marker\": {\"colorbar\": {\"outlinewidth\": 0, \"ticks\": \"\"}}, \"type\": \"scattergeo\"}], \"scattergl\": [{\"marker\": {\"colorbar\": {\"outlinewidth\": 0, \"ticks\": \"\"}}, \"type\": \"scattergl\"}], \"scattermapbox\": [{\"marker\": {\"colorbar\": {\"outlinewidth\": 0, \"ticks\": \"\"}}, \"type\": \"scattermapbox\"}], \"scatterpolar\": [{\"marker\": {\"colorbar\": {\"outlinewidth\": 0, \"ticks\": \"\"}}, \"type\": \"scatterpolar\"}], \"scatterpolargl\": [{\"marker\": {\"colorbar\": {\"outlinewidth\": 0, \"ticks\": \"\"}}, \"type\": \"scatterpolargl\"}], \"scatterternary\": [{\"marker\": {\"colorbar\": {\"outlinewidth\": 0, \"ticks\": \"\"}}, \"type\": \"scatterternary\"}], \"surface\": [{\"colorbar\": {\"outlinewidth\": 0, \"ticks\": \"\"}, \"colorscale\": [[0.0, \"#0d0887\"], [0.1111111111111111, \"#46039f\"], [0.2222222222222222, \"#7201a8\"], [0.3333333333333333, \"#9c179e\"], [0.4444444444444444, \"#bd3786\"], [0.5555555555555556, \"#d8576b\"], [0.6666666666666666, \"#ed7953\"], [0.7777777777777778, \"#fb9f3a\"], [0.8888888888888888, \"#fdca26\"], [1.0, \"#f0f921\"]], \"type\": \"surface\"}], \"table\": [{\"cells\": {\"fill\": {\"color\": \"#EBF0F8\"}, \"line\": {\"color\": \"white\"}}, \"header\": {\"fill\": {\"color\": \"#C8D4E3\"}, \"line\": {\"color\": \"white\"}}, \"type\": \"table\"}]}, \"layout\": {\"annotationdefaults\": {\"arrowcolor\": \"#2a3f5f\", \"arrowhead\": 0, \"arrowwidth\": 1}, \"coloraxis\": {\"colorbar\": {\"outlinewidth\": 0, \"ticks\": \"\"}}, \"colorscale\": {\"diverging\": [[0, \"#8e0152\"], [0.1, \"#c51b7d\"], [0.2, \"#de77ae\"], [0.3, \"#f1b6da\"], [0.4, \"#fde0ef\"], [0.5, \"#f7f7f7\"], [0.6, \"#e6f5d0\"], [0.7, \"#b8e186\"], [0.8, \"#7fbc41\"], [0.9, \"#4d9221\"], [1, \"#276419\"]], \"sequential\": [[0.0, \"#0d0887\"], [0.1111111111111111, \"#46039f\"], [0.2222222222222222, \"#7201a8\"], [0.3333333333333333, \"#9c179e\"], [0.4444444444444444, \"#bd3786\"], [0.5555555555555556, \"#d8576b\"], [0.6666666666666666, \"#ed7953\"], [0.7777777777777778, \"#fb9f3a\"], [0.8888888888888888, \"#fdca26\"], [1.0, \"#f0f921\"]], \"sequentialminus\": [[0.0, \"#0d0887\"], [0.1111111111111111, \"#46039f\"], [0.2222222222222222, \"#7201a8\"], [0.3333333333333333, \"#9c179e\"], [0.4444444444444444, \"#bd3786\"], [0.5555555555555556, \"#d8576b\"], [0.6666666666666666, \"#ed7953\"], [0.7777777777777778, \"#fb9f3a\"], [0.8888888888888888, \"#fdca26\"], [1.0, \"#f0f921\"]]}, \"colorway\": [\"#636efa\", \"#EF553B\", \"#00cc96\", \"#ab63fa\", \"#FFA15A\", \"#19d3f3\", \"#FF6692\", \"#B6E880\", \"#FF97FF\", \"#FECB52\"], \"font\": {\"color\": \"#2a3f5f\"}, \"geo\": {\"bgcolor\": \"white\", \"lakecolor\": \"white\", \"landcolor\": \"#E5ECF6\", \"showlakes\": true, \"showland\": true, \"subunitcolor\": \"white\"}, \"hoverlabel\": {\"align\": \"left\"}, \"hovermode\": \"closest\", \"mapbox\": {\"style\": \"light\"}, \"paper_bgcolor\": \"white\", \"plot_bgcolor\": \"#E5ECF6\", \"polar\": {\"angularaxis\": {\"gridcolor\": \"white\", \"linecolor\": \"white\", \"ticks\": \"\"}, \"bgcolor\": \"#E5ECF6\", \"radialaxis\": {\"gridcolor\": \"white\", \"linecolor\": \"white\", \"ticks\": \"\"}}, \"scene\": {\"xaxis\": {\"backgroundcolor\": \"#E5ECF6\", \"gridcolor\": \"white\", \"gridwidth\": 2, \"linecolor\": \"white\", \"showbackground\": true, \"ticks\": \"\", \"zerolinecolor\": \"white\"}, \"yaxis\": {\"backgroundcolor\": \"#E5ECF6\", \"gridcolor\": \"white\", \"gridwidth\": 2, \"linecolor\": \"white\", \"showbackground\": true, \"ticks\": \"\", \"zerolinecolor\": \"white\"}, \"zaxis\": {\"backgroundcolor\": \"#E5ECF6\", \"gridcolor\": \"white\", \"gridwidth\": 2, \"linecolor\": \"white\", \"showbackground\": true, \"ticks\": \"\", \"zerolinecolor\": \"white\"}}, \"shapedefaults\": {\"line\": {\"color\": \"#2a3f5f\"}}, \"ternary\": {\"aaxis\": {\"gridcolor\": \"white\", \"linecolor\": \"white\", \"ticks\": \"\"}, \"baxis\": {\"gridcolor\": \"white\", \"linecolor\": \"white\", \"ticks\": \"\"}, \"bgcolor\": \"#E5ECF6\", \"caxis\": {\"gridcolor\": \"white\", \"linecolor\": \"white\", \"ticks\": \"\"}}, \"title\": {\"x\": 0.05}, \"xaxis\": {\"automargin\": true, \"gridcolor\": \"white\", \"linecolor\": \"white\", \"ticks\": \"\", \"title\": {\"standoff\": 15}, \"zerolinecolor\": \"white\", \"zerolinewidth\": 2}, \"yaxis\": {\"automargin\": true, \"gridcolor\": \"white\", \"linecolor\": \"white\", \"ticks\": \"\", \"title\": {\"standoff\": 15}, \"zerolinecolor\": \"white\", \"zerolinewidth\": 2}}}, \"xaxis\": {\"anchor\": \"y\", \"domain\": [0.0, 1.0], \"title\": {\"text\": \"UnitPrice\"}}, \"yaxis\": {\"anchor\": \"x\", \"domain\": [0.0, 1.0], \"title\": {\"text\": \"Quantity\"}}},\n",
              "                        {\"responsive\": true}\n",
              "                    ).then(function(){\n",
              "                            \n",
              "var gd = document.getElementById('c3d64503-625c-47f5-b081-3dcb6442f062');\n",
              "var x = new MutationObserver(function (mutations, observer) {{\n",
              "        var display = window.getComputedStyle(gd).display;\n",
              "        if (!display || display === 'none') {{\n",
              "            console.log([gd, 'removed!']);\n",
              "            Plotly.purge(gd);\n",
              "            observer.disconnect();\n",
              "        }}\n",
              "}});\n",
              "\n",
              "// Listen for the removal of the full notebook cells\n",
              "var notebookContainer = gd.closest('#notebook-container');\n",
              "if (notebookContainer) {{\n",
              "    x.observe(notebookContainer, {childList: true});\n",
              "}}\n",
              "\n",
              "// Listen for the clearing of the current output cell\n",
              "var outputEl = gd.closest('.output');\n",
              "if (outputEl) {{\n",
              "    x.observe(outputEl, {childList: true});\n",
              "}}\n",
              "\n",
              "                        })\n",
              "                };\n",
              "                \n",
              "            </script>\n",
              "        </div>\n",
              "</body>\n",
              "</html>"
            ]
          },
          "metadata": {
            "tags": []
          }
        }
      ]
    },
    {
      "cell_type": "markdown",
      "metadata": {
        "id": "fdDnz-kCGZcK"
      },
      "source": [
        "### Type Conversion\n",
        "\n",
        "Transform `InvoiceDate` from string -> date"
      ]
    },
    {
      "cell_type": "code",
      "metadata": {
        "colab": {
          "base_uri": "https://localhost:8080/"
        },
        "id": "xmShX_3AGUm1",
        "outputId": "7b545134-630c-4c80-c5c9-29f31b7ea132"
      },
      "source": [
        "# Show top 5 rows\n",
        "dt.show(5)"
      ],
      "execution_count": null,
      "outputs": [
        {
          "output_type": "stream",
          "text": [
            "+---------+---------+--------------------+--------+---------------+---------+----------+--------------+\n",
            "|InvoiceNo|StockCode|         Description|Quantity|    InvoiceDate|UnitPrice|CustomerID|       Country|\n",
            "+---------+---------+--------------------+--------+---------------+---------+----------+--------------+\n",
            "|   536365|   85123A|WHITE HANGING HEA...|       6|1/12/2018 08:26|     2.55|   17850.0|United Kingdom|\n",
            "|   536365|    71053| WHITE METAL LANTERN|       6|1/12/2018 08:26|     3.39|   17850.0|United Kingdom|\n",
            "|   536365|   84406B|CREAM CUPID HEART...|       8|1/12/2018 08:26|     2.75|   17850.0|United Kingdom|\n",
            "|   536365|   84029G|KNITTED UNION FLA...|       6|1/12/2018 08:26|     3.39|   17850.0|United Kingdom|\n",
            "|   536365|   84029E|RED WOOLLY HOTTIE...|       6|1/12/2018 08:26|     3.39|   17850.0|United Kingdom|\n",
            "+---------+---------+--------------------+--------+---------------+---------+----------+--------------+\n",
            "only showing top 5 rows\n",
            "\n"
          ],
          "name": "stdout"
        }
      ]
    },
    {
      "cell_type": "code",
      "metadata": {
        "colab": {
          "base_uri": "https://localhost:8080/"
        },
        "id": "wWyXAZrTGf0a",
        "outputId": "dbe7787d-e4e3-4931-c362-85b0fd541375"
      },
      "source": [
        "# Show Schema\n",
        "dt.printSchema()"
      ],
      "execution_count": null,
      "outputs": [
        {
          "output_type": "stream",
          "text": [
            "root\n",
            " |-- InvoiceNo: string (nullable = true)\n",
            " |-- StockCode: string (nullable = true)\n",
            " |-- Description: string (nullable = true)\n",
            " |-- Quantity: integer (nullable = true)\n",
            " |-- InvoiceDate: string (nullable = true)\n",
            " |-- UnitPrice: double (nullable = true)\n",
            " |-- CustomerID: double (nullable = true)\n",
            " |-- Country: string (nullable = true)\n",
            "\n"
          ],
          "name": "stdout"
        }
      ]
    },
    {
      "cell_type": "markdown",
      "metadata": {
        "id": "6n2SPjssGoof"
      },
      "source": [
        "## Is the date DD/MM/YYYY or MM/DD/YYYY? Let's find out"
      ]
    },
    {
      "cell_type": "code",
      "metadata": {
        "colab": {
          "base_uri": "https://localhost:8080/"
        },
        "id": "v_LpaiW6Gj8l",
        "outputId": "da6775ad-c12d-4020-9fbb-a5ccaccf3067"
      },
      "source": [
        "# Show unique Invoice Date\n",
        "dt.select(\"InvoiceDate\").distinct().show()"
      ],
      "execution_count": null,
      "outputs": [
        {
          "output_type": "stream",
          "text": [
            "+----------------+\n",
            "|     InvoiceDate|\n",
            "+----------------+\n",
            "| 2/12/2018 11:23|\n",
            "| 6/12/2018 13:41|\n",
            "| 9/12/2018 14:44|\n",
            "|13/12/2018 13:09|\n",
            "|13/12/2018 16:46|\n",
            "|14/12/2018 10:28|\n",
            "|21/12/2018 15:13|\n",
            "|  7/1/2019 15:19|\n",
            "| 12/1/2019 09:48|\n",
            "| 14/1/2019 14:28|\n",
            "| 19/1/2019 14:43|\n",
            "| 26/1/2019 17:15|\n",
            "|  1/2/2019 10:04|\n",
            "|  1/2/2019 12:53|\n",
            "|  3/2/2019 11:30|\n",
            "|  7/2/2019 14:51|\n",
            "| 14/2/2019 12:36|\n",
            "| 14/2/2019 13:11|\n",
            "| 24/2/2019 09:05|\n",
            "| 25/2/2019 13:56|\n",
            "+----------------+\n",
            "only showing top 20 rows\n",
            "\n"
          ],
          "name": "stdout"
        }
      ]
    },
    {
      "cell_type": "code",
      "metadata": {
        "colab": {
          "base_uri": "https://localhost:8080/"
        },
        "id": "EqDC1kCiGshW",
        "outputId": "b6cba099-1191-45d6-c47f-14187f6f06b2"
      },
      "source": [
        "# transform string to date\n",
        "from pyspark.sql import functions as f\n",
        "\n",
        "# dt_temp = dt.withColumn('InvoiceDateTime', functions.to_date(\n",
        "#     functions.unix_timestamp('InvoiceDate', 'dd/MM/yyyy HH:mm').cast('timestamp')\n",
        "# ))\n",
        "\n",
        "dt_temp = dt.withColumn('InvoiceDateTime', \n",
        "    f.unix_timestamp('InvoiceDate', 'dd/MM/yyyy HH:mm').cast('timestamp')\n",
        ")\n",
        "dt_temp.show()"
      ],
      "execution_count": null,
      "outputs": [
        {
          "output_type": "stream",
          "text": [
            "+---------+---------+--------------------+--------+---------------+---------+----------+--------------+-------------------+\n",
            "|InvoiceNo|StockCode|         Description|Quantity|    InvoiceDate|UnitPrice|CustomerID|       Country|    InvoiceDateTime|\n",
            "+---------+---------+--------------------+--------+---------------+---------+----------+--------------+-------------------+\n",
            "|   536365|   85123A|WHITE HANGING HEA...|       6|1/12/2018 08:26|     2.55|   17850.0|United Kingdom|2018-12-01 08:26:00|\n",
            "|   536365|    71053| WHITE METAL LANTERN|       6|1/12/2018 08:26|     3.39|   17850.0|United Kingdom|2018-12-01 08:26:00|\n",
            "|   536365|   84406B|CREAM CUPID HEART...|       8|1/12/2018 08:26|     2.75|   17850.0|United Kingdom|2018-12-01 08:26:00|\n",
            "|   536365|   84029G|KNITTED UNION FLA...|       6|1/12/2018 08:26|     3.39|   17850.0|United Kingdom|2018-12-01 08:26:00|\n",
            "|   536365|   84029E|RED WOOLLY HOTTIE...|       6|1/12/2018 08:26|     3.39|   17850.0|United Kingdom|2018-12-01 08:26:00|\n",
            "|   536365|    22752|SET 7 BABUSHKA NE...|       2|1/12/2018 08:26|     7.65|   17850.0|United Kingdom|2018-12-01 08:26:00|\n",
            "|   536365|    21730|GLASS STAR FROSTE...|       6|1/12/2018 08:26|     4.25|   17850.0|United Kingdom|2018-12-01 08:26:00|\n",
            "|   536366|    22633|HAND WARMER UNION...|       6|1/12/2018 08:28|     1.85|   17850.0|United Kingdom|2018-12-01 08:28:00|\n",
            "|   536366|    22632|HAND WARMER RED P...|       6|1/12/2018 08:28|     1.85|   17850.0|United Kingdom|2018-12-01 08:28:00|\n",
            "|   536367|    84879|ASSORTED COLOUR B...|      32|1/12/2018 08:34|     1.69|   13047.0|United Kingdom|2018-12-01 08:34:00|\n",
            "|   536367|    22745|POPPY'S PLAYHOUSE...|       6|1/12/2018 08:34|      2.1|   13047.0|United Kingdom|2018-12-01 08:34:00|\n",
            "|   536367|    22748|POPPY'S PLAYHOUSE...|       6|1/12/2018 08:34|      2.1|   13047.0|United Kingdom|2018-12-01 08:34:00|\n",
            "|   536367|    22749|FELTCRAFT PRINCES...|       8|1/12/2018 08:34|     3.75|   13047.0|United Kingdom|2018-12-01 08:34:00|\n",
            "|   536367|    22310|IVORY KNITTED MUG...|       6|1/12/2018 08:34|     1.65|   13047.0|United Kingdom|2018-12-01 08:34:00|\n",
            "|   536367|    84969|BOX OF 6 ASSORTED...|       6|1/12/2018 08:34|     4.25|   13047.0|United Kingdom|2018-12-01 08:34:00|\n",
            "|   536367|    22623|BOX OF VINTAGE JI...|       3|1/12/2018 08:34|     4.95|   13047.0|United Kingdom|2018-12-01 08:34:00|\n",
            "|   536367|    22622|BOX OF VINTAGE AL...|       2|1/12/2018 08:34|     9.95|   13047.0|United Kingdom|2018-12-01 08:34:00|\n",
            "|   536367|    21754|HOME BUILDING BLO...|       3|1/12/2018 08:34|     5.95|   13047.0|United Kingdom|2018-12-01 08:34:00|\n",
            "|   536367|    21755|LOVE BUILDING BLO...|       3|1/12/2018 08:34|     5.95|   13047.0|United Kingdom|2018-12-01 08:34:00|\n",
            "|   536367|    21777|RECIPE BOX WITH M...|       4|1/12/2018 08:34|     7.95|   13047.0|United Kingdom|2018-12-01 08:34:00|\n",
            "+---------+---------+--------------------+--------+---------------+---------+----------+--------------+-------------------+\n",
            "only showing top 20 rows\n",
            "\n"
          ],
          "name": "stdout"
        }
      ]
    },
    {
      "cell_type": "code",
      "metadata": {
        "colab": {
          "base_uri": "https://localhost:8080/"
        },
        "id": "nTA97vYRGw_t",
        "outputId": "bcd6e5fe-5c3c-4d30-f30e-bf86cfa8954b"
      },
      "source": [
        "dt_temp.printSchema()"
      ],
      "execution_count": null,
      "outputs": [
        {
          "output_type": "stream",
          "text": [
            "root\n",
            " |-- InvoiceNo: string (nullable = true)\n",
            " |-- StockCode: string (nullable = true)\n",
            " |-- Description: string (nullable = true)\n",
            " |-- Quantity: integer (nullable = true)\n",
            " |-- InvoiceDate: string (nullable = true)\n",
            " |-- UnitPrice: double (nullable = true)\n",
            " |-- CustomerID: double (nullable = true)\n",
            " |-- Country: string (nullable = true)\n",
            " |-- InvoiceDateTime: timestamp (nullable = true)\n",
            "\n"
          ],
          "name": "stdout"
        }
      ]
    },
    {
      "cell_type": "code",
      "metadata": {
        "colab": {
          "base_uri": "https://localhost:8080/"
        },
        "id": "UUI-rv_FG0Hc",
        "outputId": "bb539a3c-a84b-4541-b9bb-05921f5d89e6"
      },
      "source": [
        "dt_final = dt_temp.drop('InvoiceDate')\n",
        "dt_final.show()"
      ],
      "execution_count": null,
      "outputs": [
        {
          "output_type": "stream",
          "text": [
            "+---------+---------+--------------------+--------+---------+----------+--------------+-------------------+\n",
            "|InvoiceNo|StockCode|         Description|Quantity|UnitPrice|CustomerID|       Country|    InvoiceDateTime|\n",
            "+---------+---------+--------------------+--------+---------+----------+--------------+-------------------+\n",
            "|   536365|   85123A|WHITE HANGING HEA...|       6|     2.55|   17850.0|United Kingdom|2018-12-01 08:26:00|\n",
            "|   536365|    71053| WHITE METAL LANTERN|       6|     3.39|   17850.0|United Kingdom|2018-12-01 08:26:00|\n",
            "|   536365|   84406B|CREAM CUPID HEART...|       8|     2.75|   17850.0|United Kingdom|2018-12-01 08:26:00|\n",
            "|   536365|   84029G|KNITTED UNION FLA...|       6|     3.39|   17850.0|United Kingdom|2018-12-01 08:26:00|\n",
            "|   536365|   84029E|RED WOOLLY HOTTIE...|       6|     3.39|   17850.0|United Kingdom|2018-12-01 08:26:00|\n",
            "|   536365|    22752|SET 7 BABUSHKA NE...|       2|     7.65|   17850.0|United Kingdom|2018-12-01 08:26:00|\n",
            "|   536365|    21730|GLASS STAR FROSTE...|       6|     4.25|   17850.0|United Kingdom|2018-12-01 08:26:00|\n",
            "|   536366|    22633|HAND WARMER UNION...|       6|     1.85|   17850.0|United Kingdom|2018-12-01 08:28:00|\n",
            "|   536366|    22632|HAND WARMER RED P...|       6|     1.85|   17850.0|United Kingdom|2018-12-01 08:28:00|\n",
            "|   536367|    84879|ASSORTED COLOUR B...|      32|     1.69|   13047.0|United Kingdom|2018-12-01 08:34:00|\n",
            "|   536367|    22745|POPPY'S PLAYHOUSE...|       6|      2.1|   13047.0|United Kingdom|2018-12-01 08:34:00|\n",
            "|   536367|    22748|POPPY'S PLAYHOUSE...|       6|      2.1|   13047.0|United Kingdom|2018-12-01 08:34:00|\n",
            "|   536367|    22749|FELTCRAFT PRINCES...|       8|     3.75|   13047.0|United Kingdom|2018-12-01 08:34:00|\n",
            "|   536367|    22310|IVORY KNITTED MUG...|       6|     1.65|   13047.0|United Kingdom|2018-12-01 08:34:00|\n",
            "|   536367|    84969|BOX OF 6 ASSORTED...|       6|     4.25|   13047.0|United Kingdom|2018-12-01 08:34:00|\n",
            "|   536367|    22623|BOX OF VINTAGE JI...|       3|     4.95|   13047.0|United Kingdom|2018-12-01 08:34:00|\n",
            "|   536367|    22622|BOX OF VINTAGE AL...|       2|     9.95|   13047.0|United Kingdom|2018-12-01 08:34:00|\n",
            "|   536367|    21754|HOME BUILDING BLO...|       3|     5.95|   13047.0|United Kingdom|2018-12-01 08:34:00|\n",
            "|   536367|    21755|LOVE BUILDING BLO...|       3|     5.95|   13047.0|United Kingdom|2018-12-01 08:34:00|\n",
            "|   536367|    21777|RECIPE BOX WITH M...|       4|     7.95|   13047.0|United Kingdom|2018-12-01 08:34:00|\n",
            "+---------+---------+--------------------+--------+---------+----------+--------------+-------------------+\n",
            "only showing top 20 rows\n",
            "\n"
          ],
          "name": "stdout"
        }
      ]
    },
    {
      "cell_type": "code",
      "metadata": {
        "colab": {
          "base_uri": "https://localhost:8080/"
        },
        "id": "L0RKIjQOG3D7",
        "outputId": "274fea67-ac48-4c27-befb-f765ef89fecd"
      },
      "source": [
        "dt_final.printSchema()"
      ],
      "execution_count": null,
      "outputs": [
        {
          "output_type": "stream",
          "text": [
            "root\n",
            " |-- InvoiceNo: string (nullable = true)\n",
            " |-- StockCode: string (nullable = true)\n",
            " |-- Description: string (nullable = true)\n",
            " |-- Quantity: integer (nullable = true)\n",
            " |-- UnitPrice: double (nullable = true)\n",
            " |-- CustomerID: double (nullable = true)\n",
            " |-- Country: string (nullable = true)\n",
            " |-- InvoiceDateTime: timestamp (nullable = true)\n",
            "\n"
          ],
          "name": "stdout"
        }
      ]
    },
    {
      "cell_type": "markdown",
      "metadata": {
        "id": "XdeFLNwjG-sq"
      },
      "source": [
        "## Data Cleansing with Spark\n",
        "\n",
        "\n",
        "\n"
      ]
    },
    {
      "cell_type": "markdown",
      "metadata": {
        "id": "0z2NJAwaHTna"
      },
      "source": [
        "\n",
        "\n",
        "### Anomalies Check\n",
        "\n"
      ]
    },
    {
      "cell_type": "markdown",
      "metadata": {
        "id": "P7N9JvoSHLOd"
      },
      "source": [
        "#### Syntactical Anomalies\n",
        "**Lexical errors** example mistake typing"
      ]
    },
    {
      "cell_type": "code",
      "metadata": {
        "colab": {
          "base_uri": "https://localhost:8080/"
        },
        "id": "C2Mm_4ySG7Fw",
        "outputId": "5a708d12-4772-4f0c-9250-d445a99c12bb"
      },
      "source": [
        "# Check country distinct values. Find something interesting?\n",
        "# check country name, What's see?\n",
        "dt_final.select(\"Country\").distinct().show()"
      ],
      "execution_count": null,
      "outputs": [
        {
          "output_type": "stream",
          "text": [
            "+------------------+\n",
            "|           Country|\n",
            "+------------------+\n",
            "|            Sweden|\n",
            "|         Singapore|\n",
            "|           Germany|\n",
            "|               RSA|\n",
            "|            France|\n",
            "|            Greece|\n",
            "|European Community|\n",
            "|           Belgium|\n",
            "|           Finland|\n",
            "|             Malta|\n",
            "|       Unspecified|\n",
            "|             Italy|\n",
            "|              EIRE|\n",
            "|         Lithuania|\n",
            "|            Norway|\n",
            "|             Spain|\n",
            "|             EIREs|\n",
            "|           Denmark|\n",
            "|         Hong Kong|\n",
            "|           Iceland|\n",
            "+------------------+\n",
            "only showing top 20 rows\n",
            "\n"
          ],
          "name": "stdout"
        }
      ]
    },
    {
      "cell_type": "code",
      "metadata": {
        "colab": {
          "base_uri": "https://localhost:8080/"
        },
        "id": "S_75iRTuHZe5",
        "outputId": "5cee1483-8527-436d-bbc3-4a3c0b5d04b9"
      },
      "source": [
        "dt_final.where(dt_final['Country'] == 'EIREs').show()"
      ],
      "execution_count": null,
      "outputs": [
        {
          "output_type": "stream",
          "text": [
            "+---------+---------+--------------------+--------+---------+----------+-------+-------------------+\n",
            "|InvoiceNo|StockCode|         Description|Quantity|UnitPrice|CustomerID|Country|    InvoiceDateTime|\n",
            "+---------+---------+--------------------+--------+---------+----------+-------+-------------------+\n",
            "|   539473|       C2|            CARRIAGE|       1|     50.0|   14911.0|  EIREs|2018-12-19 14:24:00|\n",
            "|   542216|    84978|HANGING HEART JAR...|      24|     1.25|   14911.0|  EIREs|2019-01-26 12:29:00|\n",
            "|   560451|    22844|VINTAGE CREAM DOG...|       2|      8.5|   14911.0|  EIREs|2019-07-19 09:50:00|\n",
            "|   565748|    23163| REGENCY SUGAR TONGS|       8|     2.49|   14156.0|  EIREs|2019-09-06 12:38:00|\n",
            "|   565928|    21889|WOODEN BOX OF DOM...|      12|     1.25|      null|  EIREs|2019-09-08 10:09:00|\n",
            "+---------+---------+--------------------+--------+---------+----------+-------+-------------------+\n",
            "\n"
          ],
          "name": "stdout"
        }
      ]
    },
    {
      "cell_type": "code",
      "metadata": {
        "id": "fr1YnLgfHdq0"
      },
      "source": [
        "# Transform EIREs to EIRE\n",
        "from pyspark.sql.functions import when\n",
        "\n",
        "dt_temp_eire = dt_final.withColumn(\"CountryUpdate\", when(dt_final['Country'] == 'EIREs', 'EIRE').otherwise(dt_final['Country']))"
      ],
      "execution_count": null,
      "outputs": []
    },
    {
      "cell_type": "code",
      "metadata": {
        "colab": {
          "base_uri": "https://localhost:8080/"
        },
        "id": "hnSo6N3xHkN2",
        "outputId": "8bb4be88-3849-4202-d613-49309efafe7d"
      },
      "source": [
        "# Check the result\n",
        "dt_temp_eire.select(\"CountryUpdate\").distinct().show()"
      ],
      "execution_count": null,
      "outputs": [
        {
          "output_type": "stream",
          "text": [
            "+------------------+\n",
            "|     CountryUpdate|\n",
            "+------------------+\n",
            "|            Sweden|\n",
            "|         Singapore|\n",
            "|           Germany|\n",
            "|               RSA|\n",
            "|            France|\n",
            "|            Greece|\n",
            "|European Community|\n",
            "|           Belgium|\n",
            "|           Finland|\n",
            "|             Malta|\n",
            "|       Unspecified|\n",
            "|             Italy|\n",
            "|              EIRE|\n",
            "|         Lithuania|\n",
            "|            Norway|\n",
            "|             Spain|\n",
            "|           Denmark|\n",
            "|         Hong Kong|\n",
            "|           Iceland|\n",
            "|            Israel|\n",
            "+------------------+\n",
            "only showing top 20 rows\n",
            "\n"
          ],
          "name": "stdout"
        }
      ]
    },
    {
      "cell_type": "code",
      "metadata": {
        "id": "ZiTlYxs0Hlwe"
      },
      "source": [
        "# Create final Dataframe\n",
        "dt_final_eire = dt_temp_eire.drop(\"Country\").withColumnRenamed('CountryUpdate', 'Country')"
      ],
      "execution_count": null,
      "outputs": []
    },
    {
      "cell_type": "code",
      "metadata": {
        "colab": {
          "base_uri": "https://localhost:8080/"
        },
        "id": "FfQptlOnHpiG",
        "outputId": "7406adfa-cb01-4aa8-c8a3-9ec6d0584b34"
      },
      "source": [
        "dt_final_eire.show()"
      ],
      "execution_count": null,
      "outputs": [
        {
          "output_type": "stream",
          "text": [
            "+---------+---------+--------------------+--------+---------+----------+-------------------+--------------+\n",
            "|InvoiceNo|StockCode|         Description|Quantity|UnitPrice|CustomerID|    InvoiceDateTime|       Country|\n",
            "+---------+---------+--------------------+--------+---------+----------+-------------------+--------------+\n",
            "|   536365|   85123A|WHITE HANGING HEA...|       6|     2.55|   17850.0|2018-12-01 08:26:00|United Kingdom|\n",
            "|   536365|    71053| WHITE METAL LANTERN|       6|     3.39|   17850.0|2018-12-01 08:26:00|United Kingdom|\n",
            "|   536365|   84406B|CREAM CUPID HEART...|       8|     2.75|   17850.0|2018-12-01 08:26:00|United Kingdom|\n",
            "|   536365|   84029G|KNITTED UNION FLA...|       6|     3.39|   17850.0|2018-12-01 08:26:00|United Kingdom|\n",
            "|   536365|   84029E|RED WOOLLY HOTTIE...|       6|     3.39|   17850.0|2018-12-01 08:26:00|United Kingdom|\n",
            "|   536365|    22752|SET 7 BABUSHKA NE...|       2|     7.65|   17850.0|2018-12-01 08:26:00|United Kingdom|\n",
            "|   536365|    21730|GLASS STAR FROSTE...|       6|     4.25|   17850.0|2018-12-01 08:26:00|United Kingdom|\n",
            "|   536366|    22633|HAND WARMER UNION...|       6|     1.85|   17850.0|2018-12-01 08:28:00|United Kingdom|\n",
            "|   536366|    22632|HAND WARMER RED P...|       6|     1.85|   17850.0|2018-12-01 08:28:00|United Kingdom|\n",
            "|   536367|    84879|ASSORTED COLOUR B...|      32|     1.69|   13047.0|2018-12-01 08:34:00|United Kingdom|\n",
            "|   536367|    22745|POPPY'S PLAYHOUSE...|       6|      2.1|   13047.0|2018-12-01 08:34:00|United Kingdom|\n",
            "|   536367|    22748|POPPY'S PLAYHOUSE...|       6|      2.1|   13047.0|2018-12-01 08:34:00|United Kingdom|\n",
            "|   536367|    22749|FELTCRAFT PRINCES...|       8|     3.75|   13047.0|2018-12-01 08:34:00|United Kingdom|\n",
            "|   536367|    22310|IVORY KNITTED MUG...|       6|     1.65|   13047.0|2018-12-01 08:34:00|United Kingdom|\n",
            "|   536367|    84969|BOX OF 6 ASSORTED...|       6|     4.25|   13047.0|2018-12-01 08:34:00|United Kingdom|\n",
            "|   536367|    22623|BOX OF VINTAGE JI...|       3|     4.95|   13047.0|2018-12-01 08:34:00|United Kingdom|\n",
            "|   536367|    22622|BOX OF VINTAGE AL...|       2|     9.95|   13047.0|2018-12-01 08:34:00|United Kingdom|\n",
            "|   536367|    21754|HOME BUILDING BLO...|       3|     5.95|   13047.0|2018-12-01 08:34:00|United Kingdom|\n",
            "|   536367|    21755|LOVE BUILDING BLO...|       3|     5.95|   13047.0|2018-12-01 08:34:00|United Kingdom|\n",
            "|   536367|    21777|RECIPE BOX WITH M...|       4|     7.95|   13047.0|2018-12-01 08:34:00|United Kingdom|\n",
            "+---------+---------+--------------------+--------+---------+----------+-------------------+--------------+\n",
            "only showing top 20 rows\n",
            "\n"
          ],
          "name": "stdout"
        }
      ]
    },
    {
      "cell_type": "markdown",
      "metadata": {
        "id": "mkegmHGAHxiX"
      },
      "source": [
        "#### Semantic Anomalies\n",
        "\n",
        "**Integrity constraints**: The value is outside the obtained value range example \n",
        "- Stockcode: Must to be numurical 5 values"
      ]
    },
    {
      "cell_type": "code",
      "metadata": {
        "colab": {
          "base_uri": "https://localhost:8080/"
        },
        "id": "7z3r8Wz8HtIU",
        "outputId": "0f60aeeb-109e-4f70-ec29-f300be168896"
      },
      "source": [
        "dt_final_eire.select(\"Stockcode\").show(100)"
      ],
      "execution_count": null,
      "outputs": [
        {
          "output_type": "stream",
          "text": [
            "+---------+\n",
            "|Stockcode|\n",
            "+---------+\n",
            "|   85123A|\n",
            "|    71053|\n",
            "|   84406B|\n",
            "|   84029G|\n",
            "|   84029E|\n",
            "|    22752|\n",
            "|    21730|\n",
            "|    22633|\n",
            "|    22632|\n",
            "|    84879|\n",
            "|    22745|\n",
            "|    22748|\n",
            "|    22749|\n",
            "|    22310|\n",
            "|    84969|\n",
            "|    22623|\n",
            "|    22622|\n",
            "|    21754|\n",
            "|    21755|\n",
            "|    21777|\n",
            "|    48187|\n",
            "|    22960|\n",
            "|    22913|\n",
            "|    22912|\n",
            "|    22914|\n",
            "|    21756|\n",
            "|    22728|\n",
            "|    22727|\n",
            "|    22726|\n",
            "|    21724|\n",
            "|    21883|\n",
            "|    10002|\n",
            "|    21791|\n",
            "|    21035|\n",
            "|    22326|\n",
            "|    22629|\n",
            "|    22659|\n",
            "|    22631|\n",
            "|    22661|\n",
            "|    21731|\n",
            "|    22900|\n",
            "|    21913|\n",
            "|    22540|\n",
            "|    22544|\n",
            "|    22492|\n",
            "|     POST|\n",
            "|    22086|\n",
            "|    22632|\n",
            "|    22633|\n",
            "|   85123A|\n",
            "|    71053|\n",
            "|   84406B|\n",
            "|    20679|\n",
            "|    37370|\n",
            "|    21871|\n",
            "|    21071|\n",
            "|    21068|\n",
            "|    82483|\n",
            "|    82486|\n",
            "|    82482|\n",
            "|   82494L|\n",
            "|   84029G|\n",
            "|   84029E|\n",
            "|    22752|\n",
            "|    21730|\n",
            "|    21258|\n",
            "|   85123A|\n",
            "|    71053|\n",
            "|   84406B|\n",
            "|    20679|\n",
            "|    37370|\n",
            "|    21871|\n",
            "|    21071|\n",
            "|    21068|\n",
            "|    82483|\n",
            "|    82486|\n",
            "|    82482|\n",
            "|   82494L|\n",
            "|   84029G|\n",
            "|   84029E|\n",
            "|    22752|\n",
            "|    21730|\n",
            "|    22114|\n",
            "|    21733|\n",
            "|    22632|\n",
            "|    22633|\n",
            "|    22386|\n",
            "|   85099C|\n",
            "|    21033|\n",
            "|    20723|\n",
            "|   84997B|\n",
            "|   84997C|\n",
            "|    21094|\n",
            "|    20725|\n",
            "|    21559|\n",
            "|    22352|\n",
            "|    21212|\n",
            "|    21975|\n",
            "|    21977|\n",
            "|    84991|\n",
            "+---------+\n",
            "only showing top 100 rows\n",
            "\n"
          ],
          "name": "stdout"
        }
      ]
    },
    {
      "cell_type": "code",
      "metadata": {
        "colab": {
          "base_uri": "https://localhost:8080/"
        },
        "id": "WH9V1oJlH2CP",
        "outputId": "7a6b2732-28a0-4f0d-f9b3-524c9ab927d0"
      },
      "source": [
        "dt_final_eire.count()"
      ],
      "execution_count": null,
      "outputs": [
        {
          "output_type": "execute_result",
          "data": {
            "text/plain": [
              "541909"
            ]
          },
          "metadata": {
            "tags": []
          },
          "execution_count": 204
        }
      ]
    },
    {
      "cell_type": "code",
      "metadata": {
        "colab": {
          "base_uri": "https://localhost:8080/"
        },
        "id": "7Ka00sZgH61g",
        "outputId": "21ec5a0b-0e0f-4c26-a82e-1b222dbafae6"
      },
      "source": [
        "dt_final_eire.filter(dt_final_eire[\"Stockcode\"].rlike(\"^[0-9]{5}$\")).count()"
      ],
      "execution_count": null,
      "outputs": [
        {
          "output_type": "execute_result",
          "data": {
            "text/plain": [
              "487036"
            ]
          },
          "metadata": {
            "tags": []
          },
          "execution_count": 205
        }
      ]
    },
    {
      "cell_type": "code",
      "metadata": {
        "colab": {
          "base_uri": "https://localhost:8080/"
        },
        "id": "qGIBY9RXH9sU",
        "outputId": "537e66d1-2ad9-4a3b-d068-93eb2e3b3ad4"
      },
      "source": [
        "# Check correct data\n",
        "dt_final_eire.filter(dt_final_eire[\"Stockcode\"].rlike(\"^[0-9]{5}$\")).show(5)"
      ],
      "execution_count": null,
      "outputs": [
        {
          "output_type": "stream",
          "text": [
            "+---------+---------+--------------------+--------+---------+----------+-------------------+--------------+\n",
            "|InvoiceNo|StockCode|         Description|Quantity|UnitPrice|CustomerID|    InvoiceDateTime|       Country|\n",
            "+---------+---------+--------------------+--------+---------+----------+-------------------+--------------+\n",
            "|   536365|    71053| WHITE METAL LANTERN|       6|     3.39|   17850.0|2018-12-01 08:26:00|United Kingdom|\n",
            "|   536365|    22752|SET 7 BABUSHKA NE...|       2|     7.65|   17850.0|2018-12-01 08:26:00|United Kingdom|\n",
            "|   536365|    21730|GLASS STAR FROSTE...|       6|     4.25|   17850.0|2018-12-01 08:26:00|United Kingdom|\n",
            "|   536366|    22633|HAND WARMER UNION...|       6|     1.85|   17850.0|2018-12-01 08:28:00|United Kingdom|\n",
            "|   536366|    22632|HAND WARMER RED P...|       6|     1.85|   17850.0|2018-12-01 08:28:00|United Kingdom|\n",
            "+---------+---------+--------------------+--------+---------+----------+-------------------+--------------+\n",
            "only showing top 5 rows\n",
            "\n"
          ],
          "name": "stdout"
        }
      ]
    },
    {
      "cell_type": "code",
      "metadata": {
        "colab": {
          "base_uri": "https://localhost:8080/"
        },
        "id": "MBOQEYX4IA0e",
        "outputId": "1a900f47-f9ae-4c0c-894c-cc500cb4233d"
      },
      "source": [
        "# check incorrect data\n",
        "dt_correct_stockcode = dt_final_eire.filter(dt_final_eire[\"Stockcode\"].rlike(\"^[0-9]{5}$\"))\n",
        "dt_incorrect_stockcode = dt_final_eire.subtract(dt_correct_stockcode)\n",
        "\n",
        "dt_incorrect_stockcode.show(10)"
      ],
      "execution_count": null,
      "outputs": [
        {
          "output_type": "stream",
          "text": [
            "+---------+---------+--------------------+--------+---------+----------+-------------------+--------------+\n",
            "|InvoiceNo|StockCode|         Description|Quantity|UnitPrice|CustomerID|    InvoiceDateTime|       Country|\n",
            "+---------+---------+--------------------+--------+---------+----------+-------------------+--------------+\n",
            "|   536551|   79144B|PAINTED LIGHTBULB...|       2|     0.42|   17346.0|2018-12-01 14:34:00|United Kingdom|\n",
            "|   536584|   84029E|RED WOOLLY HOTTIE...|     384|     2.95|   13777.0|2018-12-01 16:22:00|United Kingdom|\n",
            "|   536804|   84029G|KNITTED UNION FLA...|      48|     3.39|   14031.0|2018-12-02 16:34:00|United Kingdom|\n",
            "|   537045|   90185D|CRYSTAL DIAMANTE ...|       1|     4.25|   15038.0|2018-12-05 10:54:00|United Kingdom|\n",
            "|   537144|   84596E|SMALL LICORICE DE...|       1|     1.25|   15880.0|2018-12-05 13:00:00|United Kingdom|\n",
            "|   537422|   85131A|BEADED PEARL HEAR...|      24|     1.25|   17812.0|2018-12-06 15:27:00|United Kingdom|\n",
            "|   537781|   51020B|STRIPY DESIGN SHO...|       1|     1.25|   17341.0|2018-12-08 12:46:00|United Kingdom|\n",
            "|   538639|   84247E|PACK/12 XMAS FUN ...|      12|     2.95|   17179.0|2018-12-13 14:24:00|United Kingdom|\n",
            "|   538646|   84029E|RED WOOLLY HOTTIE...|       4|     3.75|   17293.0|2018-12-13 14:55:00|United Kingdom|\n",
            "|   538832|   85123A|WHITE HANGING HEA...|       6|     2.95|   17158.0|2018-12-14 13:03:00|United Kingdom|\n",
            "+---------+---------+--------------------+--------+---------+----------+-------------------+--------------+\n",
            "only showing top 10 rows\n",
            "\n"
          ],
          "name": "stdout"
        }
      ]
    },
    {
      "cell_type": "markdown",
      "metadata": {
        "id": "74afmQ5hILKQ"
      },
      "source": [
        "## Can you see Stock Code pattern incorrect?"
      ]
    },
    {
      "cell_type": "code",
      "metadata": {
        "id": "QQV6NKnfIF6J"
      },
      "source": [
        "# delete the last alphabet from stock code \n",
        "from pyspark.sql.functions import regexp_replace\n",
        "\n",
        "dt_temp_stockcode = dt_final_eire.withColumn(\"StockcodeUpdate\", regexp_replace(dt_final_eire['Stockcode'], r'[A-Z]', ''))"
      ],
      "execution_count": null,
      "outputs": []
    },
    {
      "cell_type": "code",
      "metadata": {
        "colab": {
          "base_uri": "https://localhost:8080/"
        },
        "id": "qWHrJp4lOKhh",
        "outputId": "94c15a73-2552-44f1-d7e7-9cd8776543f6"
      },
      "source": [
        "# Check the result\n",
        "dt_temp_stockcode.show()"
      ],
      "execution_count": null,
      "outputs": [
        {
          "output_type": "stream",
          "text": [
            "+---------+---------+--------------------+--------+---------+----------+-------------------+--------------+---------------+\n",
            "|InvoiceNo|StockCode|         Description|Quantity|UnitPrice|CustomerID|    InvoiceDateTime|       Country|StockcodeUpdate|\n",
            "+---------+---------+--------------------+--------+---------+----------+-------------------+--------------+---------------+\n",
            "|   536365|   85123A|WHITE HANGING HEA...|       6|     2.55|   17850.0|2018-12-01 08:26:00|United Kingdom|          85123|\n",
            "|   536365|    71053| WHITE METAL LANTERN|       6|     3.39|   17850.0|2018-12-01 08:26:00|United Kingdom|          71053|\n",
            "|   536365|   84406B|CREAM CUPID HEART...|       8|     2.75|   17850.0|2018-12-01 08:26:00|United Kingdom|          84406|\n",
            "|   536365|   84029G|KNITTED UNION FLA...|       6|     3.39|   17850.0|2018-12-01 08:26:00|United Kingdom|          84029|\n",
            "|   536365|   84029E|RED WOOLLY HOTTIE...|       6|     3.39|   17850.0|2018-12-01 08:26:00|United Kingdom|          84029|\n",
            "|   536365|    22752|SET 7 BABUSHKA NE...|       2|     7.65|   17850.0|2018-12-01 08:26:00|United Kingdom|          22752|\n",
            "|   536365|    21730|GLASS STAR FROSTE...|       6|     4.25|   17850.0|2018-12-01 08:26:00|United Kingdom|          21730|\n",
            "|   536366|    22633|HAND WARMER UNION...|       6|     1.85|   17850.0|2018-12-01 08:28:00|United Kingdom|          22633|\n",
            "|   536366|    22632|HAND WARMER RED P...|       6|     1.85|   17850.0|2018-12-01 08:28:00|United Kingdom|          22632|\n",
            "|   536367|    84879|ASSORTED COLOUR B...|      32|     1.69|   13047.0|2018-12-01 08:34:00|United Kingdom|          84879|\n",
            "|   536367|    22745|POPPY'S PLAYHOUSE...|       6|      2.1|   13047.0|2018-12-01 08:34:00|United Kingdom|          22745|\n",
            "|   536367|    22748|POPPY'S PLAYHOUSE...|       6|      2.1|   13047.0|2018-12-01 08:34:00|United Kingdom|          22748|\n",
            "|   536367|    22749|FELTCRAFT PRINCES...|       8|     3.75|   13047.0|2018-12-01 08:34:00|United Kingdom|          22749|\n",
            "|   536367|    22310|IVORY KNITTED MUG...|       6|     1.65|   13047.0|2018-12-01 08:34:00|United Kingdom|          22310|\n",
            "|   536367|    84969|BOX OF 6 ASSORTED...|       6|     4.25|   13047.0|2018-12-01 08:34:00|United Kingdom|          84969|\n",
            "|   536367|    22623|BOX OF VINTAGE JI...|       3|     4.95|   13047.0|2018-12-01 08:34:00|United Kingdom|          22623|\n",
            "|   536367|    22622|BOX OF VINTAGE AL...|       2|     9.95|   13047.0|2018-12-01 08:34:00|United Kingdom|          22622|\n",
            "|   536367|    21754|HOME BUILDING BLO...|       3|     5.95|   13047.0|2018-12-01 08:34:00|United Kingdom|          21754|\n",
            "|   536367|    21755|LOVE BUILDING BLO...|       3|     5.95|   13047.0|2018-12-01 08:34:00|United Kingdom|          21755|\n",
            "|   536367|    21777|RECIPE BOX WITH M...|       4|     7.95|   13047.0|2018-12-01 08:34:00|United Kingdom|          21777|\n",
            "+---------+---------+--------------------+--------+---------+----------+-------------------+--------------+---------------+\n",
            "only showing top 20 rows\n",
            "\n"
          ],
          "name": "stdout"
        }
      ]
    },
    {
      "cell_type": "code",
      "metadata": {
        "id": "jHYCJYnyONc0"
      },
      "source": [
        "# Create final Dataframe\n",
        "dt_final_stockcode = dt_temp_stockcode.drop(\"Stockcode\").withColumnRenamed('StockcodeUpdate', 'StockCode')"
      ],
      "execution_count": null,
      "outputs": []
    },
    {
      "cell_type": "code",
      "metadata": {
        "colab": {
          "base_uri": "https://localhost:8080/"
        },
        "id": "JPTfJGGUORyA",
        "outputId": "bf98fe69-46d7-440b-9c26-efce4e2f19cf"
      },
      "source": [
        "dt_final_stockcode.show(4)"
      ],
      "execution_count": null,
      "outputs": [
        {
          "output_type": "stream",
          "text": [
            "+---------+--------------------+--------+---------+----------+-------------------+--------------+---------+\n",
            "|InvoiceNo|         Description|Quantity|UnitPrice|CustomerID|    InvoiceDateTime|       Country|StockCode|\n",
            "+---------+--------------------+--------+---------+----------+-------------------+--------------+---------+\n",
            "|   536365|WHITE HANGING HEA...|       6|     2.55|   17850.0|2018-12-01 08:26:00|United Kingdom|    85123|\n",
            "|   536365| WHITE METAL LANTERN|       6|     3.39|   17850.0|2018-12-01 08:26:00|United Kingdom|    71053|\n",
            "|   536365|CREAM CUPID HEART...|       8|     2.75|   17850.0|2018-12-01 08:26:00|United Kingdom|    84406|\n",
            "|   536365|KNITTED UNION FLA...|       6|     3.39|   17850.0|2018-12-01 08:26:00|United Kingdom|    84029|\n",
            "+---------+--------------------+--------+---------+----------+-------------------+--------------+---------+\n",
            "only showing top 4 rows\n",
            "\n"
          ],
          "name": "stdout"
        }
      ]
    },
    {
      "cell_type": "markdown",
      "metadata": {
        "id": "cB5VhbEGOayT"
      },
      "source": [
        "#### Missing values\n",
        "\n",
        "Check and Edit Missing Values (If Necessary)"
      ]
    },
    {
      "cell_type": "code",
      "metadata": {
        "colab": {
          "base_uri": "https://localhost:8080/"
        },
        "id": "tlx7bbOHOVmG",
        "outputId": "016dfae8-3ea1-479c-ea63-da1200f38a2f"
      },
      "source": [
        "# Check amount missing values in each of column\n",
        "from pyspark.sql.functions import col,sum\n",
        "\n",
        "dt_final_stockcode.select(*[sum(col(c).isNull().cast(\"int\")).alias(c) for c in dt_final_stockcode.columns]).show()"
      ],
      "execution_count": null,
      "outputs": [
        {
          "output_type": "stream",
          "text": [
            "+---------+-----------+--------+---------+----------+---------------+-------+---------+\n",
            "|InvoiceNo|Description|Quantity|UnitPrice|CustomerID|InvoiceDateTime|Country|StockCode|\n",
            "+---------+-----------+--------+---------+----------+---------------+-------+---------+\n",
            "|        0|       1454|       0|        0|    135080|              0|      0|        0|\n",
            "+---------+-----------+--------+---------+----------+---------------+-------+---------+\n",
            "\n"
          ],
          "name": "stdout"
        }
      ]
    },
    {
      "cell_type": "code",
      "metadata": {
        "colab": {
          "base_uri": "https://localhost:8080/"
        },
        "id": "5_On8dutOeqy",
        "outputId": "968da0dc-2d72-48f4-8195-e3ef1bf5c325"
      },
      "source": [
        "# Check description row show null\n",
        "\n",
        "dt_final_stockcode.where( dt_final_stockcode['Description'].isNull() ).show()"
      ],
      "execution_count": null,
      "outputs": [
        {
          "output_type": "stream",
          "text": [
            "+---------+-----------+--------+---------+----------+-------------------+--------------+---------+\n",
            "|InvoiceNo|Description|Quantity|UnitPrice|CustomerID|    InvoiceDateTime|       Country|StockCode|\n",
            "+---------+-----------+--------+---------+----------+-------------------+--------------+---------+\n",
            "|   536414|       null|      56|      0.0|      null|2018-12-01 11:52:00|United Kingdom|    22139|\n",
            "|   536545|       null|       1|      0.0|      null|2018-12-01 14:32:00|United Kingdom|    21134|\n",
            "|   536546|       null|       1|      0.0|      null|2018-12-01 14:33:00|United Kingdom|    22145|\n",
            "|   536547|       null|       1|      0.0|      null|2018-12-01 14:33:00|United Kingdom|    37509|\n",
            "|   536549|       null|       1|      0.0|      null|2018-12-01 14:34:00|United Kingdom|    85226|\n",
            "|   536550|       null|       1|      0.0|      null|2018-12-01 14:34:00|United Kingdom|    85044|\n",
            "|   536552|       null|       1|      0.0|      null|2018-12-01 14:34:00|United Kingdom|    20950|\n",
            "|   536553|       null|       3|      0.0|      null|2018-12-01 14:35:00|United Kingdom|    37461|\n",
            "|   536554|       null|      23|      0.0|      null|2018-12-01 14:35:00|United Kingdom|    84670|\n",
            "|   536589|       null|     -10|      0.0|      null|2018-12-01 16:50:00|United Kingdom|    21777|\n",
            "|   536764|       null|     -38|      0.0|      null|2018-12-02 14:42:00|United Kingdom|    84952|\n",
            "|   536765|       null|      19|      0.0|      null|2018-12-02 14:43:00|United Kingdom|    84952|\n",
            "|   536995|       null|      57|      0.0|      null|2018-12-03 15:29:00|United Kingdom|    35951|\n",
            "|   536996|       null|     -20|      0.0|      null|2018-12-03 15:30:00|United Kingdom|    22712|\n",
            "|   536997|       null|     -20|      0.0|      null|2018-12-03 15:30:00|United Kingdom|    22028|\n",
            "|   536998|       null|      -6|      0.0|      null|2018-12-03 15:30:00|United Kingdom|    85067|\n",
            "|   536999|       null|     110|      0.0|      null|2018-12-03 15:32:00|United Kingdom|    21421|\n",
            "|   537000|       null|     -22|      0.0|      null|2018-12-03 15:32:00|United Kingdom|    21414|\n",
            "|   537001|       null|      -6|      0.0|      null|2018-12-03 15:33:00|United Kingdom|    21653|\n",
            "|   537002|       null|      70|      0.0|      null|2018-12-03 15:33:00|United Kingdom|    21651|\n",
            "+---------+-----------+--------+---------+----------+-------------------+--------------+---------+\n",
            "only showing top 20 rows\n",
            "\n"
          ],
          "name": "stdout"
        }
      ]
    },
    {
      "cell_type": "code",
      "metadata": {
        "colab": {
          "base_uri": "https://localhost:8080/"
        },
        "id": "CpOtlgCYOiv6",
        "outputId": "b1de1a4a-6b10-46e6-916d-10031d238cb4"
      },
      "source": [
        "# Check customerID row show null \n",
        "\n",
        "dt_final_stockcode.where( dt_final_stockcode['customerID'].isNull() ).show()"
      ],
      "execution_count": null,
      "outputs": [
        {
          "output_type": "stream",
          "text": [
            "+---------+--------------------+--------+---------+----------+-------------------+--------------+---------+\n",
            "|InvoiceNo|         Description|Quantity|UnitPrice|CustomerID|    InvoiceDateTime|       Country|StockCode|\n",
            "+---------+--------------------+--------+---------+----------+-------------------+--------------+---------+\n",
            "|   536414|                null|      56|      0.0|      null|2018-12-01 11:52:00|United Kingdom|    22139|\n",
            "|   536544|DECORATIVE ROSE B...|       1|     2.51|      null|2018-12-01 14:32:00|United Kingdom|    21773|\n",
            "|   536544|DECORATIVE CATS B...|       2|     2.51|      null|2018-12-01 14:32:00|United Kingdom|    21774|\n",
            "|   536544|  POLKADOT RAIN HAT |       4|     0.85|      null|2018-12-01 14:32:00|United Kingdom|    21786|\n",
            "|   536544|RAIN PONCHO RETRO...|       2|     1.66|      null|2018-12-01 14:32:00|United Kingdom|    21787|\n",
            "|   536544|  VINTAGE SNAP CARDS|       9|     1.66|      null|2018-12-01 14:32:00|United Kingdom|    21790|\n",
            "|   536544|VINTAGE HEADS AND...|       2|     2.51|      null|2018-12-01 14:32:00|United Kingdom|    21791|\n",
            "|   536544|CHRISTMAS TREE DE...|      10|     0.43|      null|2018-12-01 14:32:00|United Kingdom|    21801|\n",
            "|   536544|CHRISTMAS TREE HE...|       9|     0.43|      null|2018-12-01 14:32:00|United Kingdom|    21802|\n",
            "|   536544|CHRISTMAS TREE ST...|      11|     0.43|      null|2018-12-01 14:32:00|United Kingdom|    21803|\n",
            "|   536544|CHRISTMAS HANGING...|       1|     2.51|      null|2018-12-01 14:32:00|United Kingdom|    21809|\n",
            "|   536544|CHRISTMAS HANGING...|       3|     2.51|      null|2018-12-01 14:32:00|United Kingdom|    21810|\n",
            "|   536544|CHRISTMAS HANGING...|       1|     2.51|      null|2018-12-01 14:32:00|United Kingdom|    21811|\n",
            "|   536544|GLITTER STAR GARL...|       1|     7.62|      null|2018-12-01 14:32:00|United Kingdom|    21821|\n",
            "|   536544|GLITTER CHRISTMAS...|       1|     4.21|      null|2018-12-01 14:32:00|United Kingdom|    21822|\n",
            "|   536544|PAINTED METAL HEA...|       2|     2.98|      null|2018-12-01 14:32:00|United Kingdom|    21823|\n",
            "|   536544|   RED RETROSPOT MUG|       2|     5.91|      null|2018-12-01 14:32:00|United Kingdom|    21844|\n",
            "|   536544|LILAC DIAMANTE PE...|       1|     4.21|      null|2018-12-01 14:32:00|United Kingdom|    21851|\n",
            "|   536544|I CAN ONLY PLEASE...|       1|     3.36|      null|2018-12-01 14:32:00|United Kingdom|    21870|\n",
            "|   536544| SAVE THE PLANET MUG|       5|     3.36|      null|2018-12-01 14:32:00|United Kingdom|    21871|\n",
            "+---------+--------------------+--------+---------+----------+-------------------+--------------+---------+\n",
            "only showing top 20 rows\n",
            "\n"
          ],
          "name": "stdout"
        }
      ]
    },
    {
      "cell_type": "markdown",
      "metadata": {
        "id": "zyhEQbhVOrQT"
      },
      "source": [
        "###Exercise:\n",
        "Data Analyst team inform edit Customer ID show NULL replace by -1"
      ]
    },
    {
      "cell_type": "code",
      "metadata": {
        "colab": {
          "base_uri": "https://localhost:8080/"
        },
        "id": "ehGWEBgmOpwy",
        "outputId": "31037da3-39d7-4c07-af1b-cc343e3345d0"
      },
      "source": [
        "# Write code here\n",
        "dt_customer_notnull = dt_final_stockcode.withColumn(\"CustomerIDUpdate\", when(dt_final_stockcode['customerID'].isNull(), -1).otherwise(dt_final_stockcode['customerID']))\n",
        "\n",
        "dt_customer_notnull.show()"
      ],
      "execution_count": null,
      "outputs": [
        {
          "output_type": "stream",
          "text": [
            "+---------+--------------------+--------+---------+----------+-------------------+--------------+---------+----------------+\n",
            "|InvoiceNo|         Description|Quantity|UnitPrice|CustomerID|    InvoiceDateTime|       Country|StockCode|CustomerIDUpdate|\n",
            "+---------+--------------------+--------+---------+----------+-------------------+--------------+---------+----------------+\n",
            "|   536365|WHITE HANGING HEA...|       6|     2.55|   17850.0|2018-12-01 08:26:00|United Kingdom|    85123|         17850.0|\n",
            "|   536365| WHITE METAL LANTERN|       6|     3.39|   17850.0|2018-12-01 08:26:00|United Kingdom|    71053|         17850.0|\n",
            "|   536365|CREAM CUPID HEART...|       8|     2.75|   17850.0|2018-12-01 08:26:00|United Kingdom|    84406|         17850.0|\n",
            "|   536365|KNITTED UNION FLA...|       6|     3.39|   17850.0|2018-12-01 08:26:00|United Kingdom|    84029|         17850.0|\n",
            "|   536365|RED WOOLLY HOTTIE...|       6|     3.39|   17850.0|2018-12-01 08:26:00|United Kingdom|    84029|         17850.0|\n",
            "|   536365|SET 7 BABUSHKA NE...|       2|     7.65|   17850.0|2018-12-01 08:26:00|United Kingdom|    22752|         17850.0|\n",
            "|   536365|GLASS STAR FROSTE...|       6|     4.25|   17850.0|2018-12-01 08:26:00|United Kingdom|    21730|         17850.0|\n",
            "|   536366|HAND WARMER UNION...|       6|     1.85|   17850.0|2018-12-01 08:28:00|United Kingdom|    22633|         17850.0|\n",
            "|   536366|HAND WARMER RED P...|       6|     1.85|   17850.0|2018-12-01 08:28:00|United Kingdom|    22632|         17850.0|\n",
            "|   536367|ASSORTED COLOUR B...|      32|     1.69|   13047.0|2018-12-01 08:34:00|United Kingdom|    84879|         13047.0|\n",
            "|   536367|POPPY'S PLAYHOUSE...|       6|      2.1|   13047.0|2018-12-01 08:34:00|United Kingdom|    22745|         13047.0|\n",
            "|   536367|POPPY'S PLAYHOUSE...|       6|      2.1|   13047.0|2018-12-01 08:34:00|United Kingdom|    22748|         13047.0|\n",
            "|   536367|FELTCRAFT PRINCES...|       8|     3.75|   13047.0|2018-12-01 08:34:00|United Kingdom|    22749|         13047.0|\n",
            "|   536367|IVORY KNITTED MUG...|       6|     1.65|   13047.0|2018-12-01 08:34:00|United Kingdom|    22310|         13047.0|\n",
            "|   536367|BOX OF 6 ASSORTED...|       6|     4.25|   13047.0|2018-12-01 08:34:00|United Kingdom|    84969|         13047.0|\n",
            "|   536367|BOX OF VINTAGE JI...|       3|     4.95|   13047.0|2018-12-01 08:34:00|United Kingdom|    22623|         13047.0|\n",
            "|   536367|BOX OF VINTAGE AL...|       2|     9.95|   13047.0|2018-12-01 08:34:00|United Kingdom|    22622|         13047.0|\n",
            "|   536367|HOME BUILDING BLO...|       3|     5.95|   13047.0|2018-12-01 08:34:00|United Kingdom|    21754|         13047.0|\n",
            "|   536367|LOVE BUILDING BLO...|       3|     5.95|   13047.0|2018-12-01 08:34:00|United Kingdom|    21755|         13047.0|\n",
            "|   536367|RECIPE BOX WITH M...|       4|     7.95|   13047.0|2018-12-01 08:34:00|United Kingdom|    21777|         13047.0|\n",
            "+---------+--------------------+--------+---------+----------+-------------------+--------------+---------+----------------+\n",
            "only showing top 20 rows\n",
            "\n"
          ],
          "name": "stdout"
        }
      ]
    },
    {
      "cell_type": "markdown",
      "metadata": {
        "id": "djCaUQrXO4pH"
      },
      "source": [
        "###Clean Spark SQL Data\n",
        "\n",
        "Convert Spark DataFrame to TempView or GlobalTempView -------> Use SQL  convert data on TempView"
      ]
    },
    {
      "cell_type": "code",
      "metadata": {
        "colab": {
          "base_uri": "https://localhost:8080/"
        },
        "id": "E1o2jui7OwhP",
        "outputId": "8b21c132-e0f6-481b-dfdd-ea6333832901"
      },
      "source": [
        "dt_final_stockcode.createOrReplaceTempView(\"sales\")\n",
        "dt_sql = spark.sql(\"SELECT * FROM sales\")\n",
        "dt_sql.show()"
      ],
      "execution_count": null,
      "outputs": [
        {
          "output_type": "stream",
          "text": [
            "+---------+--------------------+--------+---------+----------+-------------------+--------------+---------+\n",
            "|InvoiceNo|         Description|Quantity|UnitPrice|CustomerID|    InvoiceDateTime|       Country|StockCode|\n",
            "+---------+--------------------+--------+---------+----------+-------------------+--------------+---------+\n",
            "|   536365|WHITE HANGING HEA...|       6|     2.55|   17850.0|2018-12-01 08:26:00|United Kingdom|    85123|\n",
            "|   536365| WHITE METAL LANTERN|       6|     3.39|   17850.0|2018-12-01 08:26:00|United Kingdom|    71053|\n",
            "|   536365|CREAM CUPID HEART...|       8|     2.75|   17850.0|2018-12-01 08:26:00|United Kingdom|    84406|\n",
            "|   536365|KNITTED UNION FLA...|       6|     3.39|   17850.0|2018-12-01 08:26:00|United Kingdom|    84029|\n",
            "|   536365|RED WOOLLY HOTTIE...|       6|     3.39|   17850.0|2018-12-01 08:26:00|United Kingdom|    84029|\n",
            "|   536365|SET 7 BABUSHKA NE...|       2|     7.65|   17850.0|2018-12-01 08:26:00|United Kingdom|    22752|\n",
            "|   536365|GLASS STAR FROSTE...|       6|     4.25|   17850.0|2018-12-01 08:26:00|United Kingdom|    21730|\n",
            "|   536366|HAND WARMER UNION...|       6|     1.85|   17850.0|2018-12-01 08:28:00|United Kingdom|    22633|\n",
            "|   536366|HAND WARMER RED P...|       6|     1.85|   17850.0|2018-12-01 08:28:00|United Kingdom|    22632|\n",
            "|   536367|ASSORTED COLOUR B...|      32|     1.69|   13047.0|2018-12-01 08:34:00|United Kingdom|    84879|\n",
            "|   536367|POPPY'S PLAYHOUSE...|       6|      2.1|   13047.0|2018-12-01 08:34:00|United Kingdom|    22745|\n",
            "|   536367|POPPY'S PLAYHOUSE...|       6|      2.1|   13047.0|2018-12-01 08:34:00|United Kingdom|    22748|\n",
            "|   536367|FELTCRAFT PRINCES...|       8|     3.75|   13047.0|2018-12-01 08:34:00|United Kingdom|    22749|\n",
            "|   536367|IVORY KNITTED MUG...|       6|     1.65|   13047.0|2018-12-01 08:34:00|United Kingdom|    22310|\n",
            "|   536367|BOX OF 6 ASSORTED...|       6|     4.25|   13047.0|2018-12-01 08:34:00|United Kingdom|    84969|\n",
            "|   536367|BOX OF VINTAGE JI...|       3|     4.95|   13047.0|2018-12-01 08:34:00|United Kingdom|    22623|\n",
            "|   536367|BOX OF VINTAGE AL...|       2|     9.95|   13047.0|2018-12-01 08:34:00|United Kingdom|    22622|\n",
            "|   536367|HOME BUILDING BLO...|       3|     5.95|   13047.0|2018-12-01 08:34:00|United Kingdom|    21754|\n",
            "|   536367|LOVE BUILDING BLO...|       3|     5.95|   13047.0|2018-12-01 08:34:00|United Kingdom|    21755|\n",
            "|   536367|RECIPE BOX WITH M...|       4|     7.95|   13047.0|2018-12-01 08:34:00|United Kingdom|    21777|\n",
            "+---------+--------------------+--------+---------+----------+-------------------+--------------+---------+\n",
            "only showing top 20 rows\n",
            "\n"
          ],
          "name": "stdout"
        }
      ]
    },
    {
      "cell_type": "code",
      "metadata": {
        "colab": {
          "base_uri": "https://localhost:8080/"
        },
        "id": "FxjmLWwtP08e",
        "outputId": "196979a6-931f-40fc-fee0-c397cb4143ea"
      },
      "source": [
        "dt_sql_count = spark.sql(\"SELECT count(*) as cnt_row FROM sales\")\n",
        "dt_sql_count.show()"
      ],
      "execution_count": null,
      "outputs": [
        {
          "output_type": "stream",
          "text": [
            "+-------+\n",
            "|cnt_row|\n",
            "+-------+\n",
            "| 541909|\n",
            "+-------+\n",
            "\n"
          ],
          "name": "stdout"
        }
      ]
    },
    {
      "cell_type": "code",
      "metadata": {
        "colab": {
          "base_uri": "https://localhost:8080/"
        },
        "id": "CJHtAB2xP4Ib",
        "outputId": "466658fb-5afc-44f3-beb1-40063fdfbe3c"
      },
      "source": [
        "dt_sql_count = spark.sql(\"SELECT count(*) as cnt_row, country FROM sales GROUP BY Country ORDER BY cnt_row DESC\")\n",
        "dt_sql_count.show()"
      ],
      "execution_count": null,
      "outputs": [
        {
          "output_type": "stream",
          "text": [
            "+-------+---------------+\n",
            "|cnt_row|        country|\n",
            "+-------+---------------+\n",
            "| 495478| United Kingdom|\n",
            "|   9495|        Germany|\n",
            "|   8557|         France|\n",
            "|   8196|           EIRE|\n",
            "|   2533|          Spain|\n",
            "|   2371|    Netherlands|\n",
            "|   2069|        Belgium|\n",
            "|   2002|    Switzerland|\n",
            "|   1519|       Portugal|\n",
            "|   1259|      Australia|\n",
            "|   1086|         Norway|\n",
            "|    803|          Italy|\n",
            "|    758|Channel Islands|\n",
            "|    695|        Finland|\n",
            "|    622|         Cyprus|\n",
            "|    462|         Sweden|\n",
            "|    446|    Unspecified|\n",
            "|    401|        Austria|\n",
            "|    389|        Denmark|\n",
            "|    358|          Japan|\n",
            "+-------+---------------+\n",
            "only showing top 20 rows\n",
            "\n"
          ],
          "name": "stdout"
        }
      ]
    },
    {
      "cell_type": "code",
      "metadata": {
        "colab": {
          "base_uri": "https://localhost:8080/"
        },
        "id": "NCirvgVOP717",
        "outputId": "d7c46683-b9ea-4657-d858-bbc73f86fd55"
      },
      "source": [
        "dt_sql_valid_price = spark.sql(\"SELECT count(*) as cnt_row FROM sales WHERE UnitPrice > 0 AND Quantity > 0\")\n",
        "dt_sql_valid_price.show()"
      ],
      "execution_count": null,
      "outputs": [
        {
          "output_type": "stream",
          "text": [
            "+-------+\n",
            "|cnt_row|\n",
            "+-------+\n",
            "| 530104|\n",
            "+-------+\n",
            "\n"
          ],
          "name": "stdout"
        }
      ]
    },
    {
      "cell_type": "code",
      "metadata": {
        "colab": {
          "base_uri": "https://localhost:8080/"
        },
        "id": "w2NhRporP_fQ",
        "outputId": "30bc6e1b-b24a-4789-92b7-cc99fabc2081"
      },
      "source": [
        "dt_sql_valid_price = spark.sql(\"SELECT * FROM sales WHERE UnitPrice > 0 AND Quantity > 0\")\n",
        "dt_sql_valid_price.show()"
      ],
      "execution_count": null,
      "outputs": [
        {
          "output_type": "stream",
          "text": [
            "+---------+--------------------+--------+---------+----------+-------------------+--------------+---------+\n",
            "|InvoiceNo|         Description|Quantity|UnitPrice|CustomerID|    InvoiceDateTime|       Country|StockCode|\n",
            "+---------+--------------------+--------+---------+----------+-------------------+--------------+---------+\n",
            "|   536365|WHITE HANGING HEA...|       6|     2.55|   17850.0|2018-12-01 08:26:00|United Kingdom|    85123|\n",
            "|   536365| WHITE METAL LANTERN|       6|     3.39|   17850.0|2018-12-01 08:26:00|United Kingdom|    71053|\n",
            "|   536365|CREAM CUPID HEART...|       8|     2.75|   17850.0|2018-12-01 08:26:00|United Kingdom|    84406|\n",
            "|   536365|KNITTED UNION FLA...|       6|     3.39|   17850.0|2018-12-01 08:26:00|United Kingdom|    84029|\n",
            "|   536365|RED WOOLLY HOTTIE...|       6|     3.39|   17850.0|2018-12-01 08:26:00|United Kingdom|    84029|\n",
            "|   536365|SET 7 BABUSHKA NE...|       2|     7.65|   17850.0|2018-12-01 08:26:00|United Kingdom|    22752|\n",
            "|   536365|GLASS STAR FROSTE...|       6|     4.25|   17850.0|2018-12-01 08:26:00|United Kingdom|    21730|\n",
            "|   536366|HAND WARMER UNION...|       6|     1.85|   17850.0|2018-12-01 08:28:00|United Kingdom|    22633|\n",
            "|   536366|HAND WARMER RED P...|       6|     1.85|   17850.0|2018-12-01 08:28:00|United Kingdom|    22632|\n",
            "|   536367|ASSORTED COLOUR B...|      32|     1.69|   13047.0|2018-12-01 08:34:00|United Kingdom|    84879|\n",
            "|   536367|POPPY'S PLAYHOUSE...|       6|      2.1|   13047.0|2018-12-01 08:34:00|United Kingdom|    22745|\n",
            "|   536367|POPPY'S PLAYHOUSE...|       6|      2.1|   13047.0|2018-12-01 08:34:00|United Kingdom|    22748|\n",
            "|   536367|FELTCRAFT PRINCES...|       8|     3.75|   13047.0|2018-12-01 08:34:00|United Kingdom|    22749|\n",
            "|   536367|IVORY KNITTED MUG...|       6|     1.65|   13047.0|2018-12-01 08:34:00|United Kingdom|    22310|\n",
            "|   536367|BOX OF 6 ASSORTED...|       6|     4.25|   13047.0|2018-12-01 08:34:00|United Kingdom|    84969|\n",
            "|   536367|BOX OF VINTAGE JI...|       3|     4.95|   13047.0|2018-12-01 08:34:00|United Kingdom|    22623|\n",
            "|   536367|BOX OF VINTAGE AL...|       2|     9.95|   13047.0|2018-12-01 08:34:00|United Kingdom|    22622|\n",
            "|   536367|HOME BUILDING BLO...|       3|     5.95|   13047.0|2018-12-01 08:34:00|United Kingdom|    21754|\n",
            "|   536367|LOVE BUILDING BLO...|       3|     5.95|   13047.0|2018-12-01 08:34:00|United Kingdom|    21755|\n",
            "|   536367|RECIPE BOX WITH M...|       4|     7.95|   13047.0|2018-12-01 08:34:00|United Kingdom|    21777|\n",
            "+---------+--------------------+--------+---------+----------+-------------------+--------------+---------+\n",
            "only showing top 20 rows\n",
            "\n"
          ],
          "name": "stdout"
        }
      ]
    },
    {
      "cell_type": "markdown",
      "metadata": {
        "id": "fX4icceCQh6M"
      },
      "source": [
        "### Exercise: \n",
        "1. Select Country USA, InvoiceDateTime column start 2010-12-01 and UnitPrice not over than 3.5 \n",
        "2. Select Country France,  InvoiceDateTime column start 2010-12-05 and UnitPrice not over than 5.5 and Description show Box"
      ]
    },
    {
      "cell_type": "code",
      "metadata": {
        "colab": {
          "base_uri": "https://localhost:8080/"
        },
        "id": "TAhwOlHNQHlz",
        "outputId": "20b53e03-c4db-4a1c-a716-3e4fd4d48f27"
      },
      "source": [
        "# TODO: Select Country USA, InvoiceDateTime column start 2010-12-01 and UnitPrice not over than 3.5\n",
        "dt_sql_usa = spark.sql(\"\"\"\n",
        "SELECT * FROM sales\n",
        "  WHERE InvoiceDateTime >= '2010-12-01'\n",
        "  AND UnitPrice > 3.5\n",
        "  AND Country='USA'\n",
        "\"\"\").show()"
      ],
      "execution_count": null,
      "outputs": [
        {
          "output_type": "stream",
          "text": [
            "+---------+--------------------+--------+---------+----------+-------------------+-------+---------+\n",
            "|InvoiceNo|         Description|Quantity|UnitPrice|CustomerID|    InvoiceDateTime|Country|StockCode|\n",
            "+---------+--------------------+--------+---------+----------+-------------------+-------+---------+\n",
            "|   550644|SET OF 6 SPICE TI...|       7|     3.95|   12733.0|2019-04-19 16:19:00|    USA|    22722|\n",
            "|   550644|SET OF 3 CAKE TIN...|       1|     4.95|   12733.0|2019-04-19 16:19:00|    USA|    22720|\n",
            "|   550644|PINK HAPPY BIRTHD...|       4|     5.45|   12733.0|2019-04-19 16:19:00|    USA|    47590|\n",
            "|   550644|COTTON APRON PANT...|       5|     4.95|   12733.0|2019-04-19 16:19:00|    USA|    22990|\n",
            "|   550644|REGENCY CAKESTAND...|       6|    12.75|   12733.0|2019-04-19 16:19:00|    USA|    22423|\n",
            "|   550644|TEA TIME TEA SET ...|       5|     6.95|   12733.0|2019-04-19 16:19:00|    USA|    37501|\n",
            "|   550644|TEA TIME TEAPOT I...|       4|     4.95|   12733.0|2019-04-19 16:19:00|    USA|    37500|\n",
            "|   570467|SET OF 6 SOLDIER ...|       4|     3.75|   12607.0|2019-10-10 16:06:00|    USA|    22619|\n",
            "|   570467|BAKING SET 9 PIEC...|       3|     4.95|   12607.0|2019-10-10 16:06:00|    USA|    22138|\n",
            "|   570467|DOORMAT SPOTTY HO...|       2|     8.25|   12607.0|2019-10-10 16:06:00|    USA|    21524|\n",
            "|   570467|BLUE HAPPY BIRTHD...|       3|     5.45|   12607.0|2019-10-10 16:06:00|    USA|    47590|\n",
            "|   570467|PINK HAPPY BIRTHD...|       3|     5.45|   12607.0|2019-10-10 16:06:00|    USA|    47590|\n",
            "|   570467|SET OF 4 ENGLISH ...|       4|     3.75|   12607.0|2019-10-10 16:06:00|    USA|    84509|\n",
            "|   570467|STRAWBERRY FAIRY ...|       8|     4.95|   12607.0|2019-10-10 16:06:00|    USA|    22649|\n",
            "|   570467|FRYING PAN RED RE...|       4|     4.25|   12607.0|2019-10-10 16:06:00|    USA|    22199|\n",
            "|   570467|BREAD BIN DINER S...|       1|    16.95|   12607.0|2019-10-10 16:06:00|    USA|    22848|\n",
            "|   570467|MILK PAN BLUE POL...|       4|     3.75|   12607.0|2019-10-10 16:06:00|    USA|    22204|\n",
            "|   570467|  DOORMAT FAIRY CAKE|       2|     8.25|   12607.0|2019-10-10 16:06:00|    USA|    48185|\n",
            "|   570467|RETROSPOT TEA SET...|       3|     4.95|   12607.0|2019-10-10 16:06:00|    USA|    22139|\n",
            "|   570467|SET OF 3 CAKE TIN...|       3|     4.95|   12607.0|2019-10-10 16:06:00|    USA|    22720|\n",
            "+---------+--------------------+--------+---------+----------+-------------------+-------+---------+\n",
            "only showing top 20 rows\n",
            "\n"
          ],
          "name": "stdout"
        }
      ]
    },
    {
      "cell_type": "code",
      "metadata": {
        "colab": {
          "base_uri": "https://localhost:8080/"
        },
        "id": "l7XwakgqQn0u",
        "outputId": "568a5209-b89c-40ef-91ce-643070198882"
      },
      "source": [
        "# TODO: Select Country France,  InvoiceDateTime column start 2010-12-05 and UnitPrice not over than 5.5 and Description show Box\n",
        "dt_sql_france = spark.sql(\"\"\"\n",
        "SELECT * FROM sales\n",
        "  WHERE UnitPrice > 5.5\n",
        "  AND InvoiceDateTime >= '2010-12-05'\n",
        "  AND Country = 'France'\n",
        "  AND LOWER(Description) LIKE '%box%'\n",
        "\"\"\").show()"
      ],
      "execution_count": null,
      "outputs": [
        {
          "output_type": "stream",
          "text": [
            "+---------+--------------------+--------+---------+----------+-------------------+-------+---------+\n",
            "|InvoiceNo|         Description|Quantity|UnitPrice|CustomerID|    InvoiceDateTime|Country|StockCode|\n",
            "+---------+--------------------+--------+---------+----------+-------------------+-------+---------+\n",
            "|   537065|ROSE COTTAGE KEEP...|       8|      8.5|   12567.0|2018-12-05 11:57:00| France|    22968|\n",
            "|   537065|  TOOL BOX SOFT TOY |       6|     8.95|   12567.0|2018-12-05 11:57:00| France|    21055|\n",
            "|   537463|BOOM BOX SPEAKER ...|       4|     5.95|   12681.0|2018-12-07 10:08:00| France|    21064|\n",
            "|   537897|SET 7 BABUSHKA NE...|       2|      8.5|   12683.0|2018-12-09 10:37:00| France|    22752|\n",
            "|   539607|BOOM BOX SPEAKER ...|       4|     5.95|   12681.0|2018-12-20 14:10:00| France|    21065|\n",
            "|   540178|BOOM BOX SPEAKER ...|       2|     5.95|   12681.0|2019-01-05 12:42:00| France|    21064|\n",
            "|   540351|  TOOL BOX SOFT TOY |       1|     8.95|   12735.0|2019-01-06 14:26:00| France|    21055|\n",
            "|   540365|  TOOL BOX SOFT TOY |       3|     8.95|   12413.0|2019-01-06 16:12:00| France|    21055|\n",
            "|   542535|  TOOL BOX SOFT TOY |       5|     8.95|   12735.0|2019-01-28 13:37:00| France|    21055|\n",
            "|   542535|VICTORIAN SEWING ...|       2|     5.95|   12735.0|2019-01-28 13:37:00| France|    21259|\n",
            "|   542735|BOOM BOX SPEAKER ...|       2|     5.95|   12681.0|2019-01-31 15:36:00| France|    21064|\n",
            "|   545181|SET 7 BABUSHKA NE...|       4|      8.5|   12509.0|2019-02-28 14:45:00| France|    22752|\n",
            "|   552826|MARIE ANTOINETTE ...|       2|     12.5|   14277.0|2019-05-11 13:20:00| France|    23072|\n",
            "|   552826|MARIE ANTOINETTE ...|       2|     12.5|   14277.0|2019-05-11 13:20:00| France|    23071|\n",
            "|   552826|PARISIENNE SEWING...|       2|     12.5|   14277.0|2019-05-11 13:20:00| France|    23111|\n",
            "|   553566|PARISIENNE SEWING...|       4|     12.5|   12690.0|2019-05-18 09:09:00| France|    23111|\n",
            "|   556507|SET 7 BABUSHKA NE...|       6|      8.5|   12567.0|2019-06-13 09:55:00| France|    22752|\n",
            "|   562450|SET 7 BABUSHKA NE...|       6|      8.5|   12562.0|2019-08-05 08:40:00| France|    22752|\n",
            "|   563662|RED METAL BOX TOP...|       2|     8.25|   12729.0|2019-08-18 11:40:00| France|    23080|\n",
            "|   563926|BOX OF VINTAGE AL...|       2|    11.95|   12553.0|2019-08-21 14:42:00| France|    22622|\n",
            "+---------+--------------------+--------+---------+----------+-------------------+-------+---------+\n",
            "only showing top 20 rows\n",
            "\n"
          ],
          "name": "stdout"
        }
      ]
    },
    {
      "cell_type": "markdown",
      "metadata": {
        "id": "lGlJkjPqQvqs"
      },
      "source": [
        "## Save cleaned data to CSV\n",
        "\n",
        "Normally Spark to do save many file because computer used many to processing"
      ]
    },
    {
      "cell_type": "code",
      "metadata": {
        "id": "m9D8B2zBQw-B"
      },
      "source": [
        "# Write as partitioned files (use multiple workers)\n",
        "dt_sql_valid_price.write.csv('Cleaned_Data_Now_Final.csv')"
      ],
      "execution_count": null,
      "outputs": []
    },
    {
      "cell_type": "markdown",
      "metadata": {
        "id": "ETvn6d3lQ_E-"
      },
      "source": [
        "You can control Spark used only one"
      ]
    },
    {
      "cell_type": "code",
      "metadata": {
        "id": "dMY-78EYQ6S2"
      },
      "source": [
        "# Write as 1 file (use single worker)\n",
        "dt_sql_valid_price.coalesce(1).write.csv('Cleaned_Data_Now_Final_Single.csv')"
      ],
      "execution_count": null,
      "outputs": []
    }
  ]
}